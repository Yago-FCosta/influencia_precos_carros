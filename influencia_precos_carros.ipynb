{
  "cells": [
    {
      "cell_type": "markdown",
      "metadata": {
        "id": "nreuhmFwAcTA"
      },
      "source": [
        "# O que vende um carro?\n",
        "\n",
        "Centenas de propagandas gratuitas de veículos são publicadas no site todos os dias. Estudar os dados coletados nos últimos anos e determinar quais fatores influenciaram o preço de um veículo."
      ]
    },
    {
      "cell_type": "markdown",
      "metadata": {
        "id": "rcfdH5mYAcTA"
      },
      "source": [
        "## Iniciação"
      ]
    },
    {
      "cell_type": "markdown",
      "metadata": {
        "id": "AM2dhS2XAcTB"
      },
      "source": [
        "Carregando as bibliotecas"
      ]
    },
    {
      "cell_type": "code",
      "execution_count": null,
      "metadata": {
        "id": "UgMVf7YOAcTB"
      },
      "outputs": [],
      "source": [
        "# Carregando todas as bibliotecas\n",
        "import pandas as pd\n",
        "import matplotlib.pyplot as plt\n",
        "import numpy as np\n",
        "import seaborn as sns"
      ]
    },
    {
      "cell_type": "markdown",
      "metadata": {
        "id": "ekjrkVyFAcTB"
      },
      "source": [
        "### Carregue dados"
      ]
    },
    {
      "cell_type": "code",
      "execution_count": null,
      "metadata": {
        "id": "8t_BJwcOAcTB"
      },
      "outputs": [],
      "source": [
        "# Carregue o arquivo com os dados em um DataFrame\n",
        "df = pd.read_csv('/datasets/vehicles_us.csv')\n"
      ]
    },
    {
      "cell_type": "markdown",
      "metadata": {
        "id": "BBemRALEAcTC"
      },
      "source": [
        "### Explore os dados iniciais"
      ]
    },
    {
      "cell_type": "markdown",
      "metadata": {
        "id": "Ze_lHKxGAcTC"
      },
      "source": [
        "O conjunto de dados contém os seguintes campos:\n",
        "- `price`\n",
        "- `model_year`\n",
        "- `model`\n",
        "- `condition`\n",
        "- `cylinders`\n",
        "- `fuel` — gasolina, diesel etc.\n",
        "- `odometer` — a quilometragem do veículo quando a propaganda foi publicada\n",
        "- `transmission`\n",
        "- `paint_color`\n",
        "- `is_4wd` — Se o veículo é 4 por 4 (tipo Booleano)\n",
        "- `date_posted` — a data que a propaganda foi publicada\n",
        "- `days_listed` — dias desde a publicação até a retirada\n"
      ]
    },
    {
      "cell_type": "code",
      "execution_count": null,
      "metadata": {
        "id": "tAEdHZ-wAcTC",
        "outputId": "390f34af-7dad-42b2-9ff1-1fa72396cabb"
      },
      "outputs": [
        {
          "name": "stdout",
          "output_type": "stream",
          "text": [
            "<class 'pandas.core.frame.DataFrame'>\n",
            "RangeIndex: 51525 entries, 0 to 51524\n",
            "Data columns (total 13 columns):\n",
            " #   Column        Non-Null Count  Dtype  \n",
            "---  ------        --------------  -----  \n",
            " 0   price         51525 non-null  int64  \n",
            " 1   model_year    47906 non-null  float64\n",
            " 2   model         51525 non-null  object \n",
            " 3   condition     51525 non-null  object \n",
            " 4   cylinders     46265 non-null  float64\n",
            " 5   fuel          51525 non-null  object \n",
            " 6   odometer      43633 non-null  float64\n",
            " 7   transmission  51525 non-null  object \n",
            " 8   type          51525 non-null  object \n",
            " 9   paint_color   42258 non-null  object \n",
            " 10  is_4wd        25572 non-null  float64\n",
            " 11  date_posted   51525 non-null  object \n",
            " 12  days_listed   51525 non-null  int64  \n",
            "dtypes: float64(4), int64(2), object(7)\n",
            "memory usage: 5.1+ MB\n"
          ]
        }
      ],
      "source": [
        "# imprima as informações gerais/resumidas sobre o DataFrame\n",
        "df.info()\n"
      ]
    },
    {
      "cell_type": "code",
      "execution_count": null,
      "metadata": {
        "id": "TKQf4tHLAcTC",
        "outputId": "61778862-04b7-49f6-d225-37767608db87"
      },
      "outputs": [
        {
          "data": {
            "text/html": [
              "<div>\n",
              "<style scoped>\n",
              "    .dataframe tbody tr th:only-of-type {\n",
              "        vertical-align: middle;\n",
              "    }\n",
              "\n",
              "    .dataframe tbody tr th {\n",
              "        vertical-align: top;\n",
              "    }\n",
              "\n",
              "    .dataframe thead th {\n",
              "        text-align: right;\n",
              "    }\n",
              "</style>\n",
              "<table border=\"1\" class=\"dataframe\">\n",
              "  <thead>\n",
              "    <tr style=\"text-align: right;\">\n",
              "      <th></th>\n",
              "      <th>price</th>\n",
              "      <th>model_year</th>\n",
              "      <th>model</th>\n",
              "      <th>condition</th>\n",
              "      <th>cylinders</th>\n",
              "      <th>fuel</th>\n",
              "      <th>odometer</th>\n",
              "      <th>transmission</th>\n",
              "      <th>type</th>\n",
              "      <th>paint_color</th>\n",
              "      <th>is_4wd</th>\n",
              "      <th>date_posted</th>\n",
              "      <th>days_listed</th>\n",
              "    </tr>\n",
              "  </thead>\n",
              "  <tbody>\n",
              "    <tr>\n",
              "      <th>0</th>\n",
              "      <td>9400</td>\n",
              "      <td>2011.0</td>\n",
              "      <td>bmw x5</td>\n",
              "      <td>good</td>\n",
              "      <td>6.0</td>\n",
              "      <td>gas</td>\n",
              "      <td>145000.0</td>\n",
              "      <td>automatic</td>\n",
              "      <td>SUV</td>\n",
              "      <td>NaN</td>\n",
              "      <td>1.0</td>\n",
              "      <td>2018-06-23</td>\n",
              "      <td>19</td>\n",
              "    </tr>\n",
              "    <tr>\n",
              "      <th>1</th>\n",
              "      <td>25500</td>\n",
              "      <td>NaN</td>\n",
              "      <td>ford f-150</td>\n",
              "      <td>good</td>\n",
              "      <td>6.0</td>\n",
              "      <td>gas</td>\n",
              "      <td>88705.0</td>\n",
              "      <td>automatic</td>\n",
              "      <td>pickup</td>\n",
              "      <td>white</td>\n",
              "      <td>1.0</td>\n",
              "      <td>2018-10-19</td>\n",
              "      <td>50</td>\n",
              "    </tr>\n",
              "    <tr>\n",
              "      <th>2</th>\n",
              "      <td>5500</td>\n",
              "      <td>2013.0</td>\n",
              "      <td>hyundai sonata</td>\n",
              "      <td>like new</td>\n",
              "      <td>4.0</td>\n",
              "      <td>gas</td>\n",
              "      <td>110000.0</td>\n",
              "      <td>automatic</td>\n",
              "      <td>sedan</td>\n",
              "      <td>red</td>\n",
              "      <td>NaN</td>\n",
              "      <td>2019-02-07</td>\n",
              "      <td>79</td>\n",
              "    </tr>\n",
              "    <tr>\n",
              "      <th>3</th>\n",
              "      <td>1500</td>\n",
              "      <td>2003.0</td>\n",
              "      <td>ford f-150</td>\n",
              "      <td>fair</td>\n",
              "      <td>8.0</td>\n",
              "      <td>gas</td>\n",
              "      <td>NaN</td>\n",
              "      <td>automatic</td>\n",
              "      <td>pickup</td>\n",
              "      <td>NaN</td>\n",
              "      <td>NaN</td>\n",
              "      <td>2019-03-22</td>\n",
              "      <td>9</td>\n",
              "    </tr>\n",
              "    <tr>\n",
              "      <th>4</th>\n",
              "      <td>14900</td>\n",
              "      <td>2017.0</td>\n",
              "      <td>chrysler 200</td>\n",
              "      <td>excellent</td>\n",
              "      <td>4.0</td>\n",
              "      <td>gas</td>\n",
              "      <td>80903.0</td>\n",
              "      <td>automatic</td>\n",
              "      <td>sedan</td>\n",
              "      <td>black</td>\n",
              "      <td>NaN</td>\n",
              "      <td>2019-04-02</td>\n",
              "      <td>28</td>\n",
              "    </tr>\n",
              "  </tbody>\n",
              "</table>\n",
              "</div>"
            ],
            "text/plain": [
              "   price  model_year           model  condition  cylinders fuel  odometer  \\\n",
              "0   9400      2011.0          bmw x5       good        6.0  gas  145000.0   \n",
              "1  25500         NaN      ford f-150       good        6.0  gas   88705.0   \n",
              "2   5500      2013.0  hyundai sonata   like new        4.0  gas  110000.0   \n",
              "3   1500      2003.0      ford f-150       fair        8.0  gas       NaN   \n",
              "4  14900      2017.0    chrysler 200  excellent        4.0  gas   80903.0   \n",
              "\n",
              "  transmission    type paint_color  is_4wd date_posted  days_listed  \n",
              "0    automatic     SUV         NaN     1.0  2018-06-23           19  \n",
              "1    automatic  pickup       white     1.0  2018-10-19           50  \n",
              "2    automatic   sedan         red     NaN  2019-02-07           79  \n",
              "3    automatic  pickup         NaN     NaN  2019-03-22            9  \n",
              "4    automatic   sedan       black     NaN  2019-04-02           28  "
            ]
          },
          "execution_count": 4,
          "metadata": {},
          "output_type": "execute_result"
        }
      ],
      "source": [
        "# imprima uma amostragem dos dados\n",
        "df.head()\n"
      ]
    },
    {
      "cell_type": "code",
      "execution_count": null,
      "metadata": {
        "id": "T4GDBm9tAcTD",
        "outputId": "94cf0997-a6a3-474e-82e1-b20a6138bb97"
      },
      "outputs": [
        {
          "data": {
            "text/html": [
              "<div>\n",
              "<style scoped>\n",
              "    .dataframe tbody tr th:only-of-type {\n",
              "        vertical-align: middle;\n",
              "    }\n",
              "\n",
              "    .dataframe tbody tr th {\n",
              "        vertical-align: top;\n",
              "    }\n",
              "\n",
              "    .dataframe thead th {\n",
              "        text-align: right;\n",
              "    }\n",
              "</style>\n",
              "<table border=\"1\" class=\"dataframe\">\n",
              "  <thead>\n",
              "    <tr style=\"text-align: right;\">\n",
              "      <th></th>\n",
              "      <th>price</th>\n",
              "      <th>model_year</th>\n",
              "      <th>model</th>\n",
              "      <th>condition</th>\n",
              "      <th>cylinders</th>\n",
              "      <th>fuel</th>\n",
              "      <th>odometer</th>\n",
              "      <th>transmission</th>\n",
              "      <th>type</th>\n",
              "      <th>paint_color</th>\n",
              "      <th>is_4wd</th>\n",
              "      <th>date_posted</th>\n",
              "      <th>days_listed</th>\n",
              "    </tr>\n",
              "  </thead>\n",
              "  <tbody>\n",
              "    <tr>\n",
              "      <th>51520</th>\n",
              "      <td>9249</td>\n",
              "      <td>2013.0</td>\n",
              "      <td>nissan maxima</td>\n",
              "      <td>like new</td>\n",
              "      <td>6.0</td>\n",
              "      <td>gas</td>\n",
              "      <td>88136.0</td>\n",
              "      <td>automatic</td>\n",
              "      <td>sedan</td>\n",
              "      <td>black</td>\n",
              "      <td>NaN</td>\n",
              "      <td>2018-10-03</td>\n",
              "      <td>37</td>\n",
              "    </tr>\n",
              "    <tr>\n",
              "      <th>51521</th>\n",
              "      <td>2700</td>\n",
              "      <td>2002.0</td>\n",
              "      <td>honda civic</td>\n",
              "      <td>salvage</td>\n",
              "      <td>4.0</td>\n",
              "      <td>gas</td>\n",
              "      <td>181500.0</td>\n",
              "      <td>automatic</td>\n",
              "      <td>sedan</td>\n",
              "      <td>white</td>\n",
              "      <td>NaN</td>\n",
              "      <td>2018-11-14</td>\n",
              "      <td>22</td>\n",
              "    </tr>\n",
              "    <tr>\n",
              "      <th>51522</th>\n",
              "      <td>3950</td>\n",
              "      <td>2009.0</td>\n",
              "      <td>hyundai sonata</td>\n",
              "      <td>excellent</td>\n",
              "      <td>4.0</td>\n",
              "      <td>gas</td>\n",
              "      <td>128000.0</td>\n",
              "      <td>automatic</td>\n",
              "      <td>sedan</td>\n",
              "      <td>blue</td>\n",
              "      <td>NaN</td>\n",
              "      <td>2018-11-15</td>\n",
              "      <td>32</td>\n",
              "    </tr>\n",
              "    <tr>\n",
              "      <th>51523</th>\n",
              "      <td>7455</td>\n",
              "      <td>2013.0</td>\n",
              "      <td>toyota corolla</td>\n",
              "      <td>good</td>\n",
              "      <td>4.0</td>\n",
              "      <td>gas</td>\n",
              "      <td>139573.0</td>\n",
              "      <td>automatic</td>\n",
              "      <td>sedan</td>\n",
              "      <td>black</td>\n",
              "      <td>NaN</td>\n",
              "      <td>2018-07-02</td>\n",
              "      <td>71</td>\n",
              "    </tr>\n",
              "    <tr>\n",
              "      <th>51524</th>\n",
              "      <td>6300</td>\n",
              "      <td>2014.0</td>\n",
              "      <td>nissan altima</td>\n",
              "      <td>good</td>\n",
              "      <td>4.0</td>\n",
              "      <td>gas</td>\n",
              "      <td>NaN</td>\n",
              "      <td>automatic</td>\n",
              "      <td>sedan</td>\n",
              "      <td>NaN</td>\n",
              "      <td>NaN</td>\n",
              "      <td>2018-06-05</td>\n",
              "      <td>10</td>\n",
              "    </tr>\n",
              "  </tbody>\n",
              "</table>\n",
              "</div>"
            ],
            "text/plain": [
              "       price  model_year           model  condition  cylinders fuel  odometer  \\\n",
              "51520   9249      2013.0   nissan maxima   like new        6.0  gas   88136.0   \n",
              "51521   2700      2002.0     honda civic    salvage        4.0  gas  181500.0   \n",
              "51522   3950      2009.0  hyundai sonata  excellent        4.0  gas  128000.0   \n",
              "51523   7455      2013.0  toyota corolla       good        4.0  gas  139573.0   \n",
              "51524   6300      2014.0   nissan altima       good        4.0  gas       NaN   \n",
              "\n",
              "      transmission   type paint_color  is_4wd date_posted  days_listed  \n",
              "51520    automatic  sedan       black     NaN  2018-10-03           37  \n",
              "51521    automatic  sedan       white     NaN  2018-11-14           22  \n",
              "51522    automatic  sedan        blue     NaN  2018-11-15           32  \n",
              "51523    automatic  sedan       black     NaN  2018-07-02           71  \n",
              "51524    automatic  sedan         NaN     NaN  2018-06-05           10  "
            ]
          },
          "execution_count": 5,
          "metadata": {},
          "output_type": "execute_result"
        }
      ],
      "source": [
        "df.tail()"
      ]
    },
    {
      "cell_type": "code",
      "execution_count": null,
      "metadata": {
        "id": "KpCNQrihAcTD",
        "outputId": "82184a58-61dd-4e28-cc32-f2bd11122918"
      },
      "outputs": [
        {
          "data": {
            "text/html": [
              "<div>\n",
              "<style scoped>\n",
              "    .dataframe tbody tr th:only-of-type {\n",
              "        vertical-align: middle;\n",
              "    }\n",
              "\n",
              "    .dataframe tbody tr th {\n",
              "        vertical-align: top;\n",
              "    }\n",
              "\n",
              "    .dataframe thead th {\n",
              "        text-align: right;\n",
              "    }\n",
              "</style>\n",
              "<table border=\"1\" class=\"dataframe\">\n",
              "  <thead>\n",
              "    <tr style=\"text-align: right;\">\n",
              "      <th></th>\n",
              "      <th>price</th>\n",
              "      <th>model_year</th>\n",
              "      <th>cylinders</th>\n",
              "      <th>odometer</th>\n",
              "      <th>is_4wd</th>\n",
              "      <th>days_listed</th>\n",
              "    </tr>\n",
              "  </thead>\n",
              "  <tbody>\n",
              "    <tr>\n",
              "      <th>count</th>\n",
              "      <td>51525.000000</td>\n",
              "      <td>47906.000000</td>\n",
              "      <td>46265.000000</td>\n",
              "      <td>43633.000000</td>\n",
              "      <td>25572.0</td>\n",
              "      <td>51525.00000</td>\n",
              "    </tr>\n",
              "    <tr>\n",
              "      <th>mean</th>\n",
              "      <td>12132.464920</td>\n",
              "      <td>2009.750470</td>\n",
              "      <td>6.125235</td>\n",
              "      <td>115553.461738</td>\n",
              "      <td>1.0</td>\n",
              "      <td>39.55476</td>\n",
              "    </tr>\n",
              "    <tr>\n",
              "      <th>std</th>\n",
              "      <td>10040.803015</td>\n",
              "      <td>6.282065</td>\n",
              "      <td>1.660360</td>\n",
              "      <td>65094.611341</td>\n",
              "      <td>0.0</td>\n",
              "      <td>28.20427</td>\n",
              "    </tr>\n",
              "    <tr>\n",
              "      <th>min</th>\n",
              "      <td>1.000000</td>\n",
              "      <td>1908.000000</td>\n",
              "      <td>3.000000</td>\n",
              "      <td>0.000000</td>\n",
              "      <td>1.0</td>\n",
              "      <td>0.00000</td>\n",
              "    </tr>\n",
              "    <tr>\n",
              "      <th>25%</th>\n",
              "      <td>5000.000000</td>\n",
              "      <td>2006.000000</td>\n",
              "      <td>4.000000</td>\n",
              "      <td>70000.000000</td>\n",
              "      <td>1.0</td>\n",
              "      <td>19.00000</td>\n",
              "    </tr>\n",
              "    <tr>\n",
              "      <th>50%</th>\n",
              "      <td>9000.000000</td>\n",
              "      <td>2011.000000</td>\n",
              "      <td>6.000000</td>\n",
              "      <td>113000.000000</td>\n",
              "      <td>1.0</td>\n",
              "      <td>33.00000</td>\n",
              "    </tr>\n",
              "    <tr>\n",
              "      <th>75%</th>\n",
              "      <td>16839.000000</td>\n",
              "      <td>2014.000000</td>\n",
              "      <td>8.000000</td>\n",
              "      <td>155000.000000</td>\n",
              "      <td>1.0</td>\n",
              "      <td>53.00000</td>\n",
              "    </tr>\n",
              "    <tr>\n",
              "      <th>max</th>\n",
              "      <td>375000.000000</td>\n",
              "      <td>2019.000000</td>\n",
              "      <td>12.000000</td>\n",
              "      <td>990000.000000</td>\n",
              "      <td>1.0</td>\n",
              "      <td>271.00000</td>\n",
              "    </tr>\n",
              "  </tbody>\n",
              "</table>\n",
              "</div>"
            ],
            "text/plain": [
              "               price    model_year     cylinders       odometer   is_4wd  \\\n",
              "count   51525.000000  47906.000000  46265.000000   43633.000000  25572.0   \n",
              "mean    12132.464920   2009.750470      6.125235  115553.461738      1.0   \n",
              "std     10040.803015      6.282065      1.660360   65094.611341      0.0   \n",
              "min         1.000000   1908.000000      3.000000       0.000000      1.0   \n",
              "25%      5000.000000   2006.000000      4.000000   70000.000000      1.0   \n",
              "50%      9000.000000   2011.000000      6.000000  113000.000000      1.0   \n",
              "75%     16839.000000   2014.000000      8.000000  155000.000000      1.0   \n",
              "max    375000.000000   2019.000000     12.000000  990000.000000      1.0   \n",
              "\n",
              "       days_listed  \n",
              "count  51525.00000  \n",
              "mean      39.55476  \n",
              "std       28.20427  \n",
              "min        0.00000  \n",
              "25%       19.00000  \n",
              "50%       33.00000  \n",
              "75%       53.00000  \n",
              "max      271.00000  "
            ]
          },
          "execution_count": 6,
          "metadata": {},
          "output_type": "execute_result"
        }
      ],
      "source": [
        "df.describe()"
      ]
    },
    {
      "cell_type": "code",
      "execution_count": null,
      "metadata": {
        "id": "SgO_EmQNAcTD",
        "outputId": "94e4faac-10f5-4c87-d5b9-cdc697d175a3"
      },
      "outputs": [
        {
          "data": {
            "text/html": [
              "<div>\n",
              "<style scoped>\n",
              "    .dataframe tbody tr th:only-of-type {\n",
              "        vertical-align: middle;\n",
              "    }\n",
              "\n",
              "    .dataframe tbody tr th {\n",
              "        vertical-align: top;\n",
              "    }\n",
              "\n",
              "    .dataframe thead th {\n",
              "        text-align: right;\n",
              "    }\n",
              "</style>\n",
              "<table border=\"1\" class=\"dataframe\">\n",
              "  <thead>\n",
              "    <tr style=\"text-align: right;\">\n",
              "      <th></th>\n",
              "      <th>price</th>\n",
              "      <th>model_year</th>\n",
              "      <th>cylinders</th>\n",
              "      <th>odometer</th>\n",
              "      <th>is_4wd</th>\n",
              "      <th>days_listed</th>\n",
              "    </tr>\n",
              "  </thead>\n",
              "  <tbody>\n",
              "    <tr>\n",
              "      <th>price</th>\n",
              "      <td>1.000000</td>\n",
              "      <td>0.428656</td>\n",
              "      <td>0.296627</td>\n",
              "      <td>-0.420299</td>\n",
              "      <td>NaN</td>\n",
              "      <td>-0.000682</td>\n",
              "    </tr>\n",
              "    <tr>\n",
              "      <th>model_year</th>\n",
              "      <td>0.428656</td>\n",
              "      <td>1.000000</td>\n",
              "      <td>-0.148040</td>\n",
              "      <td>-0.473948</td>\n",
              "      <td>NaN</td>\n",
              "      <td>-0.005703</td>\n",
              "    </tr>\n",
              "    <tr>\n",
              "      <th>cylinders</th>\n",
              "      <td>0.296627</td>\n",
              "      <td>-0.148040</td>\n",
              "      <td>1.000000</td>\n",
              "      <td>0.090160</td>\n",
              "      <td>NaN</td>\n",
              "      <td>0.005517</td>\n",
              "    </tr>\n",
              "    <tr>\n",
              "      <th>odometer</th>\n",
              "      <td>-0.420299</td>\n",
              "      <td>-0.473948</td>\n",
              "      <td>0.090160</td>\n",
              "      <td>1.000000</td>\n",
              "      <td>NaN</td>\n",
              "      <td>0.003804</td>\n",
              "    </tr>\n",
              "    <tr>\n",
              "      <th>is_4wd</th>\n",
              "      <td>NaN</td>\n",
              "      <td>NaN</td>\n",
              "      <td>NaN</td>\n",
              "      <td>NaN</td>\n",
              "      <td>NaN</td>\n",
              "      <td>NaN</td>\n",
              "    </tr>\n",
              "    <tr>\n",
              "      <th>days_listed</th>\n",
              "      <td>-0.000682</td>\n",
              "      <td>-0.005703</td>\n",
              "      <td>0.005517</td>\n",
              "      <td>0.003804</td>\n",
              "      <td>NaN</td>\n",
              "      <td>1.000000</td>\n",
              "    </tr>\n",
              "  </tbody>\n",
              "</table>\n",
              "</div>"
            ],
            "text/plain": [
              "                price  model_year  cylinders  odometer  is_4wd  days_listed\n",
              "price        1.000000    0.428656   0.296627 -0.420299     NaN    -0.000682\n",
              "model_year   0.428656    1.000000  -0.148040 -0.473948     NaN    -0.005703\n",
              "cylinders    0.296627   -0.148040   1.000000  0.090160     NaN     0.005517\n",
              "odometer    -0.420299   -0.473948   0.090160  1.000000     NaN     0.003804\n",
              "is_4wd            NaN         NaN        NaN       NaN     NaN          NaN\n",
              "days_listed -0.000682   -0.005703   0.005517  0.003804     NaN     1.000000"
            ]
          },
          "execution_count": 7,
          "metadata": {},
          "output_type": "execute_result"
        }
      ],
      "source": [
        "df.corr()"
      ]
    },
    {
      "cell_type": "code",
      "execution_count": null,
      "metadata": {
        "id": "nZeCgPhqAcTD",
        "outputId": "8cd04544-bf23-4d95-d9ed-3a79e660910e"
      },
      "outputs": [
        {
          "data": {
            "text/plain": [
              "is_4wd          0.503697\n",
              "paint_color     0.179854\n",
              "odometer        0.153168\n",
              "cylinders       0.102086\n",
              "model_year      0.070238\n",
              "price           0.000000\n",
              "model           0.000000\n",
              "condition       0.000000\n",
              "fuel            0.000000\n",
              "transmission    0.000000\n",
              "type            0.000000\n",
              "date_posted     0.000000\n",
              "days_listed     0.000000\n",
              "dtype: float64"
            ]
          },
          "execution_count": 8,
          "metadata": {},
          "output_type": "execute_result"
        }
      ],
      "source": [
        "df.isna().mean().sort_values(ascending = False)"
      ]
    },
    {
      "cell_type": "markdown",
      "metadata": {
        "id": "tM1vlLxsAcTD"
      },
      "source": [
        "Depois de fazer uma breve análise sobre os dados foi percebido que no DataFrame existem 51525 linhas e 13 colunas, e que existem colunas com dados faltantes, como por exemplo: model_year (7.0%), cylinders(10.2%), odometer (15.3%), paint_color (17.9%) e is_4wd (50,4%). Os dados podem estar faltando por motivos de importação, erro humano, desconhecimento do veículo e outros fatores, antes de tratar esses valores, vou procurar uma relação entre eles e as demais colunas e o resultado esperado do projeto.\n",
        "\n",
        "Além disso, por uma análise inicial, não foi demosntrado nenhuma correlação forte entre os dados, mas vamos verificar mais adiante isso.\n",
        "\n",
        "Além disso é possível perceber que existem valores muito baixos para preços de carro, ondo o mínimo é de 1.00."
      ]
    },
    {
      "cell_type": "markdown",
      "metadata": {
        "id": "L2OTk-rOAcTE"
      },
      "source": [
        "## Cuide dos valores ausentes (se houver algum)"
      ]
    },
    {
      "cell_type": "markdown",
      "metadata": {
        "id": "tLMqlVrUAcTE"
      },
      "source": [
        "Começar a visualizar os dados por coluna:"
      ]
    },
    {
      "cell_type": "markdown",
      "metadata": {
        "id": "PA1q8uU3AcTE"
      },
      "source": [
        "**Model_Year**"
      ]
    },
    {
      "cell_type": "code",
      "execution_count": null,
      "metadata": {
        "id": "xaoMJ285AcTE",
        "outputId": "d0f8b588-5d21-400c-c32c-e79a2a6896b8"
      },
      "outputs": [
        {
          "data": {
            "text/plain": [
              "3619"
            ]
          },
          "execution_count": 9,
          "metadata": {},
          "output_type": "execute_result"
        }
      ],
      "source": [
        "df['model_year'].isnull().sum()"
      ]
    },
    {
      "cell_type": "code",
      "execution_count": null,
      "metadata": {
        "id": "_2LE7CNUAcTE",
        "outputId": "ab0453ba-6acc-4ddb-b120-95c2625caf18"
      },
      "outputs": [
        {
          "data": {
            "text/html": [
              "<div>\n",
              "<style scoped>\n",
              "    .dataframe tbody tr th:only-of-type {\n",
              "        vertical-align: middle;\n",
              "    }\n",
              "\n",
              "    .dataframe tbody tr th {\n",
              "        vertical-align: top;\n",
              "    }\n",
              "\n",
              "    .dataframe thead th {\n",
              "        text-align: right;\n",
              "    }\n",
              "</style>\n",
              "<table border=\"1\" class=\"dataframe\">\n",
              "  <thead>\n",
              "    <tr style=\"text-align: right;\">\n",
              "      <th></th>\n",
              "      <th>price</th>\n",
              "      <th>model_year</th>\n",
              "      <th>model</th>\n",
              "      <th>condition</th>\n",
              "      <th>cylinders</th>\n",
              "      <th>fuel</th>\n",
              "      <th>odometer</th>\n",
              "      <th>transmission</th>\n",
              "      <th>type</th>\n",
              "      <th>paint_color</th>\n",
              "      <th>is_4wd</th>\n",
              "      <th>date_posted</th>\n",
              "      <th>days_listed</th>\n",
              "    </tr>\n",
              "  </thead>\n",
              "  <tbody>\n",
              "    <tr>\n",
              "      <th>1</th>\n",
              "      <td>25500</td>\n",
              "      <td>NaN</td>\n",
              "      <td>ford f-150</td>\n",
              "      <td>good</td>\n",
              "      <td>6.0</td>\n",
              "      <td>gas</td>\n",
              "      <td>88705.0</td>\n",
              "      <td>automatic</td>\n",
              "      <td>pickup</td>\n",
              "      <td>white</td>\n",
              "      <td>1.0</td>\n",
              "      <td>2018-10-19</td>\n",
              "      <td>50</td>\n",
              "    </tr>\n",
              "    <tr>\n",
              "      <th>20</th>\n",
              "      <td>6990</td>\n",
              "      <td>NaN</td>\n",
              "      <td>chevrolet tahoe</td>\n",
              "      <td>excellent</td>\n",
              "      <td>8.0</td>\n",
              "      <td>gas</td>\n",
              "      <td>147485.0</td>\n",
              "      <td>automatic</td>\n",
              "      <td>SUV</td>\n",
              "      <td>silver</td>\n",
              "      <td>1.0</td>\n",
              "      <td>2018-08-05</td>\n",
              "      <td>28</td>\n",
              "    </tr>\n",
              "    <tr>\n",
              "      <th>65</th>\n",
              "      <td>12800</td>\n",
              "      <td>NaN</td>\n",
              "      <td>ford f-150</td>\n",
              "      <td>excellent</td>\n",
              "      <td>6.0</td>\n",
              "      <td>gas</td>\n",
              "      <td>108500.0</td>\n",
              "      <td>automatic</td>\n",
              "      <td>pickup</td>\n",
              "      <td>white</td>\n",
              "      <td>NaN</td>\n",
              "      <td>2018-09-23</td>\n",
              "      <td>15</td>\n",
              "    </tr>\n",
              "    <tr>\n",
              "      <th>69</th>\n",
              "      <td>7800</td>\n",
              "      <td>NaN</td>\n",
              "      <td>ford f-150</td>\n",
              "      <td>like new</td>\n",
              "      <td>8.0</td>\n",
              "      <td>gas</td>\n",
              "      <td>97510.0</td>\n",
              "      <td>automatic</td>\n",
              "      <td>truck</td>\n",
              "      <td>white</td>\n",
              "      <td>1.0</td>\n",
              "      <td>2019-02-20</td>\n",
              "      <td>39</td>\n",
              "    </tr>\n",
              "    <tr>\n",
              "      <th>72</th>\n",
              "      <td>3650</td>\n",
              "      <td>NaN</td>\n",
              "      <td>subaru impreza</td>\n",
              "      <td>excellent</td>\n",
              "      <td>NaN</td>\n",
              "      <td>gas</td>\n",
              "      <td>74000.0</td>\n",
              "      <td>automatic</td>\n",
              "      <td>sedan</td>\n",
              "      <td>blue</td>\n",
              "      <td>1.0</td>\n",
              "      <td>2018-08-07</td>\n",
              "      <td>60</td>\n",
              "    </tr>\n",
              "  </tbody>\n",
              "</table>\n",
              "</div>"
            ],
            "text/plain": [
              "    price  model_year            model  condition  cylinders fuel  odometer  \\\n",
              "1   25500         NaN       ford f-150       good        6.0  gas   88705.0   \n",
              "20   6990         NaN  chevrolet tahoe  excellent        8.0  gas  147485.0   \n",
              "65  12800         NaN       ford f-150  excellent        6.0  gas  108500.0   \n",
              "69   7800         NaN       ford f-150   like new        8.0  gas   97510.0   \n",
              "72   3650         NaN   subaru impreza  excellent        NaN  gas   74000.0   \n",
              "\n",
              "   transmission    type paint_color  is_4wd date_posted  days_listed  \n",
              "1     automatic  pickup       white     1.0  2018-10-19           50  \n",
              "20    automatic     SUV      silver     1.0  2018-08-05           28  \n",
              "65    automatic  pickup       white     NaN  2018-09-23           15  \n",
              "69    automatic   truck       white     1.0  2019-02-20           39  \n",
              "72    automatic   sedan        blue     1.0  2018-08-07           60  "
            ]
          },
          "execution_count": 10,
          "metadata": {},
          "output_type": "execute_result"
        }
      ],
      "source": [
        "df[df['model_year'].isnull()].head()"
      ]
    },
    {
      "cell_type": "markdown",
      "metadata": {
        "id": "MApPajGYAcTE"
      },
      "source": [
        "Por enquanto não vi uma relação entre os dados faltantes em model_years e demais colunas. Vou deixar esses valores assim e se precisar eu trabalho eles mais tarde."
      ]
    },
    {
      "cell_type": "markdown",
      "metadata": {
        "id": "ZlAGBHvyAcTF"
      },
      "source": [
        "## **cylinders**"
      ]
    },
    {
      "cell_type": "code",
      "execution_count": null,
      "metadata": {
        "id": "a5RCo_8NAcTF",
        "outputId": "d2300cce-802a-4013-f532-9a4891522be5"
      },
      "outputs": [
        {
          "data": {
            "text/html": [
              "<div>\n",
              "<style scoped>\n",
              "    .dataframe tbody tr th:only-of-type {\n",
              "        vertical-align: middle;\n",
              "    }\n",
              "\n",
              "    .dataframe tbody tr th {\n",
              "        vertical-align: top;\n",
              "    }\n",
              "\n",
              "    .dataframe thead th {\n",
              "        text-align: right;\n",
              "    }\n",
              "</style>\n",
              "<table border=\"1\" class=\"dataframe\">\n",
              "  <thead>\n",
              "    <tr style=\"text-align: right;\">\n",
              "      <th></th>\n",
              "      <th>price</th>\n",
              "      <th>model_year</th>\n",
              "      <th>model</th>\n",
              "      <th>condition</th>\n",
              "      <th>cylinders</th>\n",
              "      <th>fuel</th>\n",
              "      <th>odometer</th>\n",
              "      <th>transmission</th>\n",
              "      <th>type</th>\n",
              "      <th>paint_color</th>\n",
              "      <th>is_4wd</th>\n",
              "      <th>date_posted</th>\n",
              "      <th>days_listed</th>\n",
              "    </tr>\n",
              "  </thead>\n",
              "  <tbody>\n",
              "    <tr>\n",
              "      <th>9</th>\n",
              "      <td>9200</td>\n",
              "      <td>2008.0</td>\n",
              "      <td>honda pilot</td>\n",
              "      <td>excellent</td>\n",
              "      <td>NaN</td>\n",
              "      <td>gas</td>\n",
              "      <td>147191.0</td>\n",
              "      <td>automatic</td>\n",
              "      <td>SUV</td>\n",
              "      <td>blue</td>\n",
              "      <td>1.0</td>\n",
              "      <td>2019-02-15</td>\n",
              "      <td>17</td>\n",
              "    </tr>\n",
              "    <tr>\n",
              "      <th>36</th>\n",
              "      <td>10499</td>\n",
              "      <td>2013.0</td>\n",
              "      <td>chrysler 300</td>\n",
              "      <td>good</td>\n",
              "      <td>NaN</td>\n",
              "      <td>gas</td>\n",
              "      <td>88042.0</td>\n",
              "      <td>automatic</td>\n",
              "      <td>sedan</td>\n",
              "      <td>NaN</td>\n",
              "      <td>NaN</td>\n",
              "      <td>2018-05-05</td>\n",
              "      <td>22</td>\n",
              "    </tr>\n",
              "    <tr>\n",
              "      <th>37</th>\n",
              "      <td>7500</td>\n",
              "      <td>2005.0</td>\n",
              "      <td>toyota tacoma</td>\n",
              "      <td>good</td>\n",
              "      <td>NaN</td>\n",
              "      <td>gas</td>\n",
              "      <td>160000.0</td>\n",
              "      <td>automatic</td>\n",
              "      <td>pickup</td>\n",
              "      <td>NaN</td>\n",
              "      <td>NaN</td>\n",
              "      <td>2018-07-22</td>\n",
              "      <td>44</td>\n",
              "    </tr>\n",
              "    <tr>\n",
              "      <th>59</th>\n",
              "      <td>5200</td>\n",
              "      <td>2006.0</td>\n",
              "      <td>toyota highlander</td>\n",
              "      <td>good</td>\n",
              "      <td>NaN</td>\n",
              "      <td>gas</td>\n",
              "      <td>186000.0</td>\n",
              "      <td>automatic</td>\n",
              "      <td>SUV</td>\n",
              "      <td>green</td>\n",
              "      <td>NaN</td>\n",
              "      <td>2018-12-20</td>\n",
              "      <td>2</td>\n",
              "    </tr>\n",
              "    <tr>\n",
              "      <th>63</th>\n",
              "      <td>30000</td>\n",
              "      <td>1966.0</td>\n",
              "      <td>ford mustang</td>\n",
              "      <td>excellent</td>\n",
              "      <td>NaN</td>\n",
              "      <td>gas</td>\n",
              "      <td>51000.0</td>\n",
              "      <td>manual</td>\n",
              "      <td>convertible</td>\n",
              "      <td>red</td>\n",
              "      <td>NaN</td>\n",
              "      <td>2019-01-23</td>\n",
              "      <td>17</td>\n",
              "    </tr>\n",
              "    <tr>\n",
              "      <th>...</th>\n",
              "      <td>...</td>\n",
              "      <td>...</td>\n",
              "      <td>...</td>\n",
              "      <td>...</td>\n",
              "      <td>...</td>\n",
              "      <td>...</td>\n",
              "      <td>...</td>\n",
              "      <td>...</td>\n",
              "      <td>...</td>\n",
              "      <td>...</td>\n",
              "      <td>...</td>\n",
              "      <td>...</td>\n",
              "      <td>...</td>\n",
              "    </tr>\n",
              "    <tr>\n",
              "      <th>51429</th>\n",
              "      <td>3250</td>\n",
              "      <td>2004.0</td>\n",
              "      <td>toyota camry</td>\n",
              "      <td>good</td>\n",
              "      <td>NaN</td>\n",
              "      <td>gas</td>\n",
              "      <td>179412.0</td>\n",
              "      <td>automatic</td>\n",
              "      <td>sedan</td>\n",
              "      <td>NaN</td>\n",
              "      <td>NaN</td>\n",
              "      <td>2018-07-02</td>\n",
              "      <td>25</td>\n",
              "    </tr>\n",
              "    <tr>\n",
              "      <th>51442</th>\n",
              "      <td>28990</td>\n",
              "      <td>2018.0</td>\n",
              "      <td>ford f150</td>\n",
              "      <td>excellent</td>\n",
              "      <td>NaN</td>\n",
              "      <td>gas</td>\n",
              "      <td>10152.0</td>\n",
              "      <td>automatic</td>\n",
              "      <td>truck</td>\n",
              "      <td>white</td>\n",
              "      <td>1.0</td>\n",
              "      <td>2018-06-13</td>\n",
              "      <td>47</td>\n",
              "    </tr>\n",
              "    <tr>\n",
              "      <th>51460</th>\n",
              "      <td>5995</td>\n",
              "      <td>2007.0</td>\n",
              "      <td>ford fusion</td>\n",
              "      <td>excellent</td>\n",
              "      <td>NaN</td>\n",
              "      <td>gas</td>\n",
              "      <td>88977.0</td>\n",
              "      <td>manual</td>\n",
              "      <td>sedan</td>\n",
              "      <td>silver</td>\n",
              "      <td>NaN</td>\n",
              "      <td>2019-03-27</td>\n",
              "      <td>66</td>\n",
              "    </tr>\n",
              "    <tr>\n",
              "      <th>51477</th>\n",
              "      <td>6499</td>\n",
              "      <td>2007.0</td>\n",
              "      <td>acura tl</td>\n",
              "      <td>good</td>\n",
              "      <td>NaN</td>\n",
              "      <td>gas</td>\n",
              "      <td>112119.0</td>\n",
              "      <td>automatic</td>\n",
              "      <td>sedan</td>\n",
              "      <td>white</td>\n",
              "      <td>NaN</td>\n",
              "      <td>2018-06-22</td>\n",
              "      <td>28</td>\n",
              "    </tr>\n",
              "    <tr>\n",
              "      <th>51486</th>\n",
              "      <td>5895</td>\n",
              "      <td>2009.0</td>\n",
              "      <td>hyundai santa fe</td>\n",
              "      <td>excellent</td>\n",
              "      <td>NaN</td>\n",
              "      <td>gas</td>\n",
              "      <td>NaN</td>\n",
              "      <td>automatic</td>\n",
              "      <td>other</td>\n",
              "      <td>blue</td>\n",
              "      <td>NaN</td>\n",
              "      <td>2018-06-30</td>\n",
              "      <td>44</td>\n",
              "    </tr>\n",
              "  </tbody>\n",
              "</table>\n",
              "<p>5260 rows × 13 columns</p>\n",
              "</div>"
            ],
            "text/plain": [
              "       price  model_year              model  condition  cylinders fuel  \\\n",
              "9       9200      2008.0        honda pilot  excellent        NaN  gas   \n",
              "36     10499      2013.0       chrysler 300       good        NaN  gas   \n",
              "37      7500      2005.0      toyota tacoma       good        NaN  gas   \n",
              "59      5200      2006.0  toyota highlander       good        NaN  gas   \n",
              "63     30000      1966.0       ford mustang  excellent        NaN  gas   \n",
              "...      ...         ...                ...        ...        ...  ...   \n",
              "51429   3250      2004.0       toyota camry       good        NaN  gas   \n",
              "51442  28990      2018.0          ford f150  excellent        NaN  gas   \n",
              "51460   5995      2007.0        ford fusion  excellent        NaN  gas   \n",
              "51477   6499      2007.0           acura tl       good        NaN  gas   \n",
              "51486   5895      2009.0   hyundai santa fe  excellent        NaN  gas   \n",
              "\n",
              "       odometer transmission         type paint_color  is_4wd date_posted  \\\n",
              "9      147191.0    automatic          SUV        blue     1.0  2019-02-15   \n",
              "36      88042.0    automatic        sedan         NaN     NaN  2018-05-05   \n",
              "37     160000.0    automatic       pickup         NaN     NaN  2018-07-22   \n",
              "59     186000.0    automatic          SUV       green     NaN  2018-12-20   \n",
              "63      51000.0       manual  convertible         red     NaN  2019-01-23   \n",
              "...         ...          ...          ...         ...     ...         ...   \n",
              "51429  179412.0    automatic        sedan         NaN     NaN  2018-07-02   \n",
              "51442   10152.0    automatic        truck       white     1.0  2018-06-13   \n",
              "51460   88977.0       manual        sedan      silver     NaN  2019-03-27   \n",
              "51477  112119.0    automatic        sedan       white     NaN  2018-06-22   \n",
              "51486       NaN    automatic        other        blue     NaN  2018-06-30   \n",
              "\n",
              "       days_listed  \n",
              "9               17  \n",
              "36              22  \n",
              "37              44  \n",
              "59               2  \n",
              "63              17  \n",
              "...            ...  \n",
              "51429           25  \n",
              "51442           47  \n",
              "51460           66  \n",
              "51477           28  \n",
              "51486           44  \n",
              "\n",
              "[5260 rows x 13 columns]"
            ]
          },
          "execution_count": 11,
          "metadata": {},
          "output_type": "execute_result"
        }
      ],
      "source": [
        "df[df['cylinders'].isnull()]"
      ]
    },
    {
      "cell_type": "code",
      "execution_count": null,
      "metadata": {
        "id": "sZeZO0SVAcTF",
        "outputId": "46594717-33af-4e6f-84bc-34e490559174"
      },
      "outputs": [
        {
          "data": {
            "text/plain": [
              "type\n",
              "SUV            5.905017\n",
              "bus            9.100000\n",
              "convertible    6.963415\n",
              "coupe          6.451225\n",
              "hatchback      4.159215\n",
              "mini-van       5.966151\n",
              "offroad        6.177083\n",
              "other          5.688889\n",
              "pickup         7.187440\n",
              "sedan          4.574601\n",
              "truck          7.498557\n",
              "van            6.404930\n",
              "wagon          4.879448\n",
              "Name: cylinders, dtype: float64"
            ]
          },
          "execution_count": 12,
          "metadata": {},
          "output_type": "execute_result"
        }
      ],
      "source": [
        "df.groupby('type')['cylinders'].mean()"
      ]
    },
    {
      "cell_type": "code",
      "execution_count": null,
      "metadata": {
        "id": "5O8SyYJtAcTF",
        "outputId": "e5e2d865-d0ed-42f1-8d06-039ed3e37c64"
      },
      "outputs": [
        {
          "data": {
            "text/plain": [
              "type\n",
              "SUV             6.0\n",
              "bus            10.0\n",
              "convertible     8.0\n",
              "coupe           6.0\n",
              "hatchback       4.0\n",
              "mini-van        6.0\n",
              "offroad         6.0\n",
              "other           6.0\n",
              "pickup          8.0\n",
              "sedan           4.0\n",
              "truck           8.0\n",
              "van             6.0\n",
              "wagon           4.0\n",
              "Name: cylinders, dtype: float64"
            ]
          },
          "execution_count": 13,
          "metadata": {},
          "output_type": "execute_result"
        }
      ],
      "source": [
        "df.groupby('type')['cylinders'].median()"
      ]
    },
    {
      "cell_type": "markdown",
      "metadata": {
        "id": "oREIX8ATAcTF"
      },
      "source": [
        "Considero que a variável que mais interfere na quantidade de cilindros de um carro é o tipo do mesmo. Por isso vou corrigir os dados faltantes da coluna Cylinders de acordo com a mediana dos cilindros por tipo de veículo."
      ]
    },
    {
      "cell_type": "code",
      "execution_count": null,
      "metadata": {
        "id": "9YmG9vw5AcTG"
      },
      "outputs": [],
      "source": [
        "def cilindros(row):\n",
        "    if pd.isna(row['cylinders']):\n",
        "        if row['type'] == 'SUV' or row['type'] == 'coupe' or row['type'] == 'mini-van' or row['type'] == 'offroad' or row['type'] == 'other' or row['type'] == 'van':\n",
        "            return 6\n",
        "        elif row['type'] == 'bus':\n",
        "            return 10\n",
        "        elif row['type'] == 'convertible' or row['type'] == 'pickup' or row['type'] == 'truck':\n",
        "            return 8\n",
        "        elif row['type'] == 'hatchback' or row['type'] == 'sedan' or row['type'] == 'wagon':\n",
        "            return 4\n",
        "        else:\n",
        "            return 0\n",
        "    else:\n",
        "        return row['cylinders']"
      ]
    },
    {
      "cell_type": "code",
      "execution_count": null,
      "metadata": {
        "id": "ovQv75JhAcTG",
        "outputId": "2239aa99-a431-43be-bed0-05eb01dbfd26"
      },
      "outputs": [
        {
          "data": {
            "text/plain": [
              "6"
            ]
          },
          "execution_count": 15,
          "metadata": {},
          "output_type": "execute_result"
        }
      ],
      "source": [
        "cilindros(df[df['cylinders'].isna()].iloc[3])"
      ]
    },
    {
      "cell_type": "code",
      "execution_count": null,
      "metadata": {
        "id": "q_aV99rqAcTG",
        "outputId": "5eedf546-c35b-4c69-fad1-684c1f8fe8d3"
      },
      "outputs": [
        {
          "data": {
            "text/plain": [
              "8"
            ]
          },
          "execution_count": 16,
          "metadata": {},
          "output_type": "execute_result"
        }
      ],
      "source": [
        "cilindros(df[df['cylinders'].isna()].iloc[4])"
      ]
    },
    {
      "cell_type": "code",
      "execution_count": null,
      "metadata": {
        "id": "bQRyB9yYAcTG",
        "outputId": "b9708074-42f2-44f7-908f-8c0cd534a0c0"
      },
      "outputs": [
        {
          "data": {
            "text/plain": [
              "6"
            ]
          },
          "execution_count": 17,
          "metadata": {},
          "output_type": "execute_result"
        }
      ],
      "source": [
        "cilindros(df[df['cylinders'].isna()].iloc[60])"
      ]
    },
    {
      "cell_type": "code",
      "execution_count": null,
      "metadata": {
        "id": "cWJZ7llnAcTG"
      },
      "outputs": [],
      "source": [
        "df['cylinders'] = df.apply(cilindros, axis=1)"
      ]
    },
    {
      "cell_type": "code",
      "execution_count": null,
      "metadata": {
        "id": "Q9gg2MIPAcTG",
        "outputId": "570de00a-ae64-47e7-a4aa-767934f4e9c9"
      },
      "outputs": [
        {
          "data": {
            "text/html": [
              "<div>\n",
              "<style scoped>\n",
              "    .dataframe tbody tr th:only-of-type {\n",
              "        vertical-align: middle;\n",
              "    }\n",
              "\n",
              "    .dataframe tbody tr th {\n",
              "        vertical-align: top;\n",
              "    }\n",
              "\n",
              "    .dataframe thead th {\n",
              "        text-align: right;\n",
              "    }\n",
              "</style>\n",
              "<table border=\"1\" class=\"dataframe\">\n",
              "  <thead>\n",
              "    <tr style=\"text-align: right;\">\n",
              "      <th></th>\n",
              "      <th>price</th>\n",
              "      <th>model_year</th>\n",
              "      <th>model</th>\n",
              "      <th>condition</th>\n",
              "      <th>cylinders</th>\n",
              "      <th>fuel</th>\n",
              "      <th>odometer</th>\n",
              "      <th>transmission</th>\n",
              "      <th>type</th>\n",
              "      <th>paint_color</th>\n",
              "      <th>is_4wd</th>\n",
              "      <th>date_posted</th>\n",
              "      <th>days_listed</th>\n",
              "    </tr>\n",
              "  </thead>\n",
              "  <tbody>\n",
              "  </tbody>\n",
              "</table>\n",
              "</div>"
            ],
            "text/plain": [
              "Empty DataFrame\n",
              "Columns: [price, model_year, model, condition, cylinders, fuel, odometer, transmission, type, paint_color, is_4wd, date_posted, days_listed]\n",
              "Index: []"
            ]
          },
          "execution_count": 19,
          "metadata": {},
          "output_type": "execute_result"
        }
      ],
      "source": [
        "df[df['cylinders'].isnull()]"
      ]
    },
    {
      "cell_type": "markdown",
      "metadata": {
        "id": "GtQNhPLAAcTH"
      },
      "source": [
        "Os dados ausentes foram todos substituídos"
      ]
    },
    {
      "cell_type": "markdown",
      "metadata": {
        "id": "8QyIHfJ5AcTH"
      },
      "source": [
        "## ***Odometer***"
      ]
    },
    {
      "cell_type": "code",
      "execution_count": null,
      "metadata": {
        "id": "lLf7JVQqAcTH",
        "outputId": "a383da5b-99a0-4336-c848-46955e72ba75"
      },
      "outputs": [
        {
          "data": {
            "text/html": [
              "<div>\n",
              "<style scoped>\n",
              "    .dataframe tbody tr th:only-of-type {\n",
              "        vertical-align: middle;\n",
              "    }\n",
              "\n",
              "    .dataframe tbody tr th {\n",
              "        vertical-align: top;\n",
              "    }\n",
              "\n",
              "    .dataframe thead th {\n",
              "        text-align: right;\n",
              "    }\n",
              "</style>\n",
              "<table border=\"1\" class=\"dataframe\">\n",
              "  <thead>\n",
              "    <tr style=\"text-align: right;\">\n",
              "      <th></th>\n",
              "      <th>price</th>\n",
              "      <th>model_year</th>\n",
              "      <th>model</th>\n",
              "      <th>condition</th>\n",
              "      <th>cylinders</th>\n",
              "      <th>fuel</th>\n",
              "      <th>odometer</th>\n",
              "      <th>transmission</th>\n",
              "      <th>type</th>\n",
              "      <th>paint_color</th>\n",
              "      <th>is_4wd</th>\n",
              "      <th>date_posted</th>\n",
              "      <th>days_listed</th>\n",
              "    </tr>\n",
              "  </thead>\n",
              "  <tbody>\n",
              "    <tr>\n",
              "      <th>3</th>\n",
              "      <td>1500</td>\n",
              "      <td>2003.0</td>\n",
              "      <td>ford f-150</td>\n",
              "      <td>fair</td>\n",
              "      <td>8.0</td>\n",
              "      <td>gas</td>\n",
              "      <td>NaN</td>\n",
              "      <td>automatic</td>\n",
              "      <td>pickup</td>\n",
              "      <td>NaN</td>\n",
              "      <td>NaN</td>\n",
              "      <td>2019-03-22</td>\n",
              "      <td>9</td>\n",
              "    </tr>\n",
              "    <tr>\n",
              "      <th>15</th>\n",
              "      <td>17990</td>\n",
              "      <td>2013.0</td>\n",
              "      <td>ram 1500</td>\n",
              "      <td>excellent</td>\n",
              "      <td>8.0</td>\n",
              "      <td>gas</td>\n",
              "      <td>NaN</td>\n",
              "      <td>automatic</td>\n",
              "      <td>pickup</td>\n",
              "      <td>red</td>\n",
              "      <td>1.0</td>\n",
              "      <td>2018-05-15</td>\n",
              "      <td>111</td>\n",
              "    </tr>\n",
              "    <tr>\n",
              "      <th>23</th>\n",
              "      <td>7500</td>\n",
              "      <td>2004.0</td>\n",
              "      <td>jeep wrangler</td>\n",
              "      <td>good</td>\n",
              "      <td>6.0</td>\n",
              "      <td>gas</td>\n",
              "      <td>NaN</td>\n",
              "      <td>automatic</td>\n",
              "      <td>SUV</td>\n",
              "      <td>red</td>\n",
              "      <td>1.0</td>\n",
              "      <td>2018-05-17</td>\n",
              "      <td>39</td>\n",
              "    </tr>\n",
              "    <tr>\n",
              "      <th>24</th>\n",
              "      <td>3950</td>\n",
              "      <td>2009.0</td>\n",
              "      <td>chrysler 200</td>\n",
              "      <td>excellent</td>\n",
              "      <td>4.0</td>\n",
              "      <td>gas</td>\n",
              "      <td>NaN</td>\n",
              "      <td>automatic</td>\n",
              "      <td>sedan</td>\n",
              "      <td>red</td>\n",
              "      <td>NaN</td>\n",
              "      <td>2018-06-11</td>\n",
              "      <td>40</td>\n",
              "    </tr>\n",
              "    <tr>\n",
              "      <th>25</th>\n",
              "      <td>11499</td>\n",
              "      <td>2017.0</td>\n",
              "      <td>chevrolet malibu</td>\n",
              "      <td>like new</td>\n",
              "      <td>4.0</td>\n",
              "      <td>gas</td>\n",
              "      <td>NaN</td>\n",
              "      <td>automatic</td>\n",
              "      <td>sedan</td>\n",
              "      <td>NaN</td>\n",
              "      <td>NaN</td>\n",
              "      <td>2018-07-26</td>\n",
              "      <td>43</td>\n",
              "    </tr>\n",
              "    <tr>\n",
              "      <th>...</th>\n",
              "      <td>...</td>\n",
              "      <td>...</td>\n",
              "      <td>...</td>\n",
              "      <td>...</td>\n",
              "      <td>...</td>\n",
              "      <td>...</td>\n",
              "      <td>...</td>\n",
              "      <td>...</td>\n",
              "      <td>...</td>\n",
              "      <td>...</td>\n",
              "      <td>...</td>\n",
              "      <td>...</td>\n",
              "      <td>...</td>\n",
              "    </tr>\n",
              "    <tr>\n",
              "      <th>51498</th>\n",
              "      <td>15900</td>\n",
              "      <td>2011.0</td>\n",
              "      <td>gmc sierra 1500</td>\n",
              "      <td>excellent</td>\n",
              "      <td>8.0</td>\n",
              "      <td>gas</td>\n",
              "      <td>NaN</td>\n",
              "      <td>automatic</td>\n",
              "      <td>truck</td>\n",
              "      <td>NaN</td>\n",
              "      <td>1.0</td>\n",
              "      <td>2019-01-25</td>\n",
              "      <td>69</td>\n",
              "    </tr>\n",
              "    <tr>\n",
              "      <th>51507</th>\n",
              "      <td>29500</td>\n",
              "      <td>2012.0</td>\n",
              "      <td>toyota tundra</td>\n",
              "      <td>good</td>\n",
              "      <td>8.0</td>\n",
              "      <td>gas</td>\n",
              "      <td>NaN</td>\n",
              "      <td>automatic</td>\n",
              "      <td>pickup</td>\n",
              "      <td>grey</td>\n",
              "      <td>1.0</td>\n",
              "      <td>2018-05-01</td>\n",
              "      <td>31</td>\n",
              "    </tr>\n",
              "    <tr>\n",
              "      <th>51516</th>\n",
              "      <td>8999</td>\n",
              "      <td>2011.0</td>\n",
              "      <td>jeep grand cherokee</td>\n",
              "      <td>good</td>\n",
              "      <td>6.0</td>\n",
              "      <td>gas</td>\n",
              "      <td>NaN</td>\n",
              "      <td>automatic</td>\n",
              "      <td>SUV</td>\n",
              "      <td>white</td>\n",
              "      <td>1.0</td>\n",
              "      <td>2018-11-01</td>\n",
              "      <td>51</td>\n",
              "    </tr>\n",
              "    <tr>\n",
              "      <th>51519</th>\n",
              "      <td>11750</td>\n",
              "      <td>2015.0</td>\n",
              "      <td>honda accord</td>\n",
              "      <td>excellent</td>\n",
              "      <td>4.0</td>\n",
              "      <td>gas</td>\n",
              "      <td>NaN</td>\n",
              "      <td>automatic</td>\n",
              "      <td>coupe</td>\n",
              "      <td>NaN</td>\n",
              "      <td>NaN</td>\n",
              "      <td>2018-11-24</td>\n",
              "      <td>89</td>\n",
              "    </tr>\n",
              "    <tr>\n",
              "      <th>51524</th>\n",
              "      <td>6300</td>\n",
              "      <td>2014.0</td>\n",
              "      <td>nissan altima</td>\n",
              "      <td>good</td>\n",
              "      <td>4.0</td>\n",
              "      <td>gas</td>\n",
              "      <td>NaN</td>\n",
              "      <td>automatic</td>\n",
              "      <td>sedan</td>\n",
              "      <td>NaN</td>\n",
              "      <td>NaN</td>\n",
              "      <td>2018-06-05</td>\n",
              "      <td>10</td>\n",
              "    </tr>\n",
              "  </tbody>\n",
              "</table>\n",
              "<p>7892 rows × 13 columns</p>\n",
              "</div>"
            ],
            "text/plain": [
              "       price  model_year                model  condition  cylinders fuel  \\\n",
              "3       1500      2003.0           ford f-150       fair        8.0  gas   \n",
              "15     17990      2013.0             ram 1500  excellent        8.0  gas   \n",
              "23      7500      2004.0        jeep wrangler       good        6.0  gas   \n",
              "24      3950      2009.0         chrysler 200  excellent        4.0  gas   \n",
              "25     11499      2017.0     chevrolet malibu   like new        4.0  gas   \n",
              "...      ...         ...                  ...        ...        ...  ...   \n",
              "51498  15900      2011.0      gmc sierra 1500  excellent        8.0  gas   \n",
              "51507  29500      2012.0        toyota tundra       good        8.0  gas   \n",
              "51516   8999      2011.0  jeep grand cherokee       good        6.0  gas   \n",
              "51519  11750      2015.0         honda accord  excellent        4.0  gas   \n",
              "51524   6300      2014.0        nissan altima       good        4.0  gas   \n",
              "\n",
              "       odometer transmission    type paint_color  is_4wd date_posted  \\\n",
              "3           NaN    automatic  pickup         NaN     NaN  2019-03-22   \n",
              "15          NaN    automatic  pickup         red     1.0  2018-05-15   \n",
              "23          NaN    automatic     SUV         red     1.0  2018-05-17   \n",
              "24          NaN    automatic   sedan         red     NaN  2018-06-11   \n",
              "25          NaN    automatic   sedan         NaN     NaN  2018-07-26   \n",
              "...         ...          ...     ...         ...     ...         ...   \n",
              "51498       NaN    automatic   truck         NaN     1.0  2019-01-25   \n",
              "51507       NaN    automatic  pickup        grey     1.0  2018-05-01   \n",
              "51516       NaN    automatic     SUV       white     1.0  2018-11-01   \n",
              "51519       NaN    automatic   coupe         NaN     NaN  2018-11-24   \n",
              "51524       NaN    automatic   sedan         NaN     NaN  2018-06-05   \n",
              "\n",
              "       days_listed  \n",
              "3                9  \n",
              "15             111  \n",
              "23              39  \n",
              "24              40  \n",
              "25              43  \n",
              "...            ...  \n",
              "51498           69  \n",
              "51507           31  \n",
              "51516           51  \n",
              "51519           89  \n",
              "51524           10  \n",
              "\n",
              "[7892 rows x 13 columns]"
            ]
          },
          "execution_count": 20,
          "metadata": {},
          "output_type": "execute_result"
        }
      ],
      "source": [
        "df[df['odometer'].isnull()]"
      ]
    },
    {
      "cell_type": "code",
      "execution_count": null,
      "metadata": {
        "id": "9CFtjYxPAcTH",
        "outputId": "743bdd5c-807a-446c-db1d-c2612fc9f2a0"
      },
      "outputs": [
        {
          "data": {
            "text/plain": [
              "condition\n",
              "new           43476.056000\n",
              "like new      79426.738166\n",
              "excellent    106687.682258\n",
              "good         129919.930980\n",
              "salvage      140919.989796\n",
              "fair         183062.233577\n",
              "Name: odometer, dtype: float64"
            ]
          },
          "execution_count": 21,
          "metadata": {},
          "output_type": "execute_result"
        }
      ],
      "source": [
        "df.groupby('condition')['odometer'].mean().sort_values()"
      ]
    },
    {
      "cell_type": "markdown",
      "metadata": {
        "id": "UDdZHBYLAcTH"
      },
      "source": [
        "Considerei que a quilometragem do veículo pode estar relacionada ao estado de como o veículo se encontra, por isso vou corrigir a coluna 'odometer' de levando em conta a coluna 'condition'"
      ]
    },
    {
      "cell_type": "markdown",
      "metadata": {
        "id": "rJJr5R9NAcTH"
      },
      "source": [
        "Usei uma função para substituir os valores ausentes."
      ]
    },
    {
      "cell_type": "code",
      "execution_count": null,
      "metadata": {
        "id": "_umkbLN2AcTH"
      },
      "outputs": [],
      "source": [
        "def hodometro(row):\n",
        "    if pd.isna(row['odometer']):\n",
        "        if row['condition'] == 'new':\n",
        "            return 43476.056000\n",
        "        elif row['condition'] == 'like new':\n",
        "            return 79426.738166\n",
        "        elif row['condition'] == 'excellent':\n",
        "            return 106687.682258\n",
        "        elif row['condition'] == 'good':\n",
        "            return 129919.930980\n",
        "        elif row['condition'] == 'salvage':\n",
        "            return 140919.989796\n",
        "        elif row['condition'] == 'fair':\n",
        "            return 183062.233577\n",
        "        else:\n",
        "            return 0\n",
        "    else:\n",
        "        return row['odometer']\n",
        "\n",
        ""
      ]
    },
    {
      "cell_type": "code",
      "execution_count": null,
      "metadata": {
        "id": "9H06e5dhAcTI",
        "outputId": "d1ef68a0-3f15-4cb9-cef3-1cd3822eeee9"
      },
      "outputs": [
        {
          "data": {
            "text/plain": [
              "106687.682258"
            ]
          },
          "execution_count": 23,
          "metadata": {},
          "output_type": "execute_result"
        }
      ],
      "source": [
        "hodometro(df[df['odometer'].isna()].iloc[3])"
      ]
    },
    {
      "cell_type": "code",
      "execution_count": null,
      "metadata": {
        "id": "BYfqa4_2AcTI",
        "outputId": "8d70cbdf-a97a-499c-cb9d-2e8f48e0300e"
      },
      "outputs": [
        {
          "data": {
            "text/plain": [
              "183062.233577"
            ]
          },
          "execution_count": 24,
          "metadata": {},
          "output_type": "execute_result"
        }
      ],
      "source": [
        "hodometro(df[df['odometer'].isna()].iloc[0])"
      ]
    },
    {
      "cell_type": "code",
      "execution_count": null,
      "metadata": {
        "id": "sifzC8LRAcTI"
      },
      "outputs": [],
      "source": [
        "df['odometer'] = df.apply(hodometro, axis=1)"
      ]
    },
    {
      "cell_type": "code",
      "execution_count": null,
      "metadata": {
        "id": "-X-rJfA3AcTI",
        "outputId": "3458faca-8883-4fff-b601-b8c1501dae61"
      },
      "outputs": [
        {
          "data": {
            "text/html": [
              "<div>\n",
              "<style scoped>\n",
              "    .dataframe tbody tr th:only-of-type {\n",
              "        vertical-align: middle;\n",
              "    }\n",
              "\n",
              "    .dataframe tbody tr th {\n",
              "        vertical-align: top;\n",
              "    }\n",
              "\n",
              "    .dataframe thead th {\n",
              "        text-align: right;\n",
              "    }\n",
              "</style>\n",
              "<table border=\"1\" class=\"dataframe\">\n",
              "  <thead>\n",
              "    <tr style=\"text-align: right;\">\n",
              "      <th></th>\n",
              "      <th>price</th>\n",
              "      <th>model_year</th>\n",
              "      <th>model</th>\n",
              "      <th>condition</th>\n",
              "      <th>cylinders</th>\n",
              "      <th>fuel</th>\n",
              "      <th>odometer</th>\n",
              "      <th>transmission</th>\n",
              "      <th>type</th>\n",
              "      <th>paint_color</th>\n",
              "      <th>is_4wd</th>\n",
              "      <th>date_posted</th>\n",
              "      <th>days_listed</th>\n",
              "    </tr>\n",
              "  </thead>\n",
              "  <tbody>\n",
              "  </tbody>\n",
              "</table>\n",
              "</div>"
            ],
            "text/plain": [
              "Empty DataFrame\n",
              "Columns: [price, model_year, model, condition, cylinders, fuel, odometer, transmission, type, paint_color, is_4wd, date_posted, days_listed]\n",
              "Index: []"
            ]
          },
          "execution_count": 26,
          "metadata": {},
          "output_type": "execute_result"
        }
      ],
      "source": [
        "df[df['odometer'].isnull()]"
      ]
    },
    {
      "cell_type": "markdown",
      "metadata": {
        "id": "oD5rPW5oAcTI"
      },
      "source": [
        "Todos os dados ausentes foram preenchidos com a média dos valores de acordo com a condição do veículo."
      ]
    },
    {
      "cell_type": "markdown",
      "metadata": {
        "id": "2B6mbGNEAcTI"
      },
      "source": [
        "## ***Paint_color***"
      ]
    },
    {
      "cell_type": "code",
      "execution_count": null,
      "metadata": {
        "id": "Bi29Ti9FAcTI",
        "outputId": "4ae2e057-3c0c-49fe-fd8e-e8c9b82cf055"
      },
      "outputs": [
        {
          "data": {
            "text/html": [
              "<div>\n",
              "<style scoped>\n",
              "    .dataframe tbody tr th:only-of-type {\n",
              "        vertical-align: middle;\n",
              "    }\n",
              "\n",
              "    .dataframe tbody tr th {\n",
              "        vertical-align: top;\n",
              "    }\n",
              "\n",
              "    .dataframe thead th {\n",
              "        text-align: right;\n",
              "    }\n",
              "</style>\n",
              "<table border=\"1\" class=\"dataframe\">\n",
              "  <thead>\n",
              "    <tr style=\"text-align: right;\">\n",
              "      <th></th>\n",
              "      <th>price</th>\n",
              "      <th>model_year</th>\n",
              "      <th>model</th>\n",
              "      <th>condition</th>\n",
              "      <th>cylinders</th>\n",
              "      <th>fuel</th>\n",
              "      <th>odometer</th>\n",
              "      <th>transmission</th>\n",
              "      <th>type</th>\n",
              "      <th>paint_color</th>\n",
              "      <th>is_4wd</th>\n",
              "      <th>date_posted</th>\n",
              "      <th>days_listed</th>\n",
              "    </tr>\n",
              "  </thead>\n",
              "  <tbody>\n",
              "    <tr>\n",
              "      <th>0</th>\n",
              "      <td>9400</td>\n",
              "      <td>2011.0</td>\n",
              "      <td>bmw x5</td>\n",
              "      <td>good</td>\n",
              "      <td>6.0</td>\n",
              "      <td>gas</td>\n",
              "      <td>145000.000000</td>\n",
              "      <td>automatic</td>\n",
              "      <td>SUV</td>\n",
              "      <td>NaN</td>\n",
              "      <td>1.0</td>\n",
              "      <td>2018-06-23</td>\n",
              "      <td>19</td>\n",
              "    </tr>\n",
              "    <tr>\n",
              "      <th>3</th>\n",
              "      <td>1500</td>\n",
              "      <td>2003.0</td>\n",
              "      <td>ford f-150</td>\n",
              "      <td>fair</td>\n",
              "      <td>8.0</td>\n",
              "      <td>gas</td>\n",
              "      <td>183062.233577</td>\n",
              "      <td>automatic</td>\n",
              "      <td>pickup</td>\n",
              "      <td>NaN</td>\n",
              "      <td>NaN</td>\n",
              "      <td>2019-03-22</td>\n",
              "      <td>9</td>\n",
              "    </tr>\n",
              "    <tr>\n",
              "      <th>8</th>\n",
              "      <td>11500</td>\n",
              "      <td>2012.0</td>\n",
              "      <td>kia sorento</td>\n",
              "      <td>excellent</td>\n",
              "      <td>4.0</td>\n",
              "      <td>gas</td>\n",
              "      <td>104174.000000</td>\n",
              "      <td>automatic</td>\n",
              "      <td>SUV</td>\n",
              "      <td>NaN</td>\n",
              "      <td>1.0</td>\n",
              "      <td>2018-07-16</td>\n",
              "      <td>19</td>\n",
              "    </tr>\n",
              "    <tr>\n",
              "      <th>12</th>\n",
              "      <td>18990</td>\n",
              "      <td>2012.0</td>\n",
              "      <td>ram 1500</td>\n",
              "      <td>excellent</td>\n",
              "      <td>8.0</td>\n",
              "      <td>gas</td>\n",
              "      <td>140742.000000</td>\n",
              "      <td>automatic</td>\n",
              "      <td>pickup</td>\n",
              "      <td>NaN</td>\n",
              "      <td>1.0</td>\n",
              "      <td>2019-04-02</td>\n",
              "      <td>37</td>\n",
              "    </tr>\n",
              "    <tr>\n",
              "      <th>21</th>\n",
              "      <td>5250</td>\n",
              "      <td>2007.0</td>\n",
              "      <td>toyota rav4</td>\n",
              "      <td>good</td>\n",
              "      <td>6.0</td>\n",
              "      <td>gas</td>\n",
              "      <td>154000.000000</td>\n",
              "      <td>automatic</td>\n",
              "      <td>SUV</td>\n",
              "      <td>NaN</td>\n",
              "      <td>NaN</td>\n",
              "      <td>2018-08-22</td>\n",
              "      <td>8</td>\n",
              "    </tr>\n",
              "    <tr>\n",
              "      <th>...</th>\n",
              "      <td>...</td>\n",
              "      <td>...</td>\n",
              "      <td>...</td>\n",
              "      <td>...</td>\n",
              "      <td>...</td>\n",
              "      <td>...</td>\n",
              "      <td>...</td>\n",
              "      <td>...</td>\n",
              "      <td>...</td>\n",
              "      <td>...</td>\n",
              "      <td>...</td>\n",
              "      <td>...</td>\n",
              "      <td>...</td>\n",
              "    </tr>\n",
              "    <tr>\n",
              "      <th>51502</th>\n",
              "      <td>7995</td>\n",
              "      <td>2011.0</td>\n",
              "      <td>chevrolet equinox</td>\n",
              "      <td>like new</td>\n",
              "      <td>4.0</td>\n",
              "      <td>gas</td>\n",
              "      <td>111088.000000</td>\n",
              "      <td>automatic</td>\n",
              "      <td>SUV</td>\n",
              "      <td>NaN</td>\n",
              "      <td>NaN</td>\n",
              "      <td>2019-04-01</td>\n",
              "      <td>175</td>\n",
              "    </tr>\n",
              "    <tr>\n",
              "      <th>51503</th>\n",
              "      <td>6595</td>\n",
              "      <td>2011.0</td>\n",
              "      <td>chevrolet malibu</td>\n",
              "      <td>excellent</td>\n",
              "      <td>4.0</td>\n",
              "      <td>gas</td>\n",
              "      <td>100780.000000</td>\n",
              "      <td>automatic</td>\n",
              "      <td>sedan</td>\n",
              "      <td>NaN</td>\n",
              "      <td>NaN</td>\n",
              "      <td>2019-02-27</td>\n",
              "      <td>73</td>\n",
              "    </tr>\n",
              "    <tr>\n",
              "      <th>51506</th>\n",
              "      <td>28900</td>\n",
              "      <td>2017.0</td>\n",
              "      <td>ford f150 supercrew cab xlt</td>\n",
              "      <td>good</td>\n",
              "      <td>6.0</td>\n",
              "      <td>gas</td>\n",
              "      <td>49225.000000</td>\n",
              "      <td>automatic</td>\n",
              "      <td>pickup</td>\n",
              "      <td>NaN</td>\n",
              "      <td>1.0</td>\n",
              "      <td>2019-04-11</td>\n",
              "      <td>25</td>\n",
              "    </tr>\n",
              "    <tr>\n",
              "      <th>51519</th>\n",
              "      <td>11750</td>\n",
              "      <td>2015.0</td>\n",
              "      <td>honda accord</td>\n",
              "      <td>excellent</td>\n",
              "      <td>4.0</td>\n",
              "      <td>gas</td>\n",
              "      <td>106687.682258</td>\n",
              "      <td>automatic</td>\n",
              "      <td>coupe</td>\n",
              "      <td>NaN</td>\n",
              "      <td>NaN</td>\n",
              "      <td>2018-11-24</td>\n",
              "      <td>89</td>\n",
              "    </tr>\n",
              "    <tr>\n",
              "      <th>51524</th>\n",
              "      <td>6300</td>\n",
              "      <td>2014.0</td>\n",
              "      <td>nissan altima</td>\n",
              "      <td>good</td>\n",
              "      <td>4.0</td>\n",
              "      <td>gas</td>\n",
              "      <td>129919.930980</td>\n",
              "      <td>automatic</td>\n",
              "      <td>sedan</td>\n",
              "      <td>NaN</td>\n",
              "      <td>NaN</td>\n",
              "      <td>2018-06-05</td>\n",
              "      <td>10</td>\n",
              "    </tr>\n",
              "  </tbody>\n",
              "</table>\n",
              "<p>9267 rows × 13 columns</p>\n",
              "</div>"
            ],
            "text/plain": [
              "       price  model_year                        model  condition  cylinders  \\\n",
              "0       9400      2011.0                       bmw x5       good        6.0   \n",
              "3       1500      2003.0                   ford f-150       fair        8.0   \n",
              "8      11500      2012.0                  kia sorento  excellent        4.0   \n",
              "12     18990      2012.0                     ram 1500  excellent        8.0   \n",
              "21      5250      2007.0                  toyota rav4       good        6.0   \n",
              "...      ...         ...                          ...        ...        ...   \n",
              "51502   7995      2011.0            chevrolet equinox   like new        4.0   \n",
              "51503   6595      2011.0             chevrolet malibu  excellent        4.0   \n",
              "51506  28900      2017.0  ford f150 supercrew cab xlt       good        6.0   \n",
              "51519  11750      2015.0                 honda accord  excellent        4.0   \n",
              "51524   6300      2014.0                nissan altima       good        4.0   \n",
              "\n",
              "      fuel       odometer transmission    type paint_color  is_4wd  \\\n",
              "0      gas  145000.000000    automatic     SUV         NaN     1.0   \n",
              "3      gas  183062.233577    automatic  pickup         NaN     NaN   \n",
              "8      gas  104174.000000    automatic     SUV         NaN     1.0   \n",
              "12     gas  140742.000000    automatic  pickup         NaN     1.0   \n",
              "21     gas  154000.000000    automatic     SUV         NaN     NaN   \n",
              "...    ...            ...          ...     ...         ...     ...   \n",
              "51502  gas  111088.000000    automatic     SUV         NaN     NaN   \n",
              "51503  gas  100780.000000    automatic   sedan         NaN     NaN   \n",
              "51506  gas   49225.000000    automatic  pickup         NaN     1.0   \n",
              "51519  gas  106687.682258    automatic   coupe         NaN     NaN   \n",
              "51524  gas  129919.930980    automatic   sedan         NaN     NaN   \n",
              "\n",
              "      date_posted  days_listed  \n",
              "0      2018-06-23           19  \n",
              "3      2019-03-22            9  \n",
              "8      2018-07-16           19  \n",
              "12     2019-04-02           37  \n",
              "21     2018-08-22            8  \n",
              "...           ...          ...  \n",
              "51502  2019-04-01          175  \n",
              "51503  2019-02-27           73  \n",
              "51506  2019-04-11           25  \n",
              "51519  2018-11-24           89  \n",
              "51524  2018-06-05           10  \n",
              "\n",
              "[9267 rows x 13 columns]"
            ]
          },
          "execution_count": 27,
          "metadata": {},
          "output_type": "execute_result"
        }
      ],
      "source": [
        "df[df['paint_color'].isnull()]"
      ]
    },
    {
      "cell_type": "markdown",
      "metadata": {
        "id": "_OW_FamsAcTJ"
      },
      "source": [
        "Não considero que a pintura do veículo vá interferir no preço, por isso não vou corrigir esses dados"
      ]
    },
    {
      "cell_type": "markdown",
      "metadata": {
        "id": "qbAUpcveAcTJ"
      },
      "source": [
        "## ***is_4wd***"
      ]
    },
    {
      "cell_type": "code",
      "execution_count": null,
      "metadata": {
        "id": "a8cIAJa8AcTJ",
        "outputId": "6f5ca940-0eb9-4f60-c1d0-ea9d566d1f78"
      },
      "outputs": [
        {
          "data": {
            "text/html": [
              "<div>\n",
              "<style scoped>\n",
              "    .dataframe tbody tr th:only-of-type {\n",
              "        vertical-align: middle;\n",
              "    }\n",
              "\n",
              "    .dataframe tbody tr th {\n",
              "        vertical-align: top;\n",
              "    }\n",
              "\n",
              "    .dataframe thead th {\n",
              "        text-align: right;\n",
              "    }\n",
              "</style>\n",
              "<table border=\"1\" class=\"dataframe\">\n",
              "  <thead>\n",
              "    <tr style=\"text-align: right;\">\n",
              "      <th></th>\n",
              "      <th>price</th>\n",
              "      <th>model_year</th>\n",
              "      <th>model</th>\n",
              "      <th>condition</th>\n",
              "      <th>cylinders</th>\n",
              "      <th>fuel</th>\n",
              "      <th>odometer</th>\n",
              "      <th>transmission</th>\n",
              "      <th>type</th>\n",
              "      <th>paint_color</th>\n",
              "      <th>is_4wd</th>\n",
              "      <th>date_posted</th>\n",
              "      <th>days_listed</th>\n",
              "    </tr>\n",
              "  </thead>\n",
              "  <tbody>\n",
              "    <tr>\n",
              "      <th>2</th>\n",
              "      <td>5500</td>\n",
              "      <td>2013.0</td>\n",
              "      <td>hyundai sonata</td>\n",
              "      <td>like new</td>\n",
              "      <td>4.0</td>\n",
              "      <td>gas</td>\n",
              "      <td>110000.000000</td>\n",
              "      <td>automatic</td>\n",
              "      <td>sedan</td>\n",
              "      <td>red</td>\n",
              "      <td>NaN</td>\n",
              "      <td>2019-02-07</td>\n",
              "      <td>79</td>\n",
              "    </tr>\n",
              "    <tr>\n",
              "      <th>3</th>\n",
              "      <td>1500</td>\n",
              "      <td>2003.0</td>\n",
              "      <td>ford f-150</td>\n",
              "      <td>fair</td>\n",
              "      <td>8.0</td>\n",
              "      <td>gas</td>\n",
              "      <td>183062.233577</td>\n",
              "      <td>automatic</td>\n",
              "      <td>pickup</td>\n",
              "      <td>NaN</td>\n",
              "      <td>NaN</td>\n",
              "      <td>2019-03-22</td>\n",
              "      <td>9</td>\n",
              "    </tr>\n",
              "    <tr>\n",
              "      <th>4</th>\n",
              "      <td>14900</td>\n",
              "      <td>2017.0</td>\n",
              "      <td>chrysler 200</td>\n",
              "      <td>excellent</td>\n",
              "      <td>4.0</td>\n",
              "      <td>gas</td>\n",
              "      <td>80903.000000</td>\n",
              "      <td>automatic</td>\n",
              "      <td>sedan</td>\n",
              "      <td>black</td>\n",
              "      <td>NaN</td>\n",
              "      <td>2019-04-02</td>\n",
              "      <td>28</td>\n",
              "    </tr>\n",
              "    <tr>\n",
              "      <th>6</th>\n",
              "      <td>12990</td>\n",
              "      <td>2015.0</td>\n",
              "      <td>toyota camry</td>\n",
              "      <td>excellent</td>\n",
              "      <td>4.0</td>\n",
              "      <td>gas</td>\n",
              "      <td>79212.000000</td>\n",
              "      <td>automatic</td>\n",
              "      <td>sedan</td>\n",
              "      <td>white</td>\n",
              "      <td>NaN</td>\n",
              "      <td>2018-12-27</td>\n",
              "      <td>73</td>\n",
              "    </tr>\n",
              "    <tr>\n",
              "      <th>11</th>\n",
              "      <td>8990</td>\n",
              "      <td>2012.0</td>\n",
              "      <td>honda accord</td>\n",
              "      <td>excellent</td>\n",
              "      <td>4.0</td>\n",
              "      <td>gas</td>\n",
              "      <td>111142.000000</td>\n",
              "      <td>automatic</td>\n",
              "      <td>sedan</td>\n",
              "      <td>grey</td>\n",
              "      <td>NaN</td>\n",
              "      <td>2019-03-28</td>\n",
              "      <td>29</td>\n",
              "    </tr>\n",
              "    <tr>\n",
              "      <th>...</th>\n",
              "      <td>...</td>\n",
              "      <td>...</td>\n",
              "      <td>...</td>\n",
              "      <td>...</td>\n",
              "      <td>...</td>\n",
              "      <td>...</td>\n",
              "      <td>...</td>\n",
              "      <td>...</td>\n",
              "      <td>...</td>\n",
              "      <td>...</td>\n",
              "      <td>...</td>\n",
              "      <td>...</td>\n",
              "      <td>...</td>\n",
              "    </tr>\n",
              "    <tr>\n",
              "      <th>51520</th>\n",
              "      <td>9249</td>\n",
              "      <td>2013.0</td>\n",
              "      <td>nissan maxima</td>\n",
              "      <td>like new</td>\n",
              "      <td>6.0</td>\n",
              "      <td>gas</td>\n",
              "      <td>88136.000000</td>\n",
              "      <td>automatic</td>\n",
              "      <td>sedan</td>\n",
              "      <td>black</td>\n",
              "      <td>NaN</td>\n",
              "      <td>2018-10-03</td>\n",
              "      <td>37</td>\n",
              "    </tr>\n",
              "    <tr>\n",
              "      <th>51521</th>\n",
              "      <td>2700</td>\n",
              "      <td>2002.0</td>\n",
              "      <td>honda civic</td>\n",
              "      <td>salvage</td>\n",
              "      <td>4.0</td>\n",
              "      <td>gas</td>\n",
              "      <td>181500.000000</td>\n",
              "      <td>automatic</td>\n",
              "      <td>sedan</td>\n",
              "      <td>white</td>\n",
              "      <td>NaN</td>\n",
              "      <td>2018-11-14</td>\n",
              "      <td>22</td>\n",
              "    </tr>\n",
              "    <tr>\n",
              "      <th>51522</th>\n",
              "      <td>3950</td>\n",
              "      <td>2009.0</td>\n",
              "      <td>hyundai sonata</td>\n",
              "      <td>excellent</td>\n",
              "      <td>4.0</td>\n",
              "      <td>gas</td>\n",
              "      <td>128000.000000</td>\n",
              "      <td>automatic</td>\n",
              "      <td>sedan</td>\n",
              "      <td>blue</td>\n",
              "      <td>NaN</td>\n",
              "      <td>2018-11-15</td>\n",
              "      <td>32</td>\n",
              "    </tr>\n",
              "    <tr>\n",
              "      <th>51523</th>\n",
              "      <td>7455</td>\n",
              "      <td>2013.0</td>\n",
              "      <td>toyota corolla</td>\n",
              "      <td>good</td>\n",
              "      <td>4.0</td>\n",
              "      <td>gas</td>\n",
              "      <td>139573.000000</td>\n",
              "      <td>automatic</td>\n",
              "      <td>sedan</td>\n",
              "      <td>black</td>\n",
              "      <td>NaN</td>\n",
              "      <td>2018-07-02</td>\n",
              "      <td>71</td>\n",
              "    </tr>\n",
              "    <tr>\n",
              "      <th>51524</th>\n",
              "      <td>6300</td>\n",
              "      <td>2014.0</td>\n",
              "      <td>nissan altima</td>\n",
              "      <td>good</td>\n",
              "      <td>4.0</td>\n",
              "      <td>gas</td>\n",
              "      <td>129919.930980</td>\n",
              "      <td>automatic</td>\n",
              "      <td>sedan</td>\n",
              "      <td>NaN</td>\n",
              "      <td>NaN</td>\n",
              "      <td>2018-06-05</td>\n",
              "      <td>10</td>\n",
              "    </tr>\n",
              "  </tbody>\n",
              "</table>\n",
              "<p>25953 rows × 13 columns</p>\n",
              "</div>"
            ],
            "text/plain": [
              "       price  model_year           model  condition  cylinders fuel  \\\n",
              "2       5500      2013.0  hyundai sonata   like new        4.0  gas   \n",
              "3       1500      2003.0      ford f-150       fair        8.0  gas   \n",
              "4      14900      2017.0    chrysler 200  excellent        4.0  gas   \n",
              "6      12990      2015.0    toyota camry  excellent        4.0  gas   \n",
              "11      8990      2012.0    honda accord  excellent        4.0  gas   \n",
              "...      ...         ...             ...        ...        ...  ...   \n",
              "51520   9249      2013.0   nissan maxima   like new        6.0  gas   \n",
              "51521   2700      2002.0     honda civic    salvage        4.0  gas   \n",
              "51522   3950      2009.0  hyundai sonata  excellent        4.0  gas   \n",
              "51523   7455      2013.0  toyota corolla       good        4.0  gas   \n",
              "51524   6300      2014.0   nissan altima       good        4.0  gas   \n",
              "\n",
              "            odometer transmission    type paint_color  is_4wd date_posted  \\\n",
              "2      110000.000000    automatic   sedan         red     NaN  2019-02-07   \n",
              "3      183062.233577    automatic  pickup         NaN     NaN  2019-03-22   \n",
              "4       80903.000000    automatic   sedan       black     NaN  2019-04-02   \n",
              "6       79212.000000    automatic   sedan       white     NaN  2018-12-27   \n",
              "11     111142.000000    automatic   sedan        grey     NaN  2019-03-28   \n",
              "...              ...          ...     ...         ...     ...         ...   \n",
              "51520   88136.000000    automatic   sedan       black     NaN  2018-10-03   \n",
              "51521  181500.000000    automatic   sedan       white     NaN  2018-11-14   \n",
              "51522  128000.000000    automatic   sedan        blue     NaN  2018-11-15   \n",
              "51523  139573.000000    automatic   sedan       black     NaN  2018-07-02   \n",
              "51524  129919.930980    automatic   sedan         NaN     NaN  2018-06-05   \n",
              "\n",
              "       days_listed  \n",
              "2               79  \n",
              "3                9  \n",
              "4               28  \n",
              "6               73  \n",
              "11              29  \n",
              "...            ...  \n",
              "51520           37  \n",
              "51521           22  \n",
              "51522           32  \n",
              "51523           71  \n",
              "51524           10  \n",
              "\n",
              "[25953 rows x 13 columns]"
            ]
          },
          "execution_count": 28,
          "metadata": {},
          "output_type": "execute_result"
        }
      ],
      "source": [
        "df[df['is_4wd'].isnull()]"
      ]
    },
    {
      "cell_type": "markdown",
      "metadata": {
        "id": "ZBEtu5NAAcTJ"
      },
      "source": [
        "Como essa coluna é um valor booleano que indica se o veículo é 4x4 ou não, possível levar em consideração que os valores ausentes são representados pelos veículos que não possuem essa característica."
      ]
    },
    {
      "cell_type": "code",
      "execution_count": null,
      "metadata": {
        "id": "KbKsniomAcTJ"
      },
      "outputs": [],
      "source": [
        "df['is_4wd'] = df['is_4wd'].fillna(0)"
      ]
    },
    {
      "cell_type": "code",
      "execution_count": null,
      "metadata": {
        "id": "zWRNCuHGAcTJ",
        "outputId": "4c80811e-4e1e-4ee0-85a0-1702837d4c87"
      },
      "outputs": [
        {
          "data": {
            "text/html": [
              "<div>\n",
              "<style scoped>\n",
              "    .dataframe tbody tr th:only-of-type {\n",
              "        vertical-align: middle;\n",
              "    }\n",
              "\n",
              "    .dataframe tbody tr th {\n",
              "        vertical-align: top;\n",
              "    }\n",
              "\n",
              "    .dataframe thead th {\n",
              "        text-align: right;\n",
              "    }\n",
              "</style>\n",
              "<table border=\"1\" class=\"dataframe\">\n",
              "  <thead>\n",
              "    <tr style=\"text-align: right;\">\n",
              "      <th></th>\n",
              "      <th>price</th>\n",
              "      <th>model_year</th>\n",
              "      <th>model</th>\n",
              "      <th>condition</th>\n",
              "      <th>cylinders</th>\n",
              "      <th>fuel</th>\n",
              "      <th>odometer</th>\n",
              "      <th>transmission</th>\n",
              "      <th>type</th>\n",
              "      <th>paint_color</th>\n",
              "      <th>is_4wd</th>\n",
              "      <th>date_posted</th>\n",
              "      <th>days_listed</th>\n",
              "    </tr>\n",
              "  </thead>\n",
              "  <tbody>\n",
              "  </tbody>\n",
              "</table>\n",
              "</div>"
            ],
            "text/plain": [
              "Empty DataFrame\n",
              "Columns: [price, model_year, model, condition, cylinders, fuel, odometer, transmission, type, paint_color, is_4wd, date_posted, days_listed]\n",
              "Index: []"
            ]
          },
          "execution_count": 30,
          "metadata": {},
          "output_type": "execute_result"
        }
      ],
      "source": [
        "df[df['is_4wd'].isnull()]"
      ]
    },
    {
      "cell_type": "code",
      "execution_count": null,
      "metadata": {
        "id": "r01R1HSTAcTK",
        "outputId": "1c64c896-8b85-46a9-ad47-df76afc2d5b5"
      },
      "outputs": [
        {
          "data": {
            "text/html": [
              "<div>\n",
              "<style scoped>\n",
              "    .dataframe tbody tr th:only-of-type {\n",
              "        vertical-align: middle;\n",
              "    }\n",
              "\n",
              "    .dataframe tbody tr th {\n",
              "        vertical-align: top;\n",
              "    }\n",
              "\n",
              "    .dataframe thead th {\n",
              "        text-align: right;\n",
              "    }\n",
              "</style>\n",
              "<table border=\"1\" class=\"dataframe\">\n",
              "  <thead>\n",
              "    <tr style=\"text-align: right;\">\n",
              "      <th></th>\n",
              "      <th>price</th>\n",
              "      <th>model_year</th>\n",
              "      <th>model</th>\n",
              "      <th>condition</th>\n",
              "      <th>cylinders</th>\n",
              "      <th>fuel</th>\n",
              "      <th>odometer</th>\n",
              "      <th>transmission</th>\n",
              "      <th>type</th>\n",
              "      <th>paint_color</th>\n",
              "      <th>is_4wd</th>\n",
              "      <th>date_posted</th>\n",
              "      <th>days_listed</th>\n",
              "    </tr>\n",
              "  </thead>\n",
              "  <tbody>\n",
              "    <tr>\n",
              "      <th>0</th>\n",
              "      <td>9400</td>\n",
              "      <td>2011.0</td>\n",
              "      <td>bmw x5</td>\n",
              "      <td>good</td>\n",
              "      <td>6.0</td>\n",
              "      <td>gas</td>\n",
              "      <td>145000.000000</td>\n",
              "      <td>automatic</td>\n",
              "      <td>SUV</td>\n",
              "      <td>NaN</td>\n",
              "      <td>1.0</td>\n",
              "      <td>2018-06-23</td>\n",
              "      <td>19</td>\n",
              "    </tr>\n",
              "    <tr>\n",
              "      <th>1</th>\n",
              "      <td>25500</td>\n",
              "      <td>NaN</td>\n",
              "      <td>ford f-150</td>\n",
              "      <td>good</td>\n",
              "      <td>6.0</td>\n",
              "      <td>gas</td>\n",
              "      <td>88705.000000</td>\n",
              "      <td>automatic</td>\n",
              "      <td>pickup</td>\n",
              "      <td>white</td>\n",
              "      <td>1.0</td>\n",
              "      <td>2018-10-19</td>\n",
              "      <td>50</td>\n",
              "    </tr>\n",
              "    <tr>\n",
              "      <th>2</th>\n",
              "      <td>5500</td>\n",
              "      <td>2013.0</td>\n",
              "      <td>hyundai sonata</td>\n",
              "      <td>like new</td>\n",
              "      <td>4.0</td>\n",
              "      <td>gas</td>\n",
              "      <td>110000.000000</td>\n",
              "      <td>automatic</td>\n",
              "      <td>sedan</td>\n",
              "      <td>red</td>\n",
              "      <td>0.0</td>\n",
              "      <td>2019-02-07</td>\n",
              "      <td>79</td>\n",
              "    </tr>\n",
              "    <tr>\n",
              "      <th>3</th>\n",
              "      <td>1500</td>\n",
              "      <td>2003.0</td>\n",
              "      <td>ford f-150</td>\n",
              "      <td>fair</td>\n",
              "      <td>8.0</td>\n",
              "      <td>gas</td>\n",
              "      <td>183062.233577</td>\n",
              "      <td>automatic</td>\n",
              "      <td>pickup</td>\n",
              "      <td>NaN</td>\n",
              "      <td>0.0</td>\n",
              "      <td>2019-03-22</td>\n",
              "      <td>9</td>\n",
              "    </tr>\n",
              "    <tr>\n",
              "      <th>4</th>\n",
              "      <td>14900</td>\n",
              "      <td>2017.0</td>\n",
              "      <td>chrysler 200</td>\n",
              "      <td>excellent</td>\n",
              "      <td>4.0</td>\n",
              "      <td>gas</td>\n",
              "      <td>80903.000000</td>\n",
              "      <td>automatic</td>\n",
              "      <td>sedan</td>\n",
              "      <td>black</td>\n",
              "      <td>0.0</td>\n",
              "      <td>2019-04-02</td>\n",
              "      <td>28</td>\n",
              "    </tr>\n",
              "  </tbody>\n",
              "</table>\n",
              "</div>"
            ],
            "text/plain": [
              "   price  model_year           model  condition  cylinders fuel  \\\n",
              "0   9400      2011.0          bmw x5       good        6.0  gas   \n",
              "1  25500         NaN      ford f-150       good        6.0  gas   \n",
              "2   5500      2013.0  hyundai sonata   like new        4.0  gas   \n",
              "3   1500      2003.0      ford f-150       fair        8.0  gas   \n",
              "4  14900      2017.0    chrysler 200  excellent        4.0  gas   \n",
              "\n",
              "        odometer transmission    type paint_color  is_4wd date_posted  \\\n",
              "0  145000.000000    automatic     SUV         NaN     1.0  2018-06-23   \n",
              "1   88705.000000    automatic  pickup       white     1.0  2018-10-19   \n",
              "2  110000.000000    automatic   sedan         red     0.0  2019-02-07   \n",
              "3  183062.233577    automatic  pickup         NaN     0.0  2019-03-22   \n",
              "4   80903.000000    automatic   sedan       black     0.0  2019-04-02   \n",
              "\n",
              "   days_listed  \n",
              "0           19  \n",
              "1           50  \n",
              "2           79  \n",
              "3            9  \n",
              "4           28  "
            ]
          },
          "execution_count": 31,
          "metadata": {},
          "output_type": "execute_result"
        }
      ],
      "source": [
        "df.head()"
      ]
    },
    {
      "cell_type": "markdown",
      "metadata": {
        "id": "tU6yCJrrAcTK"
      },
      "source": [
        "Dados ausentes corrigidos, sendo 1.0 possuindo 4x4 e 0.0 sem essa função"
      ]
    },
    {
      "cell_type": "markdown",
      "metadata": {
        "id": "tvGE-jjmAcTK"
      },
      "source": [
        "## Corrija os tipos de dados"
      ]
    },
    {
      "cell_type": "markdown",
      "metadata": {
        "id": "oRYFCK3LAcTK"
      },
      "source": [
        "Agora que já foram preenchidos os valores ausentes, vamos mudar o tipo de dados da coluna date_posted\n",
        "\n"
      ]
    },
    {
      "cell_type": "code",
      "execution_count": null,
      "metadata": {
        "id": "jINWPlXiAcTK"
      },
      "outputs": [],
      "source": [
        "df['date_posted'] = pd.to_datetime(df['date_posted'], format='%Y-%m-%dT%H:%M:%S')"
      ]
    },
    {
      "cell_type": "code",
      "execution_count": null,
      "metadata": {
        "id": "A2V2mdBIAcTK",
        "outputId": "803a005e-fcab-46e2-fcdd-8afed7b046fe"
      },
      "outputs": [
        {
          "name": "stdout",
          "output_type": "stream",
          "text": [
            "<class 'pandas.core.frame.DataFrame'>\n",
            "RangeIndex: 51525 entries, 0 to 51524\n",
            "Data columns (total 13 columns):\n",
            " #   Column        Non-Null Count  Dtype         \n",
            "---  ------        --------------  -----         \n",
            " 0   price         51525 non-null  int64         \n",
            " 1   model_year    47906 non-null  float64       \n",
            " 2   model         51525 non-null  object        \n",
            " 3   condition     51525 non-null  object        \n",
            " 4   cylinders     51525 non-null  float64       \n",
            " 5   fuel          51525 non-null  object        \n",
            " 6   odometer      51525 non-null  float64       \n",
            " 7   transmission  51525 non-null  object        \n",
            " 8   type          51525 non-null  object        \n",
            " 9   paint_color   42258 non-null  object        \n",
            " 10  is_4wd        51525 non-null  float64       \n",
            " 11  date_posted   51525 non-null  datetime64[ns]\n",
            " 12  days_listed   51525 non-null  int64         \n",
            "dtypes: datetime64[ns](1), float64(4), int64(2), object(6)\n",
            "memory usage: 5.1+ MB\n"
          ]
        }
      ],
      "source": [
        "df.info()"
      ]
    },
    {
      "cell_type": "code",
      "execution_count": null,
      "metadata": {
        "id": "7j2ANbejAcTL",
        "outputId": "dbed5d22-6b6c-4a7a-e438-720109b5fbde"
      },
      "outputs": [
        {
          "data": {
            "text/html": [
              "<div>\n",
              "<style scoped>\n",
              "    .dataframe tbody tr th:only-of-type {\n",
              "        vertical-align: middle;\n",
              "    }\n",
              "\n",
              "    .dataframe tbody tr th {\n",
              "        vertical-align: top;\n",
              "    }\n",
              "\n",
              "    .dataframe thead th {\n",
              "        text-align: right;\n",
              "    }\n",
              "</style>\n",
              "<table border=\"1\" class=\"dataframe\">\n",
              "  <thead>\n",
              "    <tr style=\"text-align: right;\">\n",
              "      <th></th>\n",
              "      <th>price</th>\n",
              "      <th>model_year</th>\n",
              "      <th>model</th>\n",
              "      <th>condition</th>\n",
              "      <th>cylinders</th>\n",
              "      <th>fuel</th>\n",
              "      <th>odometer</th>\n",
              "      <th>transmission</th>\n",
              "      <th>type</th>\n",
              "      <th>paint_color</th>\n",
              "      <th>is_4wd</th>\n",
              "      <th>date_posted</th>\n",
              "      <th>days_listed</th>\n",
              "    </tr>\n",
              "  </thead>\n",
              "  <tbody>\n",
              "    <tr>\n",
              "      <th>0</th>\n",
              "      <td>9400</td>\n",
              "      <td>2011.0</td>\n",
              "      <td>bmw x5</td>\n",
              "      <td>good</td>\n",
              "      <td>6.0</td>\n",
              "      <td>gas</td>\n",
              "      <td>145000.000000</td>\n",
              "      <td>automatic</td>\n",
              "      <td>SUV</td>\n",
              "      <td>NaN</td>\n",
              "      <td>1.0</td>\n",
              "      <td>2018-06-23</td>\n",
              "      <td>19</td>\n",
              "    </tr>\n",
              "    <tr>\n",
              "      <th>1</th>\n",
              "      <td>25500</td>\n",
              "      <td>NaN</td>\n",
              "      <td>ford f-150</td>\n",
              "      <td>good</td>\n",
              "      <td>6.0</td>\n",
              "      <td>gas</td>\n",
              "      <td>88705.000000</td>\n",
              "      <td>automatic</td>\n",
              "      <td>pickup</td>\n",
              "      <td>white</td>\n",
              "      <td>1.0</td>\n",
              "      <td>2018-10-19</td>\n",
              "      <td>50</td>\n",
              "    </tr>\n",
              "    <tr>\n",
              "      <th>2</th>\n",
              "      <td>5500</td>\n",
              "      <td>2013.0</td>\n",
              "      <td>hyundai sonata</td>\n",
              "      <td>like new</td>\n",
              "      <td>4.0</td>\n",
              "      <td>gas</td>\n",
              "      <td>110000.000000</td>\n",
              "      <td>automatic</td>\n",
              "      <td>sedan</td>\n",
              "      <td>red</td>\n",
              "      <td>0.0</td>\n",
              "      <td>2019-02-07</td>\n",
              "      <td>79</td>\n",
              "    </tr>\n",
              "    <tr>\n",
              "      <th>3</th>\n",
              "      <td>1500</td>\n",
              "      <td>2003.0</td>\n",
              "      <td>ford f-150</td>\n",
              "      <td>fair</td>\n",
              "      <td>8.0</td>\n",
              "      <td>gas</td>\n",
              "      <td>183062.233577</td>\n",
              "      <td>automatic</td>\n",
              "      <td>pickup</td>\n",
              "      <td>NaN</td>\n",
              "      <td>0.0</td>\n",
              "      <td>2019-03-22</td>\n",
              "      <td>9</td>\n",
              "    </tr>\n",
              "    <tr>\n",
              "      <th>4</th>\n",
              "      <td>14900</td>\n",
              "      <td>2017.0</td>\n",
              "      <td>chrysler 200</td>\n",
              "      <td>excellent</td>\n",
              "      <td>4.0</td>\n",
              "      <td>gas</td>\n",
              "      <td>80903.000000</td>\n",
              "      <td>automatic</td>\n",
              "      <td>sedan</td>\n",
              "      <td>black</td>\n",
              "      <td>0.0</td>\n",
              "      <td>2019-04-02</td>\n",
              "      <td>28</td>\n",
              "    </tr>\n",
              "    <tr>\n",
              "      <th>...</th>\n",
              "      <td>...</td>\n",
              "      <td>...</td>\n",
              "      <td>...</td>\n",
              "      <td>...</td>\n",
              "      <td>...</td>\n",
              "      <td>...</td>\n",
              "      <td>...</td>\n",
              "      <td>...</td>\n",
              "      <td>...</td>\n",
              "      <td>...</td>\n",
              "      <td>...</td>\n",
              "      <td>...</td>\n",
              "      <td>...</td>\n",
              "    </tr>\n",
              "    <tr>\n",
              "      <th>51520</th>\n",
              "      <td>9249</td>\n",
              "      <td>2013.0</td>\n",
              "      <td>nissan maxima</td>\n",
              "      <td>like new</td>\n",
              "      <td>6.0</td>\n",
              "      <td>gas</td>\n",
              "      <td>88136.000000</td>\n",
              "      <td>automatic</td>\n",
              "      <td>sedan</td>\n",
              "      <td>black</td>\n",
              "      <td>0.0</td>\n",
              "      <td>2018-10-03</td>\n",
              "      <td>37</td>\n",
              "    </tr>\n",
              "    <tr>\n",
              "      <th>51521</th>\n",
              "      <td>2700</td>\n",
              "      <td>2002.0</td>\n",
              "      <td>honda civic</td>\n",
              "      <td>salvage</td>\n",
              "      <td>4.0</td>\n",
              "      <td>gas</td>\n",
              "      <td>181500.000000</td>\n",
              "      <td>automatic</td>\n",
              "      <td>sedan</td>\n",
              "      <td>white</td>\n",
              "      <td>0.0</td>\n",
              "      <td>2018-11-14</td>\n",
              "      <td>22</td>\n",
              "    </tr>\n",
              "    <tr>\n",
              "      <th>51522</th>\n",
              "      <td>3950</td>\n",
              "      <td>2009.0</td>\n",
              "      <td>hyundai sonata</td>\n",
              "      <td>excellent</td>\n",
              "      <td>4.0</td>\n",
              "      <td>gas</td>\n",
              "      <td>128000.000000</td>\n",
              "      <td>automatic</td>\n",
              "      <td>sedan</td>\n",
              "      <td>blue</td>\n",
              "      <td>0.0</td>\n",
              "      <td>2018-11-15</td>\n",
              "      <td>32</td>\n",
              "    </tr>\n",
              "    <tr>\n",
              "      <th>51523</th>\n",
              "      <td>7455</td>\n",
              "      <td>2013.0</td>\n",
              "      <td>toyota corolla</td>\n",
              "      <td>good</td>\n",
              "      <td>4.0</td>\n",
              "      <td>gas</td>\n",
              "      <td>139573.000000</td>\n",
              "      <td>automatic</td>\n",
              "      <td>sedan</td>\n",
              "      <td>black</td>\n",
              "      <td>0.0</td>\n",
              "      <td>2018-07-02</td>\n",
              "      <td>71</td>\n",
              "    </tr>\n",
              "    <tr>\n",
              "      <th>51524</th>\n",
              "      <td>6300</td>\n",
              "      <td>2014.0</td>\n",
              "      <td>nissan altima</td>\n",
              "      <td>good</td>\n",
              "      <td>4.0</td>\n",
              "      <td>gas</td>\n",
              "      <td>129919.930980</td>\n",
              "      <td>automatic</td>\n",
              "      <td>sedan</td>\n",
              "      <td>NaN</td>\n",
              "      <td>0.0</td>\n",
              "      <td>2018-06-05</td>\n",
              "      <td>10</td>\n",
              "    </tr>\n",
              "  </tbody>\n",
              "</table>\n",
              "<p>51525 rows × 13 columns</p>\n",
              "</div>"
            ],
            "text/plain": [
              "       price  model_year           model  condition  cylinders fuel  \\\n",
              "0       9400      2011.0          bmw x5       good        6.0  gas   \n",
              "1      25500         NaN      ford f-150       good        6.0  gas   \n",
              "2       5500      2013.0  hyundai sonata   like new        4.0  gas   \n",
              "3       1500      2003.0      ford f-150       fair        8.0  gas   \n",
              "4      14900      2017.0    chrysler 200  excellent        4.0  gas   \n",
              "...      ...         ...             ...        ...        ...  ...   \n",
              "51520   9249      2013.0   nissan maxima   like new        6.0  gas   \n",
              "51521   2700      2002.0     honda civic    salvage        4.0  gas   \n",
              "51522   3950      2009.0  hyundai sonata  excellent        4.0  gas   \n",
              "51523   7455      2013.0  toyota corolla       good        4.0  gas   \n",
              "51524   6300      2014.0   nissan altima       good        4.0  gas   \n",
              "\n",
              "            odometer transmission    type paint_color  is_4wd date_posted  \\\n",
              "0      145000.000000    automatic     SUV         NaN     1.0  2018-06-23   \n",
              "1       88705.000000    automatic  pickup       white     1.0  2018-10-19   \n",
              "2      110000.000000    automatic   sedan         red     0.0  2019-02-07   \n",
              "3      183062.233577    automatic  pickup         NaN     0.0  2019-03-22   \n",
              "4       80903.000000    automatic   sedan       black     0.0  2019-04-02   \n",
              "...              ...          ...     ...         ...     ...         ...   \n",
              "51520   88136.000000    automatic   sedan       black     0.0  2018-10-03   \n",
              "51521  181500.000000    automatic   sedan       white     0.0  2018-11-14   \n",
              "51522  128000.000000    automatic   sedan        blue     0.0  2018-11-15   \n",
              "51523  139573.000000    automatic   sedan       black     0.0  2018-07-02   \n",
              "51524  129919.930980    automatic   sedan         NaN     0.0  2018-06-05   \n",
              "\n",
              "       days_listed  \n",
              "0               19  \n",
              "1               50  \n",
              "2               79  \n",
              "3                9  \n",
              "4               28  \n",
              "...            ...  \n",
              "51520           37  \n",
              "51521           22  \n",
              "51522           32  \n",
              "51523           71  \n",
              "51524           10  \n",
              "\n",
              "[51525 rows x 13 columns]"
            ]
          },
          "execution_count": 34,
          "metadata": {},
          "output_type": "execute_result"
        }
      ],
      "source": [
        "df"
      ]
    },
    {
      "cell_type": "code",
      "execution_count": null,
      "metadata": {
        "id": "mjd6kPdTAcTL",
        "outputId": "1bfc9a6e-9766-4e81-e1fb-3ab55307323b"
      },
      "outputs": [
        {
          "data": {
            "text/plain": [
              "0"
            ]
          },
          "execution_count": 82,
          "metadata": {},
          "output_type": "execute_result"
        }
      ],
      "source": [
        "#Valores Duplicados\n",
        "df.duplicated().sum()"
      ]
    },
    {
      "cell_type": "markdown",
      "metadata": {
        "id": "F8ohErLGAcTL"
      },
      "source": [
        "## Enriqueça os dados"
      ]
    },
    {
      "cell_type": "markdown",
      "metadata": {
        "id": "O8nEP9JPAcTL"
      },
      "source": [
        "Melhorando o data frame para fazer as análises"
      ]
    },
    {
      "cell_type": "code",
      "execution_count": null,
      "metadata": {
        "id": "rSibTBASAcTL",
        "outputId": "3950a972-aa44-45d4-f1e9-2978c86b7881"
      },
      "outputs": [
        {
          "data": {
            "text/html": [
              "<div>\n",
              "<style scoped>\n",
              "    .dataframe tbody tr th:only-of-type {\n",
              "        vertical-align: middle;\n",
              "    }\n",
              "\n",
              "    .dataframe tbody tr th {\n",
              "        vertical-align: top;\n",
              "    }\n",
              "\n",
              "    .dataframe thead th {\n",
              "        text-align: right;\n",
              "    }\n",
              "</style>\n",
              "<table border=\"1\" class=\"dataframe\">\n",
              "  <thead>\n",
              "    <tr style=\"text-align: right;\">\n",
              "      <th></th>\n",
              "      <th>price</th>\n",
              "      <th>model_year</th>\n",
              "      <th>model</th>\n",
              "      <th>condition</th>\n",
              "      <th>cylinders</th>\n",
              "      <th>fuel</th>\n",
              "      <th>odometer</th>\n",
              "      <th>transmission</th>\n",
              "      <th>type</th>\n",
              "      <th>paint_color</th>\n",
              "      <th>is_4wd</th>\n",
              "      <th>date_posted</th>\n",
              "      <th>days_listed</th>\n",
              "      <th>dia_semana_propaganda</th>\n",
              "      <th>mes_propaganda</th>\n",
              "      <th>ano_propaganda</th>\n",
              "    </tr>\n",
              "  </thead>\n",
              "  <tbody>\n",
              "    <tr>\n",
              "      <th>0</th>\n",
              "      <td>9400</td>\n",
              "      <td>2011.0</td>\n",
              "      <td>bmw x5</td>\n",
              "      <td>good</td>\n",
              "      <td>6.0</td>\n",
              "      <td>gas</td>\n",
              "      <td>145000.000000</td>\n",
              "      <td>automatic</td>\n",
              "      <td>SUV</td>\n",
              "      <td>NaN</td>\n",
              "      <td>1.0</td>\n",
              "      <td>2018-06-23</td>\n",
              "      <td>19</td>\n",
              "      <td>5</td>\n",
              "      <td>6</td>\n",
              "      <td>2018</td>\n",
              "    </tr>\n",
              "    <tr>\n",
              "      <th>1</th>\n",
              "      <td>25500</td>\n",
              "      <td>NaN</td>\n",
              "      <td>ford f-150</td>\n",
              "      <td>good</td>\n",
              "      <td>6.0</td>\n",
              "      <td>gas</td>\n",
              "      <td>88705.000000</td>\n",
              "      <td>automatic</td>\n",
              "      <td>pickup</td>\n",
              "      <td>white</td>\n",
              "      <td>1.0</td>\n",
              "      <td>2018-10-19</td>\n",
              "      <td>50</td>\n",
              "      <td>4</td>\n",
              "      <td>10</td>\n",
              "      <td>2018</td>\n",
              "    </tr>\n",
              "    <tr>\n",
              "      <th>2</th>\n",
              "      <td>5500</td>\n",
              "      <td>2013.0</td>\n",
              "      <td>hyundai sonata</td>\n",
              "      <td>like new</td>\n",
              "      <td>4.0</td>\n",
              "      <td>gas</td>\n",
              "      <td>110000.000000</td>\n",
              "      <td>automatic</td>\n",
              "      <td>sedan</td>\n",
              "      <td>red</td>\n",
              "      <td>0.0</td>\n",
              "      <td>2019-02-07</td>\n",
              "      <td>79</td>\n",
              "      <td>3</td>\n",
              "      <td>2</td>\n",
              "      <td>2019</td>\n",
              "    </tr>\n",
              "    <tr>\n",
              "      <th>3</th>\n",
              "      <td>1500</td>\n",
              "      <td>2003.0</td>\n",
              "      <td>ford f-150</td>\n",
              "      <td>fair</td>\n",
              "      <td>8.0</td>\n",
              "      <td>gas</td>\n",
              "      <td>183062.233577</td>\n",
              "      <td>automatic</td>\n",
              "      <td>pickup</td>\n",
              "      <td>NaN</td>\n",
              "      <td>0.0</td>\n",
              "      <td>2019-03-22</td>\n",
              "      <td>9</td>\n",
              "      <td>4</td>\n",
              "      <td>3</td>\n",
              "      <td>2019</td>\n",
              "    </tr>\n",
              "    <tr>\n",
              "      <th>4</th>\n",
              "      <td>14900</td>\n",
              "      <td>2017.0</td>\n",
              "      <td>chrysler 200</td>\n",
              "      <td>excellent</td>\n",
              "      <td>4.0</td>\n",
              "      <td>gas</td>\n",
              "      <td>80903.000000</td>\n",
              "      <td>automatic</td>\n",
              "      <td>sedan</td>\n",
              "      <td>black</td>\n",
              "      <td>0.0</td>\n",
              "      <td>2019-04-02</td>\n",
              "      <td>28</td>\n",
              "      <td>1</td>\n",
              "      <td>4</td>\n",
              "      <td>2019</td>\n",
              "    </tr>\n",
              "    <tr>\n",
              "      <th>...</th>\n",
              "      <td>...</td>\n",
              "      <td>...</td>\n",
              "      <td>...</td>\n",
              "      <td>...</td>\n",
              "      <td>...</td>\n",
              "      <td>...</td>\n",
              "      <td>...</td>\n",
              "      <td>...</td>\n",
              "      <td>...</td>\n",
              "      <td>...</td>\n",
              "      <td>...</td>\n",
              "      <td>...</td>\n",
              "      <td>...</td>\n",
              "      <td>...</td>\n",
              "      <td>...</td>\n",
              "      <td>...</td>\n",
              "    </tr>\n",
              "    <tr>\n",
              "      <th>51520</th>\n",
              "      <td>9249</td>\n",
              "      <td>2013.0</td>\n",
              "      <td>nissan maxima</td>\n",
              "      <td>like new</td>\n",
              "      <td>6.0</td>\n",
              "      <td>gas</td>\n",
              "      <td>88136.000000</td>\n",
              "      <td>automatic</td>\n",
              "      <td>sedan</td>\n",
              "      <td>black</td>\n",
              "      <td>0.0</td>\n",
              "      <td>2018-10-03</td>\n",
              "      <td>37</td>\n",
              "      <td>2</td>\n",
              "      <td>10</td>\n",
              "      <td>2018</td>\n",
              "    </tr>\n",
              "    <tr>\n",
              "      <th>51521</th>\n",
              "      <td>2700</td>\n",
              "      <td>2002.0</td>\n",
              "      <td>honda civic</td>\n",
              "      <td>salvage</td>\n",
              "      <td>4.0</td>\n",
              "      <td>gas</td>\n",
              "      <td>181500.000000</td>\n",
              "      <td>automatic</td>\n",
              "      <td>sedan</td>\n",
              "      <td>white</td>\n",
              "      <td>0.0</td>\n",
              "      <td>2018-11-14</td>\n",
              "      <td>22</td>\n",
              "      <td>2</td>\n",
              "      <td>11</td>\n",
              "      <td>2018</td>\n",
              "    </tr>\n",
              "    <tr>\n",
              "      <th>51522</th>\n",
              "      <td>3950</td>\n",
              "      <td>2009.0</td>\n",
              "      <td>hyundai sonata</td>\n",
              "      <td>excellent</td>\n",
              "      <td>4.0</td>\n",
              "      <td>gas</td>\n",
              "      <td>128000.000000</td>\n",
              "      <td>automatic</td>\n",
              "      <td>sedan</td>\n",
              "      <td>blue</td>\n",
              "      <td>0.0</td>\n",
              "      <td>2018-11-15</td>\n",
              "      <td>32</td>\n",
              "      <td>3</td>\n",
              "      <td>11</td>\n",
              "      <td>2018</td>\n",
              "    </tr>\n",
              "    <tr>\n",
              "      <th>51523</th>\n",
              "      <td>7455</td>\n",
              "      <td>2013.0</td>\n",
              "      <td>toyota corolla</td>\n",
              "      <td>good</td>\n",
              "      <td>4.0</td>\n",
              "      <td>gas</td>\n",
              "      <td>139573.000000</td>\n",
              "      <td>automatic</td>\n",
              "      <td>sedan</td>\n",
              "      <td>black</td>\n",
              "      <td>0.0</td>\n",
              "      <td>2018-07-02</td>\n",
              "      <td>71</td>\n",
              "      <td>0</td>\n",
              "      <td>7</td>\n",
              "      <td>2018</td>\n",
              "    </tr>\n",
              "    <tr>\n",
              "      <th>51524</th>\n",
              "      <td>6300</td>\n",
              "      <td>2014.0</td>\n",
              "      <td>nissan altima</td>\n",
              "      <td>good</td>\n",
              "      <td>4.0</td>\n",
              "      <td>gas</td>\n",
              "      <td>129919.930980</td>\n",
              "      <td>automatic</td>\n",
              "      <td>sedan</td>\n",
              "      <td>NaN</td>\n",
              "      <td>0.0</td>\n",
              "      <td>2018-06-05</td>\n",
              "      <td>10</td>\n",
              "      <td>1</td>\n",
              "      <td>6</td>\n",
              "      <td>2018</td>\n",
              "    </tr>\n",
              "  </tbody>\n",
              "</table>\n",
              "<p>51525 rows × 16 columns</p>\n",
              "</div>"
            ],
            "text/plain": [
              "       price  model_year           model  condition  cylinders fuel  \\\n",
              "0       9400      2011.0          bmw x5       good        6.0  gas   \n",
              "1      25500         NaN      ford f-150       good        6.0  gas   \n",
              "2       5500      2013.0  hyundai sonata   like new        4.0  gas   \n",
              "3       1500      2003.0      ford f-150       fair        8.0  gas   \n",
              "4      14900      2017.0    chrysler 200  excellent        4.0  gas   \n",
              "...      ...         ...             ...        ...        ...  ...   \n",
              "51520   9249      2013.0   nissan maxima   like new        6.0  gas   \n",
              "51521   2700      2002.0     honda civic    salvage        4.0  gas   \n",
              "51522   3950      2009.0  hyundai sonata  excellent        4.0  gas   \n",
              "51523   7455      2013.0  toyota corolla       good        4.0  gas   \n",
              "51524   6300      2014.0   nissan altima       good        4.0  gas   \n",
              "\n",
              "            odometer transmission    type paint_color  is_4wd date_posted  \\\n",
              "0      145000.000000    automatic     SUV         NaN     1.0  2018-06-23   \n",
              "1       88705.000000    automatic  pickup       white     1.0  2018-10-19   \n",
              "2      110000.000000    automatic   sedan         red     0.0  2019-02-07   \n",
              "3      183062.233577    automatic  pickup         NaN     0.0  2019-03-22   \n",
              "4       80903.000000    automatic   sedan       black     0.0  2019-04-02   \n",
              "...              ...          ...     ...         ...     ...         ...   \n",
              "51520   88136.000000    automatic   sedan       black     0.0  2018-10-03   \n",
              "51521  181500.000000    automatic   sedan       white     0.0  2018-11-14   \n",
              "51522  128000.000000    automatic   sedan        blue     0.0  2018-11-15   \n",
              "51523  139573.000000    automatic   sedan       black     0.0  2018-07-02   \n",
              "51524  129919.930980    automatic   sedan         NaN     0.0  2018-06-05   \n",
              "\n",
              "       days_listed  dia_semana_propaganda  mes_propaganda  ano_propaganda  \n",
              "0               19                      5               6            2018  \n",
              "1               50                      4              10            2018  \n",
              "2               79                      3               2            2019  \n",
              "3                9                      4               3            2019  \n",
              "4               28                      1               4            2019  \n",
              "...            ...                    ...             ...             ...  \n",
              "51520           37                      2              10            2018  \n",
              "51521           22                      2              11            2018  \n",
              "51522           32                      3              11            2018  \n",
              "51523           71                      0               7            2018  \n",
              "51524           10                      1               6            2018  \n",
              "\n",
              "[51525 rows x 16 columns]"
            ]
          },
          "execution_count": 35,
          "metadata": {},
          "output_type": "execute_result"
        }
      ],
      "source": [
        "# Adicione valores data/hora para quando a propaganda estiver colocada\n",
        "df['dia_semana_propaganda'] = df['date_posted'].dt.weekday\n",
        "df['mes_propaganda'] = df['date_posted'].dt.month\n",
        "df['ano_propaganda'] = df['date_posted'].dt.year\n",
        "df"
      ]
    },
    {
      "cell_type": "code",
      "execution_count": null,
      "metadata": {
        "id": "XjsM_T4dAcTL",
        "outputId": "afa16662-f091-4ab7-84ec-706019309129"
      },
      "outputs": [
        {
          "data": {
            "text/html": [
              "<div>\n",
              "<style scoped>\n",
              "    .dataframe tbody tr th:only-of-type {\n",
              "        vertical-align: middle;\n",
              "    }\n",
              "\n",
              "    .dataframe tbody tr th {\n",
              "        vertical-align: top;\n",
              "    }\n",
              "\n",
              "    .dataframe thead th {\n",
              "        text-align: right;\n",
              "    }\n",
              "</style>\n",
              "<table border=\"1\" class=\"dataframe\">\n",
              "  <thead>\n",
              "    <tr style=\"text-align: right;\">\n",
              "      <th></th>\n",
              "      <th>price</th>\n",
              "      <th>model_year</th>\n",
              "      <th>model</th>\n",
              "      <th>condition</th>\n",
              "      <th>cylinders</th>\n",
              "      <th>fuel</th>\n",
              "      <th>odometer</th>\n",
              "      <th>transmission</th>\n",
              "      <th>type</th>\n",
              "      <th>paint_color</th>\n",
              "      <th>is_4wd</th>\n",
              "      <th>date_posted</th>\n",
              "      <th>days_listed</th>\n",
              "      <th>dia_semana_propaganda</th>\n",
              "      <th>mes_propaganda</th>\n",
              "      <th>ano_propaganda</th>\n",
              "      <th>idade</th>\n",
              "    </tr>\n",
              "  </thead>\n",
              "  <tbody>\n",
              "    <tr>\n",
              "      <th>0</th>\n",
              "      <td>9400</td>\n",
              "      <td>2011.0</td>\n",
              "      <td>bmw x5</td>\n",
              "      <td>good</td>\n",
              "      <td>6.0</td>\n",
              "      <td>gas</td>\n",
              "      <td>145000.000000</td>\n",
              "      <td>automatic</td>\n",
              "      <td>SUV</td>\n",
              "      <td>NaN</td>\n",
              "      <td>1.0</td>\n",
              "      <td>2018-06-23</td>\n",
              "      <td>19</td>\n",
              "      <td>5</td>\n",
              "      <td>6</td>\n",
              "      <td>2018</td>\n",
              "      <td>7.0</td>\n",
              "    </tr>\n",
              "    <tr>\n",
              "      <th>1</th>\n",
              "      <td>25500</td>\n",
              "      <td>NaN</td>\n",
              "      <td>ford f-150</td>\n",
              "      <td>good</td>\n",
              "      <td>6.0</td>\n",
              "      <td>gas</td>\n",
              "      <td>88705.000000</td>\n",
              "      <td>automatic</td>\n",
              "      <td>pickup</td>\n",
              "      <td>white</td>\n",
              "      <td>1.0</td>\n",
              "      <td>2018-10-19</td>\n",
              "      <td>50</td>\n",
              "      <td>4</td>\n",
              "      <td>10</td>\n",
              "      <td>2018</td>\n",
              "      <td>NaN</td>\n",
              "    </tr>\n",
              "    <tr>\n",
              "      <th>2</th>\n",
              "      <td>5500</td>\n",
              "      <td>2013.0</td>\n",
              "      <td>hyundai sonata</td>\n",
              "      <td>like new</td>\n",
              "      <td>4.0</td>\n",
              "      <td>gas</td>\n",
              "      <td>110000.000000</td>\n",
              "      <td>automatic</td>\n",
              "      <td>sedan</td>\n",
              "      <td>red</td>\n",
              "      <td>0.0</td>\n",
              "      <td>2019-02-07</td>\n",
              "      <td>79</td>\n",
              "      <td>3</td>\n",
              "      <td>2</td>\n",
              "      <td>2019</td>\n",
              "      <td>6.0</td>\n",
              "    </tr>\n",
              "    <tr>\n",
              "      <th>3</th>\n",
              "      <td>1500</td>\n",
              "      <td>2003.0</td>\n",
              "      <td>ford f-150</td>\n",
              "      <td>fair</td>\n",
              "      <td>8.0</td>\n",
              "      <td>gas</td>\n",
              "      <td>183062.233577</td>\n",
              "      <td>automatic</td>\n",
              "      <td>pickup</td>\n",
              "      <td>NaN</td>\n",
              "      <td>0.0</td>\n",
              "      <td>2019-03-22</td>\n",
              "      <td>9</td>\n",
              "      <td>4</td>\n",
              "      <td>3</td>\n",
              "      <td>2019</td>\n",
              "      <td>16.0</td>\n",
              "    </tr>\n",
              "    <tr>\n",
              "      <th>4</th>\n",
              "      <td>14900</td>\n",
              "      <td>2017.0</td>\n",
              "      <td>chrysler 200</td>\n",
              "      <td>excellent</td>\n",
              "      <td>4.0</td>\n",
              "      <td>gas</td>\n",
              "      <td>80903.000000</td>\n",
              "      <td>automatic</td>\n",
              "      <td>sedan</td>\n",
              "      <td>black</td>\n",
              "      <td>0.0</td>\n",
              "      <td>2019-04-02</td>\n",
              "      <td>28</td>\n",
              "      <td>1</td>\n",
              "      <td>4</td>\n",
              "      <td>2019</td>\n",
              "      <td>2.0</td>\n",
              "    </tr>\n",
              "    <tr>\n",
              "      <th>...</th>\n",
              "      <td>...</td>\n",
              "      <td>...</td>\n",
              "      <td>...</td>\n",
              "      <td>...</td>\n",
              "      <td>...</td>\n",
              "      <td>...</td>\n",
              "      <td>...</td>\n",
              "      <td>...</td>\n",
              "      <td>...</td>\n",
              "      <td>...</td>\n",
              "      <td>...</td>\n",
              "      <td>...</td>\n",
              "      <td>...</td>\n",
              "      <td>...</td>\n",
              "      <td>...</td>\n",
              "      <td>...</td>\n",
              "      <td>...</td>\n",
              "    </tr>\n",
              "    <tr>\n",
              "      <th>51520</th>\n",
              "      <td>9249</td>\n",
              "      <td>2013.0</td>\n",
              "      <td>nissan maxima</td>\n",
              "      <td>like new</td>\n",
              "      <td>6.0</td>\n",
              "      <td>gas</td>\n",
              "      <td>88136.000000</td>\n",
              "      <td>automatic</td>\n",
              "      <td>sedan</td>\n",
              "      <td>black</td>\n",
              "      <td>0.0</td>\n",
              "      <td>2018-10-03</td>\n",
              "      <td>37</td>\n",
              "      <td>2</td>\n",
              "      <td>10</td>\n",
              "      <td>2018</td>\n",
              "      <td>5.0</td>\n",
              "    </tr>\n",
              "    <tr>\n",
              "      <th>51521</th>\n",
              "      <td>2700</td>\n",
              "      <td>2002.0</td>\n",
              "      <td>honda civic</td>\n",
              "      <td>salvage</td>\n",
              "      <td>4.0</td>\n",
              "      <td>gas</td>\n",
              "      <td>181500.000000</td>\n",
              "      <td>automatic</td>\n",
              "      <td>sedan</td>\n",
              "      <td>white</td>\n",
              "      <td>0.0</td>\n",
              "      <td>2018-11-14</td>\n",
              "      <td>22</td>\n",
              "      <td>2</td>\n",
              "      <td>11</td>\n",
              "      <td>2018</td>\n",
              "      <td>16.0</td>\n",
              "    </tr>\n",
              "    <tr>\n",
              "      <th>51522</th>\n",
              "      <td>3950</td>\n",
              "      <td>2009.0</td>\n",
              "      <td>hyundai sonata</td>\n",
              "      <td>excellent</td>\n",
              "      <td>4.0</td>\n",
              "      <td>gas</td>\n",
              "      <td>128000.000000</td>\n",
              "      <td>automatic</td>\n",
              "      <td>sedan</td>\n",
              "      <td>blue</td>\n",
              "      <td>0.0</td>\n",
              "      <td>2018-11-15</td>\n",
              "      <td>32</td>\n",
              "      <td>3</td>\n",
              "      <td>11</td>\n",
              "      <td>2018</td>\n",
              "      <td>9.0</td>\n",
              "    </tr>\n",
              "    <tr>\n",
              "      <th>51523</th>\n",
              "      <td>7455</td>\n",
              "      <td>2013.0</td>\n",
              "      <td>toyota corolla</td>\n",
              "      <td>good</td>\n",
              "      <td>4.0</td>\n",
              "      <td>gas</td>\n",
              "      <td>139573.000000</td>\n",
              "      <td>automatic</td>\n",
              "      <td>sedan</td>\n",
              "      <td>black</td>\n",
              "      <td>0.0</td>\n",
              "      <td>2018-07-02</td>\n",
              "      <td>71</td>\n",
              "      <td>0</td>\n",
              "      <td>7</td>\n",
              "      <td>2018</td>\n",
              "      <td>5.0</td>\n",
              "    </tr>\n",
              "    <tr>\n",
              "      <th>51524</th>\n",
              "      <td>6300</td>\n",
              "      <td>2014.0</td>\n",
              "      <td>nissan altima</td>\n",
              "      <td>good</td>\n",
              "      <td>4.0</td>\n",
              "      <td>gas</td>\n",
              "      <td>129919.930980</td>\n",
              "      <td>automatic</td>\n",
              "      <td>sedan</td>\n",
              "      <td>NaN</td>\n",
              "      <td>0.0</td>\n",
              "      <td>2018-06-05</td>\n",
              "      <td>10</td>\n",
              "      <td>1</td>\n",
              "      <td>6</td>\n",
              "      <td>2018</td>\n",
              "      <td>4.0</td>\n",
              "    </tr>\n",
              "  </tbody>\n",
              "</table>\n",
              "<p>51525 rows × 17 columns</p>\n",
              "</div>"
            ],
            "text/plain": [
              "       price  model_year           model  condition  cylinders fuel  \\\n",
              "0       9400      2011.0          bmw x5       good        6.0  gas   \n",
              "1      25500         NaN      ford f-150       good        6.0  gas   \n",
              "2       5500      2013.0  hyundai sonata   like new        4.0  gas   \n",
              "3       1500      2003.0      ford f-150       fair        8.0  gas   \n",
              "4      14900      2017.0    chrysler 200  excellent        4.0  gas   \n",
              "...      ...         ...             ...        ...        ...  ...   \n",
              "51520   9249      2013.0   nissan maxima   like new        6.0  gas   \n",
              "51521   2700      2002.0     honda civic    salvage        4.0  gas   \n",
              "51522   3950      2009.0  hyundai sonata  excellent        4.0  gas   \n",
              "51523   7455      2013.0  toyota corolla       good        4.0  gas   \n",
              "51524   6300      2014.0   nissan altima       good        4.0  gas   \n",
              "\n",
              "            odometer transmission    type paint_color  is_4wd date_posted  \\\n",
              "0      145000.000000    automatic     SUV         NaN     1.0  2018-06-23   \n",
              "1       88705.000000    automatic  pickup       white     1.0  2018-10-19   \n",
              "2      110000.000000    automatic   sedan         red     0.0  2019-02-07   \n",
              "3      183062.233577    automatic  pickup         NaN     0.0  2019-03-22   \n",
              "4       80903.000000    automatic   sedan       black     0.0  2019-04-02   \n",
              "...              ...          ...     ...         ...     ...         ...   \n",
              "51520   88136.000000    automatic   sedan       black     0.0  2018-10-03   \n",
              "51521  181500.000000    automatic   sedan       white     0.0  2018-11-14   \n",
              "51522  128000.000000    automatic   sedan        blue     0.0  2018-11-15   \n",
              "51523  139573.000000    automatic   sedan       black     0.0  2018-07-02   \n",
              "51524  129919.930980    automatic   sedan         NaN     0.0  2018-06-05   \n",
              "\n",
              "       days_listed  dia_semana_propaganda  mes_propaganda  ano_propaganda  \\\n",
              "0               19                      5               6            2018   \n",
              "1               50                      4              10            2018   \n",
              "2               79                      3               2            2019   \n",
              "3                9                      4               3            2019   \n",
              "4               28                      1               4            2019   \n",
              "...            ...                    ...             ...             ...   \n",
              "51520           37                      2              10            2018   \n",
              "51521           22                      2              11            2018   \n",
              "51522           32                      3              11            2018   \n",
              "51523           71                      0               7            2018   \n",
              "51524           10                      1               6            2018   \n",
              "\n",
              "       idade  \n",
              "0        7.0  \n",
              "1        NaN  \n",
              "2        6.0  \n",
              "3       16.0  \n",
              "4        2.0  \n",
              "...      ...  \n",
              "51520    5.0  \n",
              "51521   16.0  \n",
              "51522    9.0  \n",
              "51523    5.0  \n",
              "51524    4.0  \n",
              "\n",
              "[51525 rows x 17 columns]"
            ]
          },
          "execution_count": 36,
          "metadata": {},
          "output_type": "execute_result"
        }
      ],
      "source": [
        "# Adicione a idade do veículo quando a propaganda for colocada\n",
        "df['idade'] = df['ano_propaganda']-df['model_year']\n",
        "df"
      ]
    },
    {
      "cell_type": "code",
      "execution_count": null,
      "metadata": {
        "id": "kHXHap7wAcTM",
        "outputId": "a4ddb6bd-3ccb-4bdb-adbc-ab8f1e39ade8"
      },
      "outputs": [
        {
          "data": {
            "text/html": [
              "<div>\n",
              "<style scoped>\n",
              "    .dataframe tbody tr th:only-of-type {\n",
              "        vertical-align: middle;\n",
              "    }\n",
              "\n",
              "    .dataframe tbody tr th {\n",
              "        vertical-align: top;\n",
              "    }\n",
              "\n",
              "    .dataframe thead th {\n",
              "        text-align: right;\n",
              "    }\n",
              "</style>\n",
              "<table border=\"1\" class=\"dataframe\">\n",
              "  <thead>\n",
              "    <tr style=\"text-align: right;\">\n",
              "      <th></th>\n",
              "      <th>price</th>\n",
              "      <th>model_year</th>\n",
              "      <th>model</th>\n",
              "      <th>condition</th>\n",
              "      <th>cylinders</th>\n",
              "      <th>fuel</th>\n",
              "      <th>odometer</th>\n",
              "      <th>transmission</th>\n",
              "      <th>type</th>\n",
              "      <th>paint_color</th>\n",
              "      <th>is_4wd</th>\n",
              "      <th>date_posted</th>\n",
              "      <th>days_listed</th>\n",
              "      <th>dia_semana_propaganda</th>\n",
              "      <th>mes_propaganda</th>\n",
              "      <th>ano_propaganda</th>\n",
              "      <th>idade</th>\n",
              "    </tr>\n",
              "  </thead>\n",
              "  <tbody>\n",
              "    <tr>\n",
              "      <th>19</th>\n",
              "      <td>13990</td>\n",
              "      <td>2018.0</td>\n",
              "      <td>hyundai elantra</td>\n",
              "      <td>excellent</td>\n",
              "      <td>4.0</td>\n",
              "      <td>gas</td>\n",
              "      <td>31932.0</td>\n",
              "      <td>automatic</td>\n",
              "      <td>sedan</td>\n",
              "      <td>red</td>\n",
              "      <td>0.0</td>\n",
              "      <td>2018-08-25</td>\n",
              "      <td>27</td>\n",
              "      <td>5</td>\n",
              "      <td>8</td>\n",
              "      <td>2018</td>\n",
              "      <td>0.0</td>\n",
              "    </tr>\n",
              "    <tr>\n",
              "      <th>71</th>\n",
              "      <td>23300</td>\n",
              "      <td>2018.0</td>\n",
              "      <td>nissan frontier crew cab sv</td>\n",
              "      <td>good</td>\n",
              "      <td>6.0</td>\n",
              "      <td>gas</td>\n",
              "      <td>27493.0</td>\n",
              "      <td>other</td>\n",
              "      <td>pickup</td>\n",
              "      <td>NaN</td>\n",
              "      <td>1.0</td>\n",
              "      <td>2018-10-13</td>\n",
              "      <td>36</td>\n",
              "      <td>5</td>\n",
              "      <td>10</td>\n",
              "      <td>2018</td>\n",
              "      <td>0.0</td>\n",
              "    </tr>\n",
              "    <tr>\n",
              "      <th>78</th>\n",
              "      <td>23800</td>\n",
              "      <td>2019.0</td>\n",
              "      <td>nissan frontier crew cab sv</td>\n",
              "      <td>good</td>\n",
              "      <td>6.0</td>\n",
              "      <td>gas</td>\n",
              "      <td>10899.0</td>\n",
              "      <td>other</td>\n",
              "      <td>pickup</td>\n",
              "      <td>silver</td>\n",
              "      <td>1.0</td>\n",
              "      <td>2019-02-28</td>\n",
              "      <td>30</td>\n",
              "      <td>3</td>\n",
              "      <td>2</td>\n",
              "      <td>2019</td>\n",
              "      <td>0.0</td>\n",
              "    </tr>\n",
              "    <tr>\n",
              "      <th>99</th>\n",
              "      <td>39950</td>\n",
              "      <td>2018.0</td>\n",
              "      <td>chevrolet silverado</td>\n",
              "      <td>excellent</td>\n",
              "      <td>8.0</td>\n",
              "      <td>gas</td>\n",
              "      <td>18500.0</td>\n",
              "      <td>automatic</td>\n",
              "      <td>truck</td>\n",
              "      <td>NaN</td>\n",
              "      <td>1.0</td>\n",
              "      <td>2018-08-05</td>\n",
              "      <td>16</td>\n",
              "      <td>6</td>\n",
              "      <td>8</td>\n",
              "      <td>2018</td>\n",
              "      <td>0.0</td>\n",
              "    </tr>\n",
              "    <tr>\n",
              "      <th>106</th>\n",
              "      <td>21500</td>\n",
              "      <td>2019.0</td>\n",
              "      <td>nissan frontier crew cab sv</td>\n",
              "      <td>good</td>\n",
              "      <td>6.0</td>\n",
              "      <td>gas</td>\n",
              "      <td>16168.0</td>\n",
              "      <td>other</td>\n",
              "      <td>pickup</td>\n",
              "      <td>white</td>\n",
              "      <td>0.0</td>\n",
              "      <td>2019-03-29</td>\n",
              "      <td>70</td>\n",
              "      <td>4</td>\n",
              "      <td>3</td>\n",
              "      <td>2019</td>\n",
              "      <td>0.0</td>\n",
              "    </tr>\n",
              "    <tr>\n",
              "      <th>...</th>\n",
              "      <td>...</td>\n",
              "      <td>...</td>\n",
              "      <td>...</td>\n",
              "      <td>...</td>\n",
              "      <td>...</td>\n",
              "      <td>...</td>\n",
              "      <td>...</td>\n",
              "      <td>...</td>\n",
              "      <td>...</td>\n",
              "      <td>...</td>\n",
              "      <td>...</td>\n",
              "      <td>...</td>\n",
              "      <td>...</td>\n",
              "      <td>...</td>\n",
              "      <td>...</td>\n",
              "      <td>...</td>\n",
              "      <td>...</td>\n",
              "    </tr>\n",
              "    <tr>\n",
              "      <th>51376</th>\n",
              "      <td>27890</td>\n",
              "      <td>2018.0</td>\n",
              "      <td>ram 1500</td>\n",
              "      <td>excellent</td>\n",
              "      <td>8.0</td>\n",
              "      <td>gas</td>\n",
              "      <td>9446.0</td>\n",
              "      <td>automatic</td>\n",
              "      <td>truck</td>\n",
              "      <td>NaN</td>\n",
              "      <td>1.0</td>\n",
              "      <td>2018-05-06</td>\n",
              "      <td>39</td>\n",
              "      <td>6</td>\n",
              "      <td>5</td>\n",
              "      <td>2018</td>\n",
              "      <td>0.0</td>\n",
              "    </tr>\n",
              "    <tr>\n",
              "      <th>51442</th>\n",
              "      <td>28990</td>\n",
              "      <td>2018.0</td>\n",
              "      <td>ford f150</td>\n",
              "      <td>excellent</td>\n",
              "      <td>8.0</td>\n",
              "      <td>gas</td>\n",
              "      <td>10152.0</td>\n",
              "      <td>automatic</td>\n",
              "      <td>truck</td>\n",
              "      <td>white</td>\n",
              "      <td>1.0</td>\n",
              "      <td>2018-06-13</td>\n",
              "      <td>47</td>\n",
              "      <td>2</td>\n",
              "      <td>6</td>\n",
              "      <td>2018</td>\n",
              "      <td>0.0</td>\n",
              "    </tr>\n",
              "    <tr>\n",
              "      <th>51446</th>\n",
              "      <td>15999</td>\n",
              "      <td>2018.0</td>\n",
              "      <td>chevrolet malibu</td>\n",
              "      <td>excellent</td>\n",
              "      <td>4.0</td>\n",
              "      <td>gas</td>\n",
              "      <td>50502.0</td>\n",
              "      <td>automatic</td>\n",
              "      <td>sedan</td>\n",
              "      <td>black</td>\n",
              "      <td>0.0</td>\n",
              "      <td>2018-07-28</td>\n",
              "      <td>8</td>\n",
              "      <td>5</td>\n",
              "      <td>7</td>\n",
              "      <td>2018</td>\n",
              "      <td>0.0</td>\n",
              "    </tr>\n",
              "    <tr>\n",
              "      <th>51447</th>\n",
              "      <td>33990</td>\n",
              "      <td>2019.0</td>\n",
              "      <td>ram 1500</td>\n",
              "      <td>excellent</td>\n",
              "      <td>8.0</td>\n",
              "      <td>gas</td>\n",
              "      <td>9000.0</td>\n",
              "      <td>automatic</td>\n",
              "      <td>truck</td>\n",
              "      <td>white</td>\n",
              "      <td>1.0</td>\n",
              "      <td>2019-01-25</td>\n",
              "      <td>36</td>\n",
              "      <td>4</td>\n",
              "      <td>1</td>\n",
              "      <td>2019</td>\n",
              "      <td>0.0</td>\n",
              "    </tr>\n",
              "    <tr>\n",
              "      <th>51504</th>\n",
              "      <td>20481</td>\n",
              "      <td>2018.0</td>\n",
              "      <td>toyota camry</td>\n",
              "      <td>like new</td>\n",
              "      <td>4.0</td>\n",
              "      <td>gas</td>\n",
              "      <td>38590.0</td>\n",
              "      <td>automatic</td>\n",
              "      <td>sedan</td>\n",
              "      <td>silver</td>\n",
              "      <td>0.0</td>\n",
              "      <td>2018-12-06</td>\n",
              "      <td>4</td>\n",
              "      <td>3</td>\n",
              "      <td>12</td>\n",
              "      <td>2018</td>\n",
              "      <td>0.0</td>\n",
              "    </tr>\n",
              "  </tbody>\n",
              "</table>\n",
              "<p>2128 rows × 17 columns</p>\n",
              "</div>"
            ],
            "text/plain": [
              "       price  model_year                        model  condition  cylinders  \\\n",
              "19     13990      2018.0              hyundai elantra  excellent        4.0   \n",
              "71     23300      2018.0  nissan frontier crew cab sv       good        6.0   \n",
              "78     23800      2019.0  nissan frontier crew cab sv       good        6.0   \n",
              "99     39950      2018.0          chevrolet silverado  excellent        8.0   \n",
              "106    21500      2019.0  nissan frontier crew cab sv       good        6.0   \n",
              "...      ...         ...                          ...        ...        ...   \n",
              "51376  27890      2018.0                     ram 1500  excellent        8.0   \n",
              "51442  28990      2018.0                    ford f150  excellent        8.0   \n",
              "51446  15999      2018.0             chevrolet malibu  excellent        4.0   \n",
              "51447  33990      2019.0                     ram 1500  excellent        8.0   \n",
              "51504  20481      2018.0                 toyota camry   like new        4.0   \n",
              "\n",
              "      fuel  odometer transmission    type paint_color  is_4wd date_posted  \\\n",
              "19     gas   31932.0    automatic   sedan         red     0.0  2018-08-25   \n",
              "71     gas   27493.0        other  pickup         NaN     1.0  2018-10-13   \n",
              "78     gas   10899.0        other  pickup      silver     1.0  2019-02-28   \n",
              "99     gas   18500.0    automatic   truck         NaN     1.0  2018-08-05   \n",
              "106    gas   16168.0        other  pickup       white     0.0  2019-03-29   \n",
              "...    ...       ...          ...     ...         ...     ...         ...   \n",
              "51376  gas    9446.0    automatic   truck         NaN     1.0  2018-05-06   \n",
              "51442  gas   10152.0    automatic   truck       white     1.0  2018-06-13   \n",
              "51446  gas   50502.0    automatic   sedan       black     0.0  2018-07-28   \n",
              "51447  gas    9000.0    automatic   truck       white     1.0  2019-01-25   \n",
              "51504  gas   38590.0    automatic   sedan      silver     0.0  2018-12-06   \n",
              "\n",
              "       days_listed  dia_semana_propaganda  mes_propaganda  ano_propaganda  \\\n",
              "19              27                      5               8            2018   \n",
              "71              36                      5              10            2018   \n",
              "78              30                      3               2            2019   \n",
              "99              16                      6               8            2018   \n",
              "106             70                      4               3            2019   \n",
              "...            ...                    ...             ...             ...   \n",
              "51376           39                      6               5            2018   \n",
              "51442           47                      2               6            2018   \n",
              "51446            8                      5               7            2018   \n",
              "51447           36                      4               1            2019   \n",
              "51504            4                      3              12            2018   \n",
              "\n",
              "       idade  \n",
              "19       0.0  \n",
              "71       0.0  \n",
              "78       0.0  \n",
              "99       0.0  \n",
              "106      0.0  \n",
              "...      ...  \n",
              "51376    0.0  \n",
              "51442    0.0  \n",
              "51446    0.0  \n",
              "51447    0.0  \n",
              "51504    0.0  \n",
              "\n",
              "[2128 rows x 17 columns]"
            ]
          },
          "execution_count": 37,
          "metadata": {},
          "output_type": "execute_result"
        }
      ],
      "source": [
        "# Adicione a quilometragem média por ano\n",
        "df[df['idade'] ==0]"
      ]
    },
    {
      "cell_type": "code",
      "execution_count": null,
      "metadata": {
        "id": "8neYjrcRAcTM"
      },
      "outputs": [],
      "source": [
        "df['km_ano'] = df['odometer']/df['idade']"
      ]
    },
    {
      "cell_type": "code",
      "source": [
        "def km_ano(row):\n",
        "  for row in df['km_ano']:\n",
        "    if df['idade'] == 0:\n",
        "      return df['km_ano'].fillna(df['odometer'],inplace=True)\n",
        "    elif df['idade'] != 0:\n",
        "      return df['km_ano'].fillna(df['odometer']/df['idade'],inplace=True)"
      ],
      "metadata": {
        "id": "kaZOIIesBWlR"
      },
      "execution_count": null,
      "outputs": []
    },
    {
      "cell_type": "code",
      "execution_count": null,
      "metadata": {
        "id": "irXwygo5AcTM"
      },
      "outputs": [],
      "source": [
        "df['km_ano'].replace([np.inf, -np.inf], 0, inplace=True)"
      ]
    },
    {
      "cell_type": "code",
      "execution_count": null,
      "metadata": {
        "id": "SQrd2A7BAcTM",
        "outputId": "56880785-db24-4fb2-a55e-4a2646e78a4c"
      },
      "outputs": [
        {
          "data": {
            "text/plain": [
              "paint_color              0.179854\n",
              "km_ano                   0.070277\n",
              "model_year               0.070238\n",
              "idade                    0.070238\n",
              "model                    0.000000\n",
              "condition                0.000000\n",
              "cylinders                0.000000\n",
              "fuel                     0.000000\n",
              "odometer                 0.000000\n",
              "transmission             0.000000\n",
              "type                     0.000000\n",
              "is_4wd                   0.000000\n",
              "date_posted              0.000000\n",
              "days_listed              0.000000\n",
              "dia_semana_propaganda    0.000000\n",
              "mes_propaganda           0.000000\n",
              "ano_propaganda           0.000000\n",
              "price                    0.000000\n",
              "dtype: float64"
            ]
          },
          "execution_count": 40,
          "metadata": {},
          "output_type": "execute_result"
        }
      ],
      "source": [
        "df.isnull().mean().sort_values(ascending = False)"
      ]
    },
    {
      "cell_type": "markdown",
      "metadata": {
        "id": "VkOtvzqsAcTN"
      },
      "source": [
        "Temos 7% dos dados nulos, não vou mexer neles."
      ]
    },
    {
      "cell_type": "code",
      "execution_count": null,
      "metadata": {
        "id": "MblI6z2ZAcTN"
      },
      "outputs": [],
      "source": [
        "# Categorizando de forma mais fácil de visualizar a condição do veículo\n",
        "df['condition'].where(df['condition'] != 'new', 5, inplace = True)"
      ]
    },
    {
      "cell_type": "code",
      "execution_count": null,
      "metadata": {
        "id": "FL9onxTwAcTN"
      },
      "outputs": [],
      "source": [
        "df['condition'].where(df['condition'] != 'like new', 4, inplace = True)"
      ]
    },
    {
      "cell_type": "code",
      "execution_count": null,
      "metadata": {
        "id": "hScKOwgOAcTN"
      },
      "outputs": [],
      "source": [
        "df['condition'].where(df['condition'] != 'excellent', 3,inplace = True)\n"
      ]
    },
    {
      "cell_type": "code",
      "execution_count": null,
      "metadata": {
        "id": "fBDVgZ-NAcTN"
      },
      "outputs": [],
      "source": [
        "df['condition'].where(df['condition'] != 'good', 2,inplace = True)\n"
      ]
    },
    {
      "cell_type": "code",
      "execution_count": null,
      "metadata": {
        "id": "mPGf4d8WAcTN"
      },
      "outputs": [],
      "source": [
        "df['condition'].where(df['condition'] != 'fair', 1,inplace = True)\n"
      ]
    },
    {
      "cell_type": "code",
      "execution_count": null,
      "metadata": {
        "id": "M2Zh5n91AcTN"
      },
      "outputs": [],
      "source": [
        "df['condition'].where(df['condition'] != 'salvage', 0,inplace = True)"
      ]
    },
    {
      "cell_type": "code",
      "execution_count": null,
      "metadata": {
        "id": "TnafWSezAcTN",
        "outputId": "0b2ea9be-b92b-4fd1-835f-b5b776aff368"
      },
      "outputs": [
        {
          "data": {
            "text/html": [
              "<div>\n",
              "<style scoped>\n",
              "    .dataframe tbody tr th:only-of-type {\n",
              "        vertical-align: middle;\n",
              "    }\n",
              "\n",
              "    .dataframe tbody tr th {\n",
              "        vertical-align: top;\n",
              "    }\n",
              "\n",
              "    .dataframe thead th {\n",
              "        text-align: right;\n",
              "    }\n",
              "</style>\n",
              "<table border=\"1\" class=\"dataframe\">\n",
              "  <thead>\n",
              "    <tr style=\"text-align: right;\">\n",
              "      <th></th>\n",
              "      <th>price</th>\n",
              "      <th>model_year</th>\n",
              "      <th>model</th>\n",
              "      <th>condition</th>\n",
              "      <th>cylinders</th>\n",
              "      <th>fuel</th>\n",
              "      <th>odometer</th>\n",
              "      <th>transmission</th>\n",
              "      <th>type</th>\n",
              "      <th>paint_color</th>\n",
              "      <th>is_4wd</th>\n",
              "      <th>date_posted</th>\n",
              "      <th>days_listed</th>\n",
              "      <th>dia_semana_propaganda</th>\n",
              "      <th>mes_propaganda</th>\n",
              "      <th>ano_propaganda</th>\n",
              "      <th>idade</th>\n",
              "      <th>km_ano</th>\n",
              "    </tr>\n",
              "  </thead>\n",
              "  <tbody>\n",
              "    <tr>\n",
              "      <th>0</th>\n",
              "      <td>9400</td>\n",
              "      <td>2011.0</td>\n",
              "      <td>bmw x5</td>\n",
              "      <td>2</td>\n",
              "      <td>6.0</td>\n",
              "      <td>gas</td>\n",
              "      <td>145000.000000</td>\n",
              "      <td>automatic</td>\n",
              "      <td>SUV</td>\n",
              "      <td>NaN</td>\n",
              "      <td>1.0</td>\n",
              "      <td>2018-06-23</td>\n",
              "      <td>19</td>\n",
              "      <td>5</td>\n",
              "      <td>6</td>\n",
              "      <td>2018</td>\n",
              "      <td>7.0</td>\n",
              "      <td>20714.285714</td>\n",
              "    </tr>\n",
              "    <tr>\n",
              "      <th>1</th>\n",
              "      <td>25500</td>\n",
              "      <td>NaN</td>\n",
              "      <td>ford f-150</td>\n",
              "      <td>2</td>\n",
              "      <td>6.0</td>\n",
              "      <td>gas</td>\n",
              "      <td>88705.000000</td>\n",
              "      <td>automatic</td>\n",
              "      <td>pickup</td>\n",
              "      <td>white</td>\n",
              "      <td>1.0</td>\n",
              "      <td>2018-10-19</td>\n",
              "      <td>50</td>\n",
              "      <td>4</td>\n",
              "      <td>10</td>\n",
              "      <td>2018</td>\n",
              "      <td>NaN</td>\n",
              "      <td>NaN</td>\n",
              "    </tr>\n",
              "    <tr>\n",
              "      <th>2</th>\n",
              "      <td>5500</td>\n",
              "      <td>2013.0</td>\n",
              "      <td>hyundai sonata</td>\n",
              "      <td>4</td>\n",
              "      <td>4.0</td>\n",
              "      <td>gas</td>\n",
              "      <td>110000.000000</td>\n",
              "      <td>automatic</td>\n",
              "      <td>sedan</td>\n",
              "      <td>red</td>\n",
              "      <td>0.0</td>\n",
              "      <td>2019-02-07</td>\n",
              "      <td>79</td>\n",
              "      <td>3</td>\n",
              "      <td>2</td>\n",
              "      <td>2019</td>\n",
              "      <td>6.0</td>\n",
              "      <td>18333.333333</td>\n",
              "    </tr>\n",
              "    <tr>\n",
              "      <th>3</th>\n",
              "      <td>1500</td>\n",
              "      <td>2003.0</td>\n",
              "      <td>ford f-150</td>\n",
              "      <td>1</td>\n",
              "      <td>8.0</td>\n",
              "      <td>gas</td>\n",
              "      <td>183062.233577</td>\n",
              "      <td>automatic</td>\n",
              "      <td>pickup</td>\n",
              "      <td>NaN</td>\n",
              "      <td>0.0</td>\n",
              "      <td>2019-03-22</td>\n",
              "      <td>9</td>\n",
              "      <td>4</td>\n",
              "      <td>3</td>\n",
              "      <td>2019</td>\n",
              "      <td>16.0</td>\n",
              "      <td>11441.389599</td>\n",
              "    </tr>\n",
              "    <tr>\n",
              "      <th>4</th>\n",
              "      <td>14900</td>\n",
              "      <td>2017.0</td>\n",
              "      <td>chrysler 200</td>\n",
              "      <td>3</td>\n",
              "      <td>4.0</td>\n",
              "      <td>gas</td>\n",
              "      <td>80903.000000</td>\n",
              "      <td>automatic</td>\n",
              "      <td>sedan</td>\n",
              "      <td>black</td>\n",
              "      <td>0.0</td>\n",
              "      <td>2019-04-02</td>\n",
              "      <td>28</td>\n",
              "      <td>1</td>\n",
              "      <td>4</td>\n",
              "      <td>2019</td>\n",
              "      <td>2.0</td>\n",
              "      <td>40451.500000</td>\n",
              "    </tr>\n",
              "    <tr>\n",
              "      <th>...</th>\n",
              "      <td>...</td>\n",
              "      <td>...</td>\n",
              "      <td>...</td>\n",
              "      <td>...</td>\n",
              "      <td>...</td>\n",
              "      <td>...</td>\n",
              "      <td>...</td>\n",
              "      <td>...</td>\n",
              "      <td>...</td>\n",
              "      <td>...</td>\n",
              "      <td>...</td>\n",
              "      <td>...</td>\n",
              "      <td>...</td>\n",
              "      <td>...</td>\n",
              "      <td>...</td>\n",
              "      <td>...</td>\n",
              "      <td>...</td>\n",
              "      <td>...</td>\n",
              "    </tr>\n",
              "    <tr>\n",
              "      <th>51520</th>\n",
              "      <td>9249</td>\n",
              "      <td>2013.0</td>\n",
              "      <td>nissan maxima</td>\n",
              "      <td>4</td>\n",
              "      <td>6.0</td>\n",
              "      <td>gas</td>\n",
              "      <td>88136.000000</td>\n",
              "      <td>automatic</td>\n",
              "      <td>sedan</td>\n",
              "      <td>black</td>\n",
              "      <td>0.0</td>\n",
              "      <td>2018-10-03</td>\n",
              "      <td>37</td>\n",
              "      <td>2</td>\n",
              "      <td>10</td>\n",
              "      <td>2018</td>\n",
              "      <td>5.0</td>\n",
              "      <td>17627.200000</td>\n",
              "    </tr>\n",
              "    <tr>\n",
              "      <th>51521</th>\n",
              "      <td>2700</td>\n",
              "      <td>2002.0</td>\n",
              "      <td>honda civic</td>\n",
              "      <td>0</td>\n",
              "      <td>4.0</td>\n",
              "      <td>gas</td>\n",
              "      <td>181500.000000</td>\n",
              "      <td>automatic</td>\n",
              "      <td>sedan</td>\n",
              "      <td>white</td>\n",
              "      <td>0.0</td>\n",
              "      <td>2018-11-14</td>\n",
              "      <td>22</td>\n",
              "      <td>2</td>\n",
              "      <td>11</td>\n",
              "      <td>2018</td>\n",
              "      <td>16.0</td>\n",
              "      <td>11343.750000</td>\n",
              "    </tr>\n",
              "    <tr>\n",
              "      <th>51522</th>\n",
              "      <td>3950</td>\n",
              "      <td>2009.0</td>\n",
              "      <td>hyundai sonata</td>\n",
              "      <td>3</td>\n",
              "      <td>4.0</td>\n",
              "      <td>gas</td>\n",
              "      <td>128000.000000</td>\n",
              "      <td>automatic</td>\n",
              "      <td>sedan</td>\n",
              "      <td>blue</td>\n",
              "      <td>0.0</td>\n",
              "      <td>2018-11-15</td>\n",
              "      <td>32</td>\n",
              "      <td>3</td>\n",
              "      <td>11</td>\n",
              "      <td>2018</td>\n",
              "      <td>9.0</td>\n",
              "      <td>14222.222222</td>\n",
              "    </tr>\n",
              "    <tr>\n",
              "      <th>51523</th>\n",
              "      <td>7455</td>\n",
              "      <td>2013.0</td>\n",
              "      <td>toyota corolla</td>\n",
              "      <td>2</td>\n",
              "      <td>4.0</td>\n",
              "      <td>gas</td>\n",
              "      <td>139573.000000</td>\n",
              "      <td>automatic</td>\n",
              "      <td>sedan</td>\n",
              "      <td>black</td>\n",
              "      <td>0.0</td>\n",
              "      <td>2018-07-02</td>\n",
              "      <td>71</td>\n",
              "      <td>0</td>\n",
              "      <td>7</td>\n",
              "      <td>2018</td>\n",
              "      <td>5.0</td>\n",
              "      <td>27914.600000</td>\n",
              "    </tr>\n",
              "    <tr>\n",
              "      <th>51524</th>\n",
              "      <td>6300</td>\n",
              "      <td>2014.0</td>\n",
              "      <td>nissan altima</td>\n",
              "      <td>2</td>\n",
              "      <td>4.0</td>\n",
              "      <td>gas</td>\n",
              "      <td>129919.930980</td>\n",
              "      <td>automatic</td>\n",
              "      <td>sedan</td>\n",
              "      <td>NaN</td>\n",
              "      <td>0.0</td>\n",
              "      <td>2018-06-05</td>\n",
              "      <td>10</td>\n",
              "      <td>1</td>\n",
              "      <td>6</td>\n",
              "      <td>2018</td>\n",
              "      <td>4.0</td>\n",
              "      <td>32479.982745</td>\n",
              "    </tr>\n",
              "  </tbody>\n",
              "</table>\n",
              "<p>51525 rows × 18 columns</p>\n",
              "</div>"
            ],
            "text/plain": [
              "       price  model_year           model  condition  cylinders fuel  \\\n",
              "0       9400      2011.0          bmw x5          2        6.0  gas   \n",
              "1      25500         NaN      ford f-150          2        6.0  gas   \n",
              "2       5500      2013.0  hyundai sonata          4        4.0  gas   \n",
              "3       1500      2003.0      ford f-150          1        8.0  gas   \n",
              "4      14900      2017.0    chrysler 200          3        4.0  gas   \n",
              "...      ...         ...             ...        ...        ...  ...   \n",
              "51520   9249      2013.0   nissan maxima          4        6.0  gas   \n",
              "51521   2700      2002.0     honda civic          0        4.0  gas   \n",
              "51522   3950      2009.0  hyundai sonata          3        4.0  gas   \n",
              "51523   7455      2013.0  toyota corolla          2        4.0  gas   \n",
              "51524   6300      2014.0   nissan altima          2        4.0  gas   \n",
              "\n",
              "            odometer transmission    type paint_color  is_4wd date_posted  \\\n",
              "0      145000.000000    automatic     SUV         NaN     1.0  2018-06-23   \n",
              "1       88705.000000    automatic  pickup       white     1.0  2018-10-19   \n",
              "2      110000.000000    automatic   sedan         red     0.0  2019-02-07   \n",
              "3      183062.233577    automatic  pickup         NaN     0.0  2019-03-22   \n",
              "4       80903.000000    automatic   sedan       black     0.0  2019-04-02   \n",
              "...              ...          ...     ...         ...     ...         ...   \n",
              "51520   88136.000000    automatic   sedan       black     0.0  2018-10-03   \n",
              "51521  181500.000000    automatic   sedan       white     0.0  2018-11-14   \n",
              "51522  128000.000000    automatic   sedan        blue     0.0  2018-11-15   \n",
              "51523  139573.000000    automatic   sedan       black     0.0  2018-07-02   \n",
              "51524  129919.930980    automatic   sedan         NaN     0.0  2018-06-05   \n",
              "\n",
              "       days_listed  dia_semana_propaganda  mes_propaganda  ano_propaganda  \\\n",
              "0               19                      5               6            2018   \n",
              "1               50                      4              10            2018   \n",
              "2               79                      3               2            2019   \n",
              "3                9                      4               3            2019   \n",
              "4               28                      1               4            2019   \n",
              "...            ...                    ...             ...             ...   \n",
              "51520           37                      2              10            2018   \n",
              "51521           22                      2              11            2018   \n",
              "51522           32                      3              11            2018   \n",
              "51523           71                      0               7            2018   \n",
              "51524           10                      1               6            2018   \n",
              "\n",
              "       idade        km_ano  \n",
              "0        7.0  20714.285714  \n",
              "1        NaN           NaN  \n",
              "2        6.0  18333.333333  \n",
              "3       16.0  11441.389599  \n",
              "4        2.0  40451.500000  \n",
              "...      ...           ...  \n",
              "51520    5.0  17627.200000  \n",
              "51521   16.0  11343.750000  \n",
              "51522    9.0  14222.222222  \n",
              "51523    5.0  27914.600000  \n",
              "51524    4.0  32479.982745  \n",
              "\n",
              "[51525 rows x 18 columns]"
            ]
          },
          "execution_count": 47,
          "metadata": {},
          "output_type": "execute_result"
        }
      ],
      "source": [
        "df['condition'] = pd.to_numeric(df['condition'], errors='coerce')\n",
        "df"
      ]
    },
    {
      "cell_type": "markdown",
      "metadata": {
        "id": "ApQNk3XiAcTO"
      },
      "source": [
        "## Verifique os dados limpos"
      ]
    },
    {
      "cell_type": "code",
      "execution_count": null,
      "metadata": {
        "id": "zei0uUqaAcTO",
        "outputId": "6fa0dc04-f995-43b4-ffda-6d388bc38460"
      },
      "outputs": [
        {
          "name": "stdout",
          "output_type": "stream",
          "text": [
            "<class 'pandas.core.frame.DataFrame'>\n",
            "RangeIndex: 51525 entries, 0 to 51524\n",
            "Data columns (total 18 columns):\n",
            " #   Column                 Non-Null Count  Dtype         \n",
            "---  ------                 --------------  -----         \n",
            " 0   price                  51525 non-null  int64         \n",
            " 1   model_year             47906 non-null  float64       \n",
            " 2   model                  51525 non-null  object        \n",
            " 3   condition              51525 non-null  int64         \n",
            " 4   cylinders              51525 non-null  float64       \n",
            " 5   fuel                   51525 non-null  object        \n",
            " 6   odometer               51525 non-null  float64       \n",
            " 7   transmission           51525 non-null  object        \n",
            " 8   type                   51525 non-null  object        \n",
            " 9   paint_color            42258 non-null  object        \n",
            " 10  is_4wd                 51525 non-null  float64       \n",
            " 11  date_posted            51525 non-null  datetime64[ns]\n",
            " 12  days_listed            51525 non-null  int64         \n",
            " 13  dia_semana_propaganda  51525 non-null  int64         \n",
            " 14  mes_propaganda         51525 non-null  int64         \n",
            " 15  ano_propaganda         51525 non-null  int64         \n",
            " 16  idade                  47906 non-null  float64       \n",
            " 17  km_ano                 47904 non-null  float64       \n",
            "dtypes: datetime64[ns](1), float64(6), int64(6), object(5)\n",
            "memory usage: 7.1+ MB\n"
          ]
        }
      ],
      "source": [
        "# imprima as informações gerais/resumidas sobre o DataFrame\n",
        "df.info()\n"
      ]
    },
    {
      "cell_type": "code",
      "execution_count": null,
      "metadata": {
        "id": "epBXVdy1AcTO",
        "outputId": "144174e4-8dd9-4dea-9b52-e84a860207e8"
      },
      "outputs": [
        {
          "data": {
            "text/html": [
              "<div>\n",
              "<style scoped>\n",
              "    .dataframe tbody tr th:only-of-type {\n",
              "        vertical-align: middle;\n",
              "    }\n",
              "\n",
              "    .dataframe tbody tr th {\n",
              "        vertical-align: top;\n",
              "    }\n",
              "\n",
              "    .dataframe thead th {\n",
              "        text-align: right;\n",
              "    }\n",
              "</style>\n",
              "<table border=\"1\" class=\"dataframe\">\n",
              "  <thead>\n",
              "    <tr style=\"text-align: right;\">\n",
              "      <th></th>\n",
              "      <th>price</th>\n",
              "      <th>model_year</th>\n",
              "      <th>model</th>\n",
              "      <th>condition</th>\n",
              "      <th>cylinders</th>\n",
              "      <th>fuel</th>\n",
              "      <th>odometer</th>\n",
              "      <th>transmission</th>\n",
              "      <th>type</th>\n",
              "      <th>paint_color</th>\n",
              "      <th>is_4wd</th>\n",
              "      <th>date_posted</th>\n",
              "      <th>days_listed</th>\n",
              "      <th>dia_semana_propaganda</th>\n",
              "      <th>mes_propaganda</th>\n",
              "      <th>ano_propaganda</th>\n",
              "      <th>idade</th>\n",
              "      <th>km_ano</th>\n",
              "    </tr>\n",
              "  </thead>\n",
              "  <tbody>\n",
              "    <tr>\n",
              "      <th>0</th>\n",
              "      <td>9400</td>\n",
              "      <td>2011.0</td>\n",
              "      <td>bmw x5</td>\n",
              "      <td>2</td>\n",
              "      <td>6.0</td>\n",
              "      <td>gas</td>\n",
              "      <td>145000.000000</td>\n",
              "      <td>automatic</td>\n",
              "      <td>SUV</td>\n",
              "      <td>NaN</td>\n",
              "      <td>1.0</td>\n",
              "      <td>2018-06-23</td>\n",
              "      <td>19</td>\n",
              "      <td>5</td>\n",
              "      <td>6</td>\n",
              "      <td>2018</td>\n",
              "      <td>7.0</td>\n",
              "      <td>20714.285714</td>\n",
              "    </tr>\n",
              "    <tr>\n",
              "      <th>1</th>\n",
              "      <td>25500</td>\n",
              "      <td>NaN</td>\n",
              "      <td>ford f-150</td>\n",
              "      <td>2</td>\n",
              "      <td>6.0</td>\n",
              "      <td>gas</td>\n",
              "      <td>88705.000000</td>\n",
              "      <td>automatic</td>\n",
              "      <td>pickup</td>\n",
              "      <td>white</td>\n",
              "      <td>1.0</td>\n",
              "      <td>2018-10-19</td>\n",
              "      <td>50</td>\n",
              "      <td>4</td>\n",
              "      <td>10</td>\n",
              "      <td>2018</td>\n",
              "      <td>NaN</td>\n",
              "      <td>NaN</td>\n",
              "    </tr>\n",
              "    <tr>\n",
              "      <th>2</th>\n",
              "      <td>5500</td>\n",
              "      <td>2013.0</td>\n",
              "      <td>hyundai sonata</td>\n",
              "      <td>4</td>\n",
              "      <td>4.0</td>\n",
              "      <td>gas</td>\n",
              "      <td>110000.000000</td>\n",
              "      <td>automatic</td>\n",
              "      <td>sedan</td>\n",
              "      <td>red</td>\n",
              "      <td>0.0</td>\n",
              "      <td>2019-02-07</td>\n",
              "      <td>79</td>\n",
              "      <td>3</td>\n",
              "      <td>2</td>\n",
              "      <td>2019</td>\n",
              "      <td>6.0</td>\n",
              "      <td>18333.333333</td>\n",
              "    </tr>\n",
              "    <tr>\n",
              "      <th>3</th>\n",
              "      <td>1500</td>\n",
              "      <td>2003.0</td>\n",
              "      <td>ford f-150</td>\n",
              "      <td>1</td>\n",
              "      <td>8.0</td>\n",
              "      <td>gas</td>\n",
              "      <td>183062.233577</td>\n",
              "      <td>automatic</td>\n",
              "      <td>pickup</td>\n",
              "      <td>NaN</td>\n",
              "      <td>0.0</td>\n",
              "      <td>2019-03-22</td>\n",
              "      <td>9</td>\n",
              "      <td>4</td>\n",
              "      <td>3</td>\n",
              "      <td>2019</td>\n",
              "      <td>16.0</td>\n",
              "      <td>11441.389599</td>\n",
              "    </tr>\n",
              "    <tr>\n",
              "      <th>4</th>\n",
              "      <td>14900</td>\n",
              "      <td>2017.0</td>\n",
              "      <td>chrysler 200</td>\n",
              "      <td>3</td>\n",
              "      <td>4.0</td>\n",
              "      <td>gas</td>\n",
              "      <td>80903.000000</td>\n",
              "      <td>automatic</td>\n",
              "      <td>sedan</td>\n",
              "      <td>black</td>\n",
              "      <td>0.0</td>\n",
              "      <td>2019-04-02</td>\n",
              "      <td>28</td>\n",
              "      <td>1</td>\n",
              "      <td>4</td>\n",
              "      <td>2019</td>\n",
              "      <td>2.0</td>\n",
              "      <td>40451.500000</td>\n",
              "    </tr>\n",
              "    <tr>\n",
              "      <th>5</th>\n",
              "      <td>14990</td>\n",
              "      <td>2014.0</td>\n",
              "      <td>chrysler 300</td>\n",
              "      <td>3</td>\n",
              "      <td>6.0</td>\n",
              "      <td>gas</td>\n",
              "      <td>57954.000000</td>\n",
              "      <td>automatic</td>\n",
              "      <td>sedan</td>\n",
              "      <td>black</td>\n",
              "      <td>1.0</td>\n",
              "      <td>2018-06-20</td>\n",
              "      <td>15</td>\n",
              "      <td>2</td>\n",
              "      <td>6</td>\n",
              "      <td>2018</td>\n",
              "      <td>4.0</td>\n",
              "      <td>14488.500000</td>\n",
              "    </tr>\n",
              "    <tr>\n",
              "      <th>6</th>\n",
              "      <td>12990</td>\n",
              "      <td>2015.0</td>\n",
              "      <td>toyota camry</td>\n",
              "      <td>3</td>\n",
              "      <td>4.0</td>\n",
              "      <td>gas</td>\n",
              "      <td>79212.000000</td>\n",
              "      <td>automatic</td>\n",
              "      <td>sedan</td>\n",
              "      <td>white</td>\n",
              "      <td>0.0</td>\n",
              "      <td>2018-12-27</td>\n",
              "      <td>73</td>\n",
              "      <td>3</td>\n",
              "      <td>12</td>\n",
              "      <td>2018</td>\n",
              "      <td>3.0</td>\n",
              "      <td>26404.000000</td>\n",
              "    </tr>\n",
              "    <tr>\n",
              "      <th>7</th>\n",
              "      <td>15990</td>\n",
              "      <td>2013.0</td>\n",
              "      <td>honda pilot</td>\n",
              "      <td>3</td>\n",
              "      <td>6.0</td>\n",
              "      <td>gas</td>\n",
              "      <td>109473.000000</td>\n",
              "      <td>automatic</td>\n",
              "      <td>SUV</td>\n",
              "      <td>black</td>\n",
              "      <td>1.0</td>\n",
              "      <td>2019-01-07</td>\n",
              "      <td>68</td>\n",
              "      <td>0</td>\n",
              "      <td>1</td>\n",
              "      <td>2019</td>\n",
              "      <td>6.0</td>\n",
              "      <td>18245.500000</td>\n",
              "    </tr>\n",
              "    <tr>\n",
              "      <th>8</th>\n",
              "      <td>11500</td>\n",
              "      <td>2012.0</td>\n",
              "      <td>kia sorento</td>\n",
              "      <td>3</td>\n",
              "      <td>4.0</td>\n",
              "      <td>gas</td>\n",
              "      <td>104174.000000</td>\n",
              "      <td>automatic</td>\n",
              "      <td>SUV</td>\n",
              "      <td>NaN</td>\n",
              "      <td>1.0</td>\n",
              "      <td>2018-07-16</td>\n",
              "      <td>19</td>\n",
              "      <td>0</td>\n",
              "      <td>7</td>\n",
              "      <td>2018</td>\n",
              "      <td>6.0</td>\n",
              "      <td>17362.333333</td>\n",
              "    </tr>\n",
              "    <tr>\n",
              "      <th>9</th>\n",
              "      <td>9200</td>\n",
              "      <td>2008.0</td>\n",
              "      <td>honda pilot</td>\n",
              "      <td>3</td>\n",
              "      <td>6.0</td>\n",
              "      <td>gas</td>\n",
              "      <td>147191.000000</td>\n",
              "      <td>automatic</td>\n",
              "      <td>SUV</td>\n",
              "      <td>blue</td>\n",
              "      <td>1.0</td>\n",
              "      <td>2019-02-15</td>\n",
              "      <td>17</td>\n",
              "      <td>4</td>\n",
              "      <td>2</td>\n",
              "      <td>2019</td>\n",
              "      <td>11.0</td>\n",
              "      <td>13381.000000</td>\n",
              "    </tr>\n",
              "  </tbody>\n",
              "</table>\n",
              "</div>"
            ],
            "text/plain": [
              "   price  model_year           model  condition  cylinders fuel  \\\n",
              "0   9400      2011.0          bmw x5          2        6.0  gas   \n",
              "1  25500         NaN      ford f-150          2        6.0  gas   \n",
              "2   5500      2013.0  hyundai sonata          4        4.0  gas   \n",
              "3   1500      2003.0      ford f-150          1        8.0  gas   \n",
              "4  14900      2017.0    chrysler 200          3        4.0  gas   \n",
              "5  14990      2014.0    chrysler 300          3        6.0  gas   \n",
              "6  12990      2015.0    toyota camry          3        4.0  gas   \n",
              "7  15990      2013.0     honda pilot          3        6.0  gas   \n",
              "8  11500      2012.0     kia sorento          3        4.0  gas   \n",
              "9   9200      2008.0     honda pilot          3        6.0  gas   \n",
              "\n",
              "        odometer transmission    type paint_color  is_4wd date_posted  \\\n",
              "0  145000.000000    automatic     SUV         NaN     1.0  2018-06-23   \n",
              "1   88705.000000    automatic  pickup       white     1.0  2018-10-19   \n",
              "2  110000.000000    automatic   sedan         red     0.0  2019-02-07   \n",
              "3  183062.233577    automatic  pickup         NaN     0.0  2019-03-22   \n",
              "4   80903.000000    automatic   sedan       black     0.0  2019-04-02   \n",
              "5   57954.000000    automatic   sedan       black     1.0  2018-06-20   \n",
              "6   79212.000000    automatic   sedan       white     0.0  2018-12-27   \n",
              "7  109473.000000    automatic     SUV       black     1.0  2019-01-07   \n",
              "8  104174.000000    automatic     SUV         NaN     1.0  2018-07-16   \n",
              "9  147191.000000    automatic     SUV        blue     1.0  2019-02-15   \n",
              "\n",
              "   days_listed  dia_semana_propaganda  mes_propaganda  ano_propaganda  idade  \\\n",
              "0           19                      5               6            2018    7.0   \n",
              "1           50                      4              10            2018    NaN   \n",
              "2           79                      3               2            2019    6.0   \n",
              "3            9                      4               3            2019   16.0   \n",
              "4           28                      1               4            2019    2.0   \n",
              "5           15                      2               6            2018    4.0   \n",
              "6           73                      3              12            2018    3.0   \n",
              "7           68                      0               1            2019    6.0   \n",
              "8           19                      0               7            2018    6.0   \n",
              "9           17                      4               2            2019   11.0   \n",
              "\n",
              "         km_ano  \n",
              "0  20714.285714  \n",
              "1           NaN  \n",
              "2  18333.333333  \n",
              "3  11441.389599  \n",
              "4  40451.500000  \n",
              "5  14488.500000  \n",
              "6  26404.000000  \n",
              "7  18245.500000  \n",
              "8  17362.333333  \n",
              "9  13381.000000  "
            ]
          },
          "execution_count": 49,
          "metadata": {},
          "output_type": "execute_result"
        }
      ],
      "source": [
        "# imprima uma amostragem dos dados\n",
        "df.head(10)\n"
      ]
    },
    {
      "cell_type": "markdown",
      "metadata": {
        "id": "xEd7M3GDAcTO"
      },
      "source": [
        "## Estude os parâmetros fundamentais\n",
        "\n",
        " Vou fazer um estudo de como está a qualidade dos dados de algumas colunas, que serão utilizadas mais adiante para fazer as análises solicitadas.\n",
        "\n",
        "Os parâmetros são\n",
        "- Preço\n",
        "- A idade do veículo quando a propaganda foi colocada\n",
        "- Quilometragem\n",
        "- Número de cilindros\n",
        "- Condição"
      ]
    },
    {
      "cell_type": "code",
      "execution_count": null,
      "metadata": {
        "id": "GiTyIiZvAcTO",
        "outputId": "ad060670-e635-4d75-8eec-6518d5981f5d"
      },
      "outputs": [
        {
          "data": {
            "text/plain": [
              "array([[<AxesSubplot:title={'center':'price'}>]], dtype=object)"
            ]
          },
          "execution_count": 50,
          "metadata": {},
          "output_type": "execute_result"
        },
        {
          "data": {
            "image/png": "[encoded data removed]",
            "text/plain": [
              "<Figure size 432x288 with 1 Axes>"
            ]
          },
          "metadata": {
            "needs_background": "light"
          },
          "output_type": "display_data"
        },
        {
          "data": {
            "image/png": "[encoded data removed]",
            "text/plain": [
              "<Figure size 432x288 with 1 Axes>"
            ]
          },
          "metadata": {
            "needs_background": "light"
          },
          "output_type": "display_data"
        }
      ],
      "source": [
        "# Verificar a distribuição dos dados da coluna 'price'\n",
        "df.boxplot('price')\n",
        "df.hist('price', bins=50)\n"
      ]
    },
    {
      "cell_type": "code",
      "execution_count": null,
      "metadata": {
        "id": "Rxy0aHd_AcTP",
        "outputId": "1d4320c2-cbda-4fa3-b3b7-fdc8f0cb6fb7"
      },
      "outputs": [
        {
          "data": {
            "text/plain": [
              "array([[<AxesSubplot:title={'center':'idade'}>]], dtype=object)"
            ]
          },
          "execution_count": 51,
          "metadata": {},
          "output_type": "execute_result"
        },
        {
          "data": {
            "image/png": "[encoded data removed]",
            "text/plain": [
              "<Figure size 432x288 with 1 Axes>"
            ]
          },
          "metadata": {
            "needs_background": "light"
          },
          "output_type": "display_data"
        },
        {
          "data": {
            "image/png": "[encoded data removed]",
            "text/plain": [
              "<Figure size 432x288 with 1 Axes>"
            ]
          },
          "metadata": {
            "needs_background": "light"
          },
          "output_type": "display_data"
        }
      ],
      "source": [
        "# Verificar a distribuição dos dados da coluna 'idade'\n",
        "df.boxplot('idade')\n",
        "df.hist('idade', bins=50)"
      ]
    },
    {
      "cell_type": "code",
      "execution_count": null,
      "metadata": {
        "id": "T-FWhijMAcTP",
        "outputId": "754b6ead-8808-4851-b802-a2df11bdcacc"
      },
      "outputs": [
        {
          "data": {
            "text/plain": [
              "array([[<AxesSubplot:title={'center':'odometer'}>]], dtype=object)"
            ]
          },
          "execution_count": 52,
          "metadata": {},
          "output_type": "execute_result"
        },
        {
          "data": {
            "image/png": "[encoded data removed]",
            "text/plain": [
              "<Figure size 432x288 with 1 Axes>"
            ]
          },
          "metadata": {
            "needs_background": "light"
          },
          "output_type": "display_data"
        },
        {
          "data": {
            "image/png": "[encoded data removed]",
            "text/plain": [
              "<Figure size 432x288 with 1 Axes>"
            ]
          },
          "metadata": {
            "needs_background": "light"
          },
          "output_type": "display_data"
        }
      ],
      "source": [
        "# Verificar a distribuição dos dados da coluna 'odometer'\n",
        "df.boxplot('odometer')\n",
        "df.hist('odometer', bins=25)"
      ]
    },
    {
      "cell_type": "code",
      "execution_count": null,
      "metadata": {
        "id": "i6lqwz_dAcTP",
        "outputId": "476cc8f0-9a1e-4f2c-f076-030e31099a64"
      },
      "outputs": [
        {
          "data": {
            "text/plain": [
              "array([[<AxesSubplot:title={'center':'cylinders'}>]], dtype=object)"
            ]
          },
          "execution_count": 53,
          "metadata": {},
          "output_type": "execute_result"
        },
        {
          "data": {
            "image/png": "[encoded data removed]",
            "text/plain": [
              "<Figure size 432x288 with 1 Axes>"
            ]
          },
          "metadata": {
            "needs_background": "light"
          },
          "output_type": "display_data"
        },
        {
          "data": {
            "image/png": "[encoded data removed]",
            "text/plain": [
              "<Figure size 432x288 with 1 Axes>"
            ]
          },
          "metadata": {
            "needs_background": "light"
          },
          "output_type": "display_data"
        }
      ],
      "source": [
        "# Verificar a distribuição dos dados da coluna 'cylinders'\n",
        "df.boxplot('cylinders')\n",
        "df.hist('cylinders', bins=10)"
      ]
    },
    {
      "cell_type": "code",
      "execution_count": null,
      "metadata": {
        "id": "UsIcDkf4AcTP",
        "outputId": "70bb9543-d248-449b-e6c2-6047d201f93e"
      },
      "outputs": [
        {
          "data": {
            "text/plain": [
              "array([[<AxesSubplot:title={'center':'condition'}>]], dtype=object)"
            ]
          },
          "execution_count": 54,
          "metadata": {},
          "output_type": "execute_result"
        },
        {
          "data": {
            "image/png": "[encoded data removed]",
            "text/plain": [
              "<Figure size 432x288 with 1 Axes>"
            ]
          },
          "metadata": {
            "needs_background": "light"
          },
          "output_type": "display_data"
        },
        {
          "data": {
            "image/png": "[encoded data removed]",
            "text/plain": [
              "<Figure size 432x288 with 1 Axes>"
            ]
          },
          "metadata": {
            "needs_background": "light"
          },
          "output_type": "display_data"
        }
      ],
      "source": [
        "# Verificar a distribuição dos dados da coluna 'condition'\n",
        "df.boxplot('condition')\n",
        "df.hist('condition', bins=10)"
      ]
    },
    {
      "cell_type": "code",
      "execution_count": null,
      "metadata": {
        "id": "cDcStjtXAcTP",
        "outputId": "9f983a8e-8f85-40c4-f37f-28bb26a26e0e"
      },
      "outputs": [
        {
          "data": {
            "text/plain": [
              "array([[<AxesSubplot:title={'center':'km_ano'}>]], dtype=object)"
            ]
          },
          "execution_count": 55,
          "metadata": {},
          "output_type": "execute_result"
        },
        {
          "data": {
            "image/png": "[encoded data removed]",
            "text/plain": [
              "<Figure size 432x288 with 1 Axes>"
            ]
          },
          "metadata": {
            "needs_background": "light"
          },
          "output_type": "display_data"
        },
        {
          "data": {
            "image/png": "[encoded data removed]",
            "text/plain": [
              "<Figure size 432x288 with 1 Axes>"
            ]
          },
          "metadata": {
            "needs_background": "light"
          },
          "output_type": "display_data"
        }
      ],
      "source": [
        "df.boxplot('km_ano')\n",
        "df.hist('km_ano', bins = 50)"
      ]
    },
    {
      "cell_type": "markdown",
      "metadata": {
        "id": "TQMcvKpEAcTQ"
      },
      "source": [
        "Foi percebido que as colunas price, idade e odometer possuem muitos valores atípicos, enquanto a coluna condition possui poucos e a coluna cilinders não possui.\n",
        "\n",
        "Na próxima etapa vou tratar os valores atípicos\n"
      ]
    },
    {
      "cell_type": "markdown",
      "metadata": {
        "id": "NeHea582AcTQ"
      },
      "source": [
        "## Estude e cuide dos valores atípicos\n",
        "\n",
        "Bem, primeiro passei as colunas pelo método do diagrama de caixa, pois assim era possível vericifar a presença de valores atípicos e regiões onde eles começam a aparecer. Depois fiz o histograma de cada coluna para ver mais afundo o intervalo que julguei ser o que possui os dados mais limpos e que vão deixar a análise mais precisa.\n",
        "\n",
        "Agora vou separar os dados limpos dos demais e assim fazer as análises em cima deles.\n"
      ]
    },
    {
      "cell_type": "code",
      "execution_count": null,
      "metadata": {
        "id": "jkoB6yM3AcTQ"
      },
      "outputs": [],
      "source": [
        "# Armazenei os dados sem os valores atípicos em um DataFrame separado\n",
        "df_novo = df.query('price <= 45000 and idade < 25 and odometer <250000 and km_ano < 45000')"
      ]
    },
    {
      "cell_type": "code",
      "execution_count": null,
      "metadata": {
        "id": "RhJZBqQdAcTQ"
      },
      "outputs": [],
      "source": [
        "df_novo = df_novo.query('km_ano > 50')"
      ]
    },
    {
      "cell_type": "code",
      "execution_count": null,
      "metadata": {
        "id": "JymwIFdHAcTQ",
        "outputId": "86ff86b1-3792-4603-ad65-a28362aceac4"
      },
      "outputs": [
        {
          "data": {
            "text/plain": [
              "0.8002523047064531"
            ]
          },
          "execution_count": 58,
          "metadata": {},
          "output_type": "execute_result"
        }
      ],
      "source": [
        "len(df_novo)/len(df)"
      ]
    },
    {
      "cell_type": "code",
      "execution_count": null,
      "metadata": {
        "id": "MZj1RwfiAcTQ",
        "outputId": "6667c42e-db6e-4d92-ee08-27e4c92397ae"
      },
      "outputs": [
        {
          "name": "stdout",
          "output_type": "stream",
          "text": [
            "<class 'pandas.core.frame.DataFrame'>\n",
            "Int64Index: 41233 entries, 0 to 51524\n",
            "Data columns (total 18 columns):\n",
            " #   Column                 Non-Null Count  Dtype         \n",
            "---  ------                 --------------  -----         \n",
            " 0   price                  41233 non-null  int64         \n",
            " 1   model_year             41233 non-null  float64       \n",
            " 2   model                  41233 non-null  object        \n",
            " 3   condition              41233 non-null  int64         \n",
            " 4   cylinders              41233 non-null  float64       \n",
            " 5   fuel                   41233 non-null  object        \n",
            " 6   odometer               41233 non-null  float64       \n",
            " 7   transmission           41233 non-null  object        \n",
            " 8   type                   41233 non-null  object        \n",
            " 9   paint_color            33807 non-null  object        \n",
            " 10  is_4wd                 41233 non-null  float64       \n",
            " 11  date_posted            41233 non-null  datetime64[ns]\n",
            " 12  days_listed            41233 non-null  int64         \n",
            " 13  dia_semana_propaganda  41233 non-null  int64         \n",
            " 14  mes_propaganda         41233 non-null  int64         \n",
            " 15  ano_propaganda         41233 non-null  int64         \n",
            " 16  idade                  41233 non-null  float64       \n",
            " 17  km_ano                 41233 non-null  float64       \n",
            "dtypes: datetime64[ns](1), float64(6), int64(6), object(5)\n",
            "memory usage: 6.0+ MB\n"
          ]
        }
      ],
      "source": [
        "df_novo.info()"
      ]
    },
    {
      "cell_type": "code",
      "execution_count": null,
      "metadata": {
        "id": "uPZ6y3YLAcTR",
        "outputId": "f744f2f2-0ef5-4340-c5fa-875bb7898522"
      },
      "outputs": [
        {
          "data": {
            "text/html": [
              "<div>\n",
              "<style scoped>\n",
              "    .dataframe tbody tr th:only-of-type {\n",
              "        vertical-align: middle;\n",
              "    }\n",
              "\n",
              "    .dataframe tbody tr th {\n",
              "        vertical-align: top;\n",
              "    }\n",
              "\n",
              "    .dataframe thead th {\n",
              "        text-align: right;\n",
              "    }\n",
              "</style>\n",
              "<table border=\"1\" class=\"dataframe\">\n",
              "  <thead>\n",
              "    <tr style=\"text-align: right;\">\n",
              "      <th></th>\n",
              "      <th>price</th>\n",
              "      <th>model_year</th>\n",
              "      <th>condition</th>\n",
              "      <th>cylinders</th>\n",
              "      <th>odometer</th>\n",
              "      <th>is_4wd</th>\n",
              "      <th>days_listed</th>\n",
              "      <th>dia_semana_propaganda</th>\n",
              "      <th>mes_propaganda</th>\n",
              "      <th>ano_propaganda</th>\n",
              "      <th>idade</th>\n",
              "      <th>km_ano</th>\n",
              "    </tr>\n",
              "  </thead>\n",
              "  <tbody>\n",
              "    <tr>\n",
              "      <th>count</th>\n",
              "      <td>41233.000000</td>\n",
              "      <td>41233.000000</td>\n",
              "      <td>41233.000000</td>\n",
              "      <td>41233.000000</td>\n",
              "      <td>41233.000000</td>\n",
              "      <td>41233.000000</td>\n",
              "      <td>41233.000000</td>\n",
              "      <td>41233.000000</td>\n",
              "      <td>41233.000000</td>\n",
              "      <td>41233.000000</td>\n",
              "      <td>41233.000000</td>\n",
              "      <td>41233.000000</td>\n",
              "    </tr>\n",
              "    <tr>\n",
              "      <th>mean</th>\n",
              "      <td>11234.706546</td>\n",
              "      <td>2009.601023</td>\n",
              "      <td>2.625324</td>\n",
              "      <td>6.096209</td>\n",
              "      <td>117697.904557</td>\n",
              "      <td>0.490578</td>\n",
              "      <td>39.626343</td>\n",
              "      <td>2.997041</td>\n",
              "      <td>6.557151</td>\n",
              "      <td>2018.319938</td>\n",
              "      <td>8.718914</td>\n",
              "      <td>16465.010856</td>\n",
              "    </tr>\n",
              "    <tr>\n",
              "      <th>std</th>\n",
              "      <td>8146.923936</td>\n",
              "      <td>4.927131</td>\n",
              "      <td>0.691511</td>\n",
              "      <td>1.643293</td>\n",
              "      <td>49813.698318</td>\n",
              "      <td>0.499917</td>\n",
              "      <td>28.257161</td>\n",
              "      <td>1.995093</td>\n",
              "      <td>3.492937</td>\n",
              "      <td>0.466458</td>\n",
              "      <td>4.922287</td>\n",
              "      <td>8338.797596</td>\n",
              "    </tr>\n",
              "    <tr>\n",
              "      <th>min</th>\n",
              "      <td>1.000000</td>\n",
              "      <td>1994.000000</td>\n",
              "      <td>0.000000</td>\n",
              "      <td>3.000000</td>\n",
              "      <td>103.000000</td>\n",
              "      <td>0.000000</td>\n",
              "      <td>0.000000</td>\n",
              "      <td>0.000000</td>\n",
              "      <td>1.000000</td>\n",
              "      <td>2018.000000</td>\n",
              "      <td>1.000000</td>\n",
              "      <td>51.500000</td>\n",
              "    </tr>\n",
              "    <tr>\n",
              "      <th>25%</th>\n",
              "      <td>4999.000000</td>\n",
              "      <td>2006.000000</td>\n",
              "      <td>2.000000</td>\n",
              "      <td>4.000000</td>\n",
              "      <td>84566.000000</td>\n",
              "      <td>0.000000</td>\n",
              "      <td>19.000000</td>\n",
              "      <td>1.000000</td>\n",
              "      <td>3.000000</td>\n",
              "      <td>2018.000000</td>\n",
              "      <td>5.000000</td>\n",
              "      <td>10608.333333</td>\n",
              "    </tr>\n",
              "    <tr>\n",
              "      <th>50%</th>\n",
              "      <td>8950.000000</td>\n",
              "      <td>2010.000000</td>\n",
              "      <td>3.000000</td>\n",
              "      <td>6.000000</td>\n",
              "      <td>115439.000000</td>\n",
              "      <td>0.000000</td>\n",
              "      <td>33.000000</td>\n",
              "      <td>3.000000</td>\n",
              "      <td>7.000000</td>\n",
              "      <td>2018.000000</td>\n",
              "      <td>8.000000</td>\n",
              "      <td>14666.666667</td>\n",
              "    </tr>\n",
              "    <tr>\n",
              "      <th>75%</th>\n",
              "      <td>15500.000000</td>\n",
              "      <td>2014.000000</td>\n",
              "      <td>3.000000</td>\n",
              "      <td>8.000000</td>\n",
              "      <td>149000.000000</td>\n",
              "      <td>1.000000</td>\n",
              "      <td>53.000000</td>\n",
              "      <td>5.000000</td>\n",
              "      <td>10.000000</td>\n",
              "      <td>2019.000000</td>\n",
              "      <td>12.000000</td>\n",
              "      <td>20666.666667</td>\n",
              "    </tr>\n",
              "    <tr>\n",
              "      <th>max</th>\n",
              "      <td>45000.000000</td>\n",
              "      <td>2018.000000</td>\n",
              "      <td>5.000000</td>\n",
              "      <td>12.000000</td>\n",
              "      <td>249870.000000</td>\n",
              "      <td>1.000000</td>\n",
              "      <td>271.000000</td>\n",
              "      <td>6.000000</td>\n",
              "      <td>12.000000</td>\n",
              "      <td>2019.000000</td>\n",
              "      <td>24.000000</td>\n",
              "      <td>44999.000000</td>\n",
              "    </tr>\n",
              "  </tbody>\n",
              "</table>\n",
              "</div>"
            ],
            "text/plain": [
              "              price    model_year     condition     cylinders       odometer  \\\n",
              "count  41233.000000  41233.000000  41233.000000  41233.000000   41233.000000   \n",
              "mean   11234.706546   2009.601023      2.625324      6.096209  117697.904557   \n",
              "std     8146.923936      4.927131      0.691511      1.643293   49813.698318   \n",
              "min        1.000000   1994.000000      0.000000      3.000000     103.000000   \n",
              "25%     4999.000000   2006.000000      2.000000      4.000000   84566.000000   \n",
              "50%     8950.000000   2010.000000      3.000000      6.000000  115439.000000   \n",
              "75%    15500.000000   2014.000000      3.000000      8.000000  149000.000000   \n",
              "max    45000.000000   2018.000000      5.000000     12.000000  249870.000000   \n",
              "\n",
              "             is_4wd   days_listed  dia_semana_propaganda  mes_propaganda  \\\n",
              "count  41233.000000  41233.000000           41233.000000    41233.000000   \n",
              "mean       0.490578     39.626343               2.997041        6.557151   \n",
              "std        0.499917     28.257161               1.995093        3.492937   \n",
              "min        0.000000      0.000000               0.000000        1.000000   \n",
              "25%        0.000000     19.000000               1.000000        3.000000   \n",
              "50%        0.000000     33.000000               3.000000        7.000000   \n",
              "75%        1.000000     53.000000               5.000000       10.000000   \n",
              "max        1.000000    271.000000               6.000000       12.000000   \n",
              "\n",
              "       ano_propaganda         idade        km_ano  \n",
              "count    41233.000000  41233.000000  41233.000000  \n",
              "mean      2018.319938      8.718914  16465.010856  \n",
              "std          0.466458      4.922287   8338.797596  \n",
              "min       2018.000000      1.000000     51.500000  \n",
              "25%       2018.000000      5.000000  10608.333333  \n",
              "50%       2018.000000      8.000000  14666.666667  \n",
              "75%       2019.000000     12.000000  20666.666667  \n",
              "max       2019.000000     24.000000  44999.000000  "
            ]
          },
          "execution_count": 60,
          "metadata": {},
          "output_type": "execute_result"
        }
      ],
      "source": [
        "df_novo.describe()"
      ]
    },
    {
      "cell_type": "markdown",
      "metadata": {
        "id": "r7eYsRt0AcTR"
      },
      "source": [
        "Ficamos com 80% dos nossos dados originais."
      ]
    },
    {
      "cell_type": "markdown",
      "metadata": {
        "id": "JFrhf0UjAcTR"
      },
      "source": [
        "## Estude os parâmetros fundamentais sem valores atípicos"
      ]
    },
    {
      "cell_type": "code",
      "execution_count": null,
      "metadata": {
        "id": "PM-bznuSAcTR",
        "outputId": "40f0f5f6-965f-4028-a658-69b156627ecb"
      },
      "outputs": [
        {
          "data": {
            "image/png": "[encoded data removed]",
            "text/plain": [
              "<Figure size 432x288 with 1 Axes>"
            ]
          },
          "metadata": {
            "needs_background": "light"
          },
          "output_type": "display_data"
        }
      ],
      "source": [
        "df_novo.hist('price', bins=50);"
      ]
    },
    {
      "cell_type": "markdown",
      "metadata": {
        "id": "32E-HJu-AcTR"
      },
      "source": [
        "Foi verificado que a maior parte dos dados estão no intervalo de 0 a 10000"
      ]
    },
    {
      "cell_type": "code",
      "execution_count": null,
      "metadata": {
        "id": "wiyqucFxAcTR",
        "outputId": "12274427-854b-4c82-9ba4-2df9aa943e1f"
      },
      "outputs": [
        {
          "data": {
            "image/png": "[encoded data removed]",
            "text/plain": [
              "<Figure size 432x288 with 1 Axes>"
            ]
          },
          "metadata": {
            "needs_background": "light"
          },
          "output_type": "display_data"
        }
      ],
      "source": [
        "df_novo.hist('idade', bins=20);"
      ]
    },
    {
      "cell_type": "markdown",
      "metadata": {
        "id": "Y5HmnLVKAcTS"
      },
      "source": [
        "Tem um pico em aproximadanete 8 anos, e depois o número de veículos vai dimunindo conforme a idade aumenta"
      ]
    },
    {
      "cell_type": "code",
      "execution_count": null,
      "metadata": {
        "id": "kVZIN0UNAcTS",
        "outputId": "86087555-9b97-4670-8580-d913e4be50a5"
      },
      "outputs": [
        {
          "data": {
            "image/png": "[encoded data removed]",
            "text/plain": [
              "<Figure size 432x288 with 1 Axes>"
            ]
          },
          "metadata": {
            "needs_background": "light"
          },
          "output_type": "display_data"
        }
      ],
      "source": [
        "df_novo.hist('odometer', bins=25);"
      ]
    },
    {
      "cell_type": "markdown",
      "metadata": {
        "id": "Cg_mcBEDAcTS"
      },
      "source": [
        "Os números de veículos vão subindo a medida que a quilometragem sobe e tem dois picos entre 100000 e 125000, e depois o número de veículos vai dimunindo conforme a quilometragem aumenta"
      ]
    },
    {
      "cell_type": "code",
      "execution_count": null,
      "metadata": {
        "id": "ex0-gBoYAcTS",
        "outputId": "4fbac9a3-5818-4b80-cc31-9492e44653d3"
      },
      "outputs": [
        {
          "data": {
            "image/png": "[encoded data removed]",
            "text/plain": [
              "<Figure size 432x288 with 1 Axes>"
            ]
          },
          "metadata": {
            "needs_background": "light"
          },
          "output_type": "display_data"
        }
      ],
      "source": [
        "df_novo.hist('cylinders', bins=10);"
      ]
    },
    {
      "cell_type": "markdown",
      "metadata": {
        "id": "tfvxyhJ9AcTS"
      },
      "source": [
        "Os cilindros estão bem definidos, mas possuem valores em 3 e 10 cilindros"
      ]
    },
    {
      "cell_type": "code",
      "execution_count": null,
      "metadata": {
        "id": "yvw7yGIUAcTS",
        "outputId": "723f98dd-9208-4e09-e807-d672ba04637b"
      },
      "outputs": [
        {
          "data": {
            "image/png": "[encoded data removed]",
            "text/plain": [
              "<Figure size 432x288 with 1 Axes>"
            ]
          },
          "metadata": {
            "needs_background": "light"
          },
          "output_type": "display_data"
        }
      ],
      "source": [
        "df_novo.hist('condition', bins=10);"
      ]
    },
    {
      "cell_type": "markdown",
      "metadata": {
        "id": "ITVc55oVAcTT"
      },
      "source": [
        "Existem veículos em todas as condições, mas a maior parte se encntra como Excelente (3) ou Bom (2)."
      ]
    },
    {
      "cell_type": "code",
      "execution_count": null,
      "metadata": {
        "id": "L1lt-fX3AcTT",
        "outputId": "8388d862-c1de-4fd2-a8e4-6494cca63962"
      },
      "outputs": [
        {
          "data": {
            "image/png": "[encoded data removed]",
            "text/plain": [
              "<Figure size 432x288 with 1 Axes>"
            ]
          },
          "metadata": {
            "needs_background": "light"
          },
          "output_type": "display_data"
        }
      ],
      "source": [
        "df_novo.hist('km_ano', bins=20);"
      ]
    },
    {
      "cell_type": "markdown",
      "metadata": {
        "id": "XBlH830DAcTT"
      },
      "source": [
        "É possível perceber que os dados limpos nos fornecem gráficos mais limpos e que refletem de forma mais detalhada como a maioria dos nossos dados estão se comportando."
      ]
    },
    {
      "cell_type": "markdown",
      "metadata": {
        "id": "ojRZ2hVjAcTT"
      },
      "source": [
        "## Tempo de vida das propagandas\n"
      ]
    },
    {
      "cell_type": "code",
      "execution_count": null,
      "metadata": {
        "id": "O-THD7z3AcTT",
        "outputId": "e6394d9e-5968-43d9-b7ac-13fd5c856ce1"
      },
      "outputs": [
        {
          "data": {
            "text/plain": [
              "count    41233.000000\n",
              "mean        39.626343\n",
              "std         28.257161\n",
              "min          0.000000\n",
              "25%         19.000000\n",
              "50%         33.000000\n",
              "75%         53.000000\n",
              "max        271.000000\n",
              "Name: days_listed, dtype: float64"
            ]
          },
          "execution_count": 67,
          "metadata": {},
          "output_type": "execute_result"
        }
      ],
      "source": [
        "df_novo['days_listed'].describe()"
      ]
    },
    {
      "cell_type": "code",
      "execution_count": null,
      "metadata": {
        "id": "W8uyb-JoAcTT",
        "outputId": "69806478-64b8-47d6-cf43-7c7988b1a011"
      },
      "outputs": [
        {
          "data": {
            "image/png": "[encoded data removed]",
            "text/plain": [
              "<Figure size 432x288 with 1 Axes>"
            ]
          },
          "metadata": {
            "needs_background": "light"
          },
          "output_type": "display_data"
        }
      ],
      "source": [
        "df_novo.boxplot('days_listed');\n"
      ]
    },
    {
      "cell_type": "code",
      "execution_count": null,
      "metadata": {
        "id": "vZcL6j-KAcTU",
        "outputId": "704164fa-d216-4fe0-9864-234d116d265e"
      },
      "outputs": [
        {
          "data": {
            "image/png": "[encoded data removed]",
            "text/plain": [
              "<Figure size 432x288 with 1 Axes>"
            ]
          },
          "metadata": {
            "needs_background": "light"
          },
          "output_type": "display_data"
        }
      ],
      "source": [
        "df_novo['days_listed'].hist(bins=50, range=(0,75));"
      ]
    },
    {
      "cell_type": "markdown",
      "metadata": {
        "id": "Z81-nAySAcTU"
      },
      "source": [
        "Pelo método describe() podemos ver que a média dos dias que a propaganda ficou listada foi de 39 dias e a mediana foi de 33 dias. Considero que abaixo de 05 dias a propaganda foi retirada rapidamente e acima de 100 dias foram os períodos anormalmente longos."
      ]
    },
    {
      "cell_type": "markdown",
      "metadata": {
        "id": "KMNT5kPmAcTU"
      },
      "source": [
        "## Média de preços por cada tipo de veículo"
      ]
    },
    {
      "cell_type": "code",
      "execution_count": null,
      "metadata": {
        "id": "K7fL4TsMAcTU",
        "outputId": "9a94a698-4108-4f73-ceee-ab9794565b05"
      },
      "outputs": [
        {
          "data": {
            "text/html": [
              "<div>\n",
              "<style scoped>\n",
              "    .dataframe tbody tr th:only-of-type {\n",
              "        vertical-align: middle;\n",
              "    }\n",
              "\n",
              "    .dataframe tbody tr th {\n",
              "        vertical-align: top;\n",
              "    }\n",
              "\n",
              "    .dataframe thead th {\n",
              "        text-align: right;\n",
              "    }\n",
              "</style>\n",
              "<table border=\"1\" class=\"dataframe\">\n",
              "  <thead>\n",
              "    <tr style=\"text-align: right;\">\n",
              "      <th></th>\n",
              "      <th>type</th>\n",
              "      <th>price</th>\n",
              "    </tr>\n",
              "  </thead>\n",
              "  <tbody>\n",
              "    <tr>\n",
              "      <th>1</th>\n",
              "      <td>bus</td>\n",
              "      <td>17445.913043</td>\n",
              "    </tr>\n",
              "    <tr>\n",
              "      <th>10</th>\n",
              "      <td>truck</td>\n",
              "      <td>15496.311097</td>\n",
              "    </tr>\n",
              "    <tr>\n",
              "      <th>8</th>\n",
              "      <td>pickup</td>\n",
              "      <td>15022.717059</td>\n",
              "    </tr>\n",
              "    <tr>\n",
              "      <th>6</th>\n",
              "      <td>offroad</td>\n",
              "      <td>14370.191617</td>\n",
              "    </tr>\n",
              "    <tr>\n",
              "      <th>3</th>\n",
              "      <td>coupe</td>\n",
              "      <td>13256.742156</td>\n",
              "    </tr>\n",
              "    <tr>\n",
              "      <th>2</th>\n",
              "      <td>convertible</td>\n",
              "      <td>12703.711974</td>\n",
              "    </tr>\n",
              "    <tr>\n",
              "      <th>0</th>\n",
              "      <td>SUV</td>\n",
              "      <td>10453.375234</td>\n",
              "    </tr>\n",
              "    <tr>\n",
              "      <th>7</th>\n",
              "      <td>other</td>\n",
              "      <td>10012.544503</td>\n",
              "    </tr>\n",
              "    <tr>\n",
              "      <th>11</th>\n",
              "      <td>van</td>\n",
              "      <td>9858.175701</td>\n",
              "    </tr>\n",
              "    <tr>\n",
              "      <th>12</th>\n",
              "      <td>wagon</td>\n",
              "      <td>8917.289755</td>\n",
              "    </tr>\n",
              "    <tr>\n",
              "      <th>5</th>\n",
              "      <td>mini-van</td>\n",
              "      <td>7488.597927</td>\n",
              "    </tr>\n",
              "    <tr>\n",
              "      <th>9</th>\n",
              "      <td>sedan</td>\n",
              "      <td>6636.510799</td>\n",
              "    </tr>\n",
              "    <tr>\n",
              "      <th>4</th>\n",
              "      <td>hatchback</td>\n",
              "      <td>6522.784795</td>\n",
              "    </tr>\n",
              "  </tbody>\n",
              "</table>\n",
              "</div>"
            ],
            "text/plain": [
              "           type         price\n",
              "1           bus  17445.913043\n",
              "10        truck  15496.311097\n",
              "8        pickup  15022.717059\n",
              "6       offroad  14370.191617\n",
              "3         coupe  13256.742156\n",
              "2   convertible  12703.711974\n",
              "0           SUV  10453.375234\n",
              "7         other  10012.544503\n",
              "11          van   9858.175701\n",
              "12        wagon   8917.289755\n",
              "5      mini-van   7488.597927\n",
              "9         sedan   6636.510799\n",
              "4     hatchback   6522.784795"
            ]
          },
          "execution_count": 83,
          "metadata": {},
          "output_type": "execute_result"
        }
      ],
      "source": [
        "preco_mod = df_novo.pivot_table(index = 'type', values = 'price', aggfunc = 'mean')\n",
        "preco_mod.reset_index(inplace=True)\n",
        "preco_mod.sort_values('price',ascending = False)"
      ]
    },
    {
      "cell_type": "code",
      "execution_count": null,
      "metadata": {
        "id": "z04JFwtWAcTU",
        "outputId": "11000c49-b1d4-4224-aa26-bcd3e5cc104d"
      },
      "outputs": [
        {
          "data": {
            "text/html": [
              "<div>\n",
              "<style scoped>\n",
              "    .dataframe tbody tr th:only-of-type {\n",
              "        vertical-align: middle;\n",
              "    }\n",
              "\n",
              "    .dataframe tbody tr th {\n",
              "        vertical-align: top;\n",
              "    }\n",
              "\n",
              "    .dataframe thead th {\n",
              "        text-align: right;\n",
              "    }\n",
              "</style>\n",
              "<table border=\"1\" class=\"dataframe\">\n",
              "  <thead>\n",
              "    <tr style=\"text-align: right;\">\n",
              "      <th></th>\n",
              "      <th>priceprice</th>\n",
              "      <th>model_year</th>\n",
              "      <th>model</th>\n",
              "      <th>condition</th>\n",
              "      <th>cylinders</th>\n",
              "      <th>fuel</th>\n",
              "      <th>odometer</th>\n",
              "      <th>transmission</th>\n",
              "      <th>type</th>\n",
              "      <th>paint_color</th>\n",
              "      <th>is_4wd</th>\n",
              "      <th>date_posted</th>\n",
              "      <th>days_listed</th>\n",
              "      <th>dia_semana_propaganda</th>\n",
              "      <th>mes_propaganda</th>\n",
              "      <th>ano_propaganda</th>\n",
              "      <th>idade</th>\n",
              "      <th>km_ano</th>\n",
              "      <th>pricepreco_mod</th>\n",
              "    </tr>\n",
              "  </thead>\n",
              "  <tbody>\n",
              "    <tr>\n",
              "      <th>0</th>\n",
              "      <td>9400</td>\n",
              "      <td>2011.0</td>\n",
              "      <td>bmw x5</td>\n",
              "      <td>2</td>\n",
              "      <td>6.0</td>\n",
              "      <td>gas</td>\n",
              "      <td>145000.000000</td>\n",
              "      <td>automatic</td>\n",
              "      <td>SUV</td>\n",
              "      <td>NaN</td>\n",
              "      <td>1.0</td>\n",
              "      <td>2018-06-23</td>\n",
              "      <td>19</td>\n",
              "      <td>5</td>\n",
              "      <td>6</td>\n",
              "      <td>2018</td>\n",
              "      <td>7.0</td>\n",
              "      <td>20714.285714</td>\n",
              "      <td>10453.375234</td>\n",
              "    </tr>\n",
              "    <tr>\n",
              "      <th>1</th>\n",
              "      <td>5500</td>\n",
              "      <td>2013.0</td>\n",
              "      <td>hyundai sonata</td>\n",
              "      <td>4</td>\n",
              "      <td>4.0</td>\n",
              "      <td>gas</td>\n",
              "      <td>110000.000000</td>\n",
              "      <td>automatic</td>\n",
              "      <td>sedan</td>\n",
              "      <td>red</td>\n",
              "      <td>0.0</td>\n",
              "      <td>2019-02-07</td>\n",
              "      <td>79</td>\n",
              "      <td>3</td>\n",
              "      <td>2</td>\n",
              "      <td>2019</td>\n",
              "      <td>6.0</td>\n",
              "      <td>18333.333333</td>\n",
              "      <td>6636.510799</td>\n",
              "    </tr>\n",
              "    <tr>\n",
              "      <th>2</th>\n",
              "      <td>1500</td>\n",
              "      <td>2003.0</td>\n",
              "      <td>ford f-150</td>\n",
              "      <td>1</td>\n",
              "      <td>8.0</td>\n",
              "      <td>gas</td>\n",
              "      <td>183062.233577</td>\n",
              "      <td>automatic</td>\n",
              "      <td>pickup</td>\n",
              "      <td>NaN</td>\n",
              "      <td>0.0</td>\n",
              "      <td>2019-03-22</td>\n",
              "      <td>9</td>\n",
              "      <td>4</td>\n",
              "      <td>3</td>\n",
              "      <td>2019</td>\n",
              "      <td>16.0</td>\n",
              "      <td>11441.389599</td>\n",
              "      <td>15022.717059</td>\n",
              "    </tr>\n",
              "    <tr>\n",
              "      <th>3</th>\n",
              "      <td>14900</td>\n",
              "      <td>2017.0</td>\n",
              "      <td>chrysler 200</td>\n",
              "      <td>3</td>\n",
              "      <td>4.0</td>\n",
              "      <td>gas</td>\n",
              "      <td>80903.000000</td>\n",
              "      <td>automatic</td>\n",
              "      <td>sedan</td>\n",
              "      <td>black</td>\n",
              "      <td>0.0</td>\n",
              "      <td>2019-04-02</td>\n",
              "      <td>28</td>\n",
              "      <td>1</td>\n",
              "      <td>4</td>\n",
              "      <td>2019</td>\n",
              "      <td>2.0</td>\n",
              "      <td>40451.500000</td>\n",
              "      <td>6636.510799</td>\n",
              "    </tr>\n",
              "    <tr>\n",
              "      <th>4</th>\n",
              "      <td>14990</td>\n",
              "      <td>2014.0</td>\n",
              "      <td>chrysler 300</td>\n",
              "      <td>3</td>\n",
              "      <td>6.0</td>\n",
              "      <td>gas</td>\n",
              "      <td>57954.000000</td>\n",
              "      <td>automatic</td>\n",
              "      <td>sedan</td>\n",
              "      <td>black</td>\n",
              "      <td>1.0</td>\n",
              "      <td>2018-06-20</td>\n",
              "      <td>15</td>\n",
              "      <td>2</td>\n",
              "      <td>6</td>\n",
              "      <td>2018</td>\n",
              "      <td>4.0</td>\n",
              "      <td>14488.500000</td>\n",
              "      <td>6636.510799</td>\n",
              "    </tr>\n",
              "    <tr>\n",
              "      <th>...</th>\n",
              "      <td>...</td>\n",
              "      <td>...</td>\n",
              "      <td>...</td>\n",
              "      <td>...</td>\n",
              "      <td>...</td>\n",
              "      <td>...</td>\n",
              "      <td>...</td>\n",
              "      <td>...</td>\n",
              "      <td>...</td>\n",
              "      <td>...</td>\n",
              "      <td>...</td>\n",
              "      <td>...</td>\n",
              "      <td>...</td>\n",
              "      <td>...</td>\n",
              "      <td>...</td>\n",
              "      <td>...</td>\n",
              "      <td>...</td>\n",
              "      <td>...</td>\n",
              "      <td>...</td>\n",
              "    </tr>\n",
              "    <tr>\n",
              "      <th>41228</th>\n",
              "      <td>9249</td>\n",
              "      <td>2013.0</td>\n",
              "      <td>nissan maxima</td>\n",
              "      <td>4</td>\n",
              "      <td>6.0</td>\n",
              "      <td>gas</td>\n",
              "      <td>88136.000000</td>\n",
              "      <td>automatic</td>\n",
              "      <td>sedan</td>\n",
              "      <td>black</td>\n",
              "      <td>0.0</td>\n",
              "      <td>2018-10-03</td>\n",
              "      <td>37</td>\n",
              "      <td>2</td>\n",
              "      <td>10</td>\n",
              "      <td>2018</td>\n",
              "      <td>5.0</td>\n",
              "      <td>17627.200000</td>\n",
              "      <td>6636.510799</td>\n",
              "    </tr>\n",
              "    <tr>\n",
              "      <th>41229</th>\n",
              "      <td>2700</td>\n",
              "      <td>2002.0</td>\n",
              "      <td>honda civic</td>\n",
              "      <td>0</td>\n",
              "      <td>4.0</td>\n",
              "      <td>gas</td>\n",
              "      <td>181500.000000</td>\n",
              "      <td>automatic</td>\n",
              "      <td>sedan</td>\n",
              "      <td>white</td>\n",
              "      <td>0.0</td>\n",
              "      <td>2018-11-14</td>\n",
              "      <td>22</td>\n",
              "      <td>2</td>\n",
              "      <td>11</td>\n",
              "      <td>2018</td>\n",
              "      <td>16.0</td>\n",
              "      <td>11343.750000</td>\n",
              "      <td>6636.510799</td>\n",
              "    </tr>\n",
              "    <tr>\n",
              "      <th>41230</th>\n",
              "      <td>3950</td>\n",
              "      <td>2009.0</td>\n",
              "      <td>hyundai sonata</td>\n",
              "      <td>3</td>\n",
              "      <td>4.0</td>\n",
              "      <td>gas</td>\n",
              "      <td>128000.000000</td>\n",
              "      <td>automatic</td>\n",
              "      <td>sedan</td>\n",
              "      <td>blue</td>\n",
              "      <td>0.0</td>\n",
              "      <td>2018-11-15</td>\n",
              "      <td>32</td>\n",
              "      <td>3</td>\n",
              "      <td>11</td>\n",
              "      <td>2018</td>\n",
              "      <td>9.0</td>\n",
              "      <td>14222.222222</td>\n",
              "      <td>6636.510799</td>\n",
              "    </tr>\n",
              "    <tr>\n",
              "      <th>41231</th>\n",
              "      <td>7455</td>\n",
              "      <td>2013.0</td>\n",
              "      <td>toyota corolla</td>\n",
              "      <td>2</td>\n",
              "      <td>4.0</td>\n",
              "      <td>gas</td>\n",
              "      <td>139573.000000</td>\n",
              "      <td>automatic</td>\n",
              "      <td>sedan</td>\n",
              "      <td>black</td>\n",
              "      <td>0.0</td>\n",
              "      <td>2018-07-02</td>\n",
              "      <td>71</td>\n",
              "      <td>0</td>\n",
              "      <td>7</td>\n",
              "      <td>2018</td>\n",
              "      <td>5.0</td>\n",
              "      <td>27914.600000</td>\n",
              "      <td>6636.510799</td>\n",
              "    </tr>\n",
              "    <tr>\n",
              "      <th>41232</th>\n",
              "      <td>6300</td>\n",
              "      <td>2014.0</td>\n",
              "      <td>nissan altima</td>\n",
              "      <td>2</td>\n",
              "      <td>4.0</td>\n",
              "      <td>gas</td>\n",
              "      <td>129919.930980</td>\n",
              "      <td>automatic</td>\n",
              "      <td>sedan</td>\n",
              "      <td>NaN</td>\n",
              "      <td>0.0</td>\n",
              "      <td>2018-06-05</td>\n",
              "      <td>10</td>\n",
              "      <td>1</td>\n",
              "      <td>6</td>\n",
              "      <td>2018</td>\n",
              "      <td>4.0</td>\n",
              "      <td>32479.982745</td>\n",
              "      <td>6636.510799</td>\n",
              "    </tr>\n",
              "  </tbody>\n",
              "</table>\n",
              "<p>41233 rows × 19 columns</p>\n",
              "</div>"
            ],
            "text/plain": [
              "       priceprice  model_year           model  condition  cylinders fuel  \\\n",
              "0            9400      2011.0          bmw x5          2        6.0  gas   \n",
              "1            5500      2013.0  hyundai sonata          4        4.0  gas   \n",
              "2            1500      2003.0      ford f-150          1        8.0  gas   \n",
              "3           14900      2017.0    chrysler 200          3        4.0  gas   \n",
              "4           14990      2014.0    chrysler 300          3        6.0  gas   \n",
              "...           ...         ...             ...        ...        ...  ...   \n",
              "41228        9249      2013.0   nissan maxima          4        6.0  gas   \n",
              "41229        2700      2002.0     honda civic          0        4.0  gas   \n",
              "41230        3950      2009.0  hyundai sonata          3        4.0  gas   \n",
              "41231        7455      2013.0  toyota corolla          2        4.0  gas   \n",
              "41232        6300      2014.0   nissan altima          2        4.0  gas   \n",
              "\n",
              "            odometer transmission    type paint_color  is_4wd date_posted  \\\n",
              "0      145000.000000    automatic     SUV         NaN     1.0  2018-06-23   \n",
              "1      110000.000000    automatic   sedan         red     0.0  2019-02-07   \n",
              "2      183062.233577    automatic  pickup         NaN     0.0  2019-03-22   \n",
              "3       80903.000000    automatic   sedan       black     0.0  2019-04-02   \n",
              "4       57954.000000    automatic   sedan       black     1.0  2018-06-20   \n",
              "...              ...          ...     ...         ...     ...         ...   \n",
              "41228   88136.000000    automatic   sedan       black     0.0  2018-10-03   \n",
              "41229  181500.000000    automatic   sedan       white     0.0  2018-11-14   \n",
              "41230  128000.000000    automatic   sedan        blue     0.0  2018-11-15   \n",
              "41231  139573.000000    automatic   sedan       black     0.0  2018-07-02   \n",
              "41232  129919.930980    automatic   sedan         NaN     0.0  2018-06-05   \n",
              "\n",
              "       days_listed  dia_semana_propaganda  mes_propaganda  ano_propaganda  \\\n",
              "0               19                      5               6            2018   \n",
              "1               79                      3               2            2019   \n",
              "2                9                      4               3            2019   \n",
              "3               28                      1               4            2019   \n",
              "4               15                      2               6            2018   \n",
              "...            ...                    ...             ...             ...   \n",
              "41228           37                      2              10            2018   \n",
              "41229           22                      2              11            2018   \n",
              "41230           32                      3              11            2018   \n",
              "41231           71                      0               7            2018   \n",
              "41232           10                      1               6            2018   \n",
              "\n",
              "       idade        km_ano  pricepreco_mod  \n",
              "0        7.0  20714.285714    10453.375234  \n",
              "1        6.0  18333.333333     6636.510799  \n",
              "2       16.0  11441.389599    15022.717059  \n",
              "3        2.0  40451.500000     6636.510799  \n",
              "4        4.0  14488.500000     6636.510799  \n",
              "...      ...           ...             ...  \n",
              "41228    5.0  17627.200000     6636.510799  \n",
              "41229   16.0  11343.750000     6636.510799  \n",
              "41230    9.0  14222.222222     6636.510799  \n",
              "41231    5.0  27914.600000     6636.510799  \n",
              "41232    4.0  32479.982745     6636.510799  \n",
              "\n",
              "[41233 rows x 19 columns]"
            ]
          },
          "execution_count": 84,
          "metadata": {},
          "output_type": "execute_result"
        }
      ],
      "source": [
        "final_data_novo = df_novo.merge(preco_mod, on='type', how='left', suffixes=('price', 'preco_mod'))\n",
        "final_data_novo"
      ]
    },
    {
      "cell_type": "code",
      "execution_count": null,
      "metadata": {
        "id": "q0lBDuC8AcTU",
        "outputId": "cf29a048-0140-4dbe-fb43-a5906c5ca4e5"
      },
      "outputs": [
        {
          "data": {
            "text/plain": [
              "type\n",
              "bus            43.086957\n",
              "offroad        42.011976\n",
              "hatchback      41.233918\n",
              "wagon          40.581040\n",
              "SUV            40.027386\n",
              "van            39.749533\n",
              "sedan          39.567632\n",
              "truck          39.414173\n",
              "pickup         39.222432\n",
              "coupe          39.112379\n",
              "mini-van       38.923316\n",
              "convertible    38.067961\n",
              "other          37.518325\n",
              "Name: days_listed, dtype: float64"
            ]
          },
          "execution_count": 85,
          "metadata": {},
          "output_type": "execute_result"
        }
      ],
      "source": [
        "final_data_novo.groupby('type')['days_listed'].mean().sort_values(ascending = False)"
      ]
    },
    {
      "cell_type": "code",
      "execution_count": null,
      "metadata": {
        "id": "TMCzDs3VAcTV",
        "outputId": "ce1e9152-5a74-425f-aeda-93ad1421c2c2"
      },
      "outputs": [
        {
          "data": {
            "text/plain": [
              "<AxesSubplot:xlabel='type', ylabel='days_listed'>"
            ]
          },
          "execution_count": 86,
          "metadata": {},
          "output_type": "execute_result"
        },
        {
          "data": {
            "image/png": "[encoded data removed]",
            "text/plain": [
              "<Figure size 432x288 with 1 Axes>"
            ]
          },
          "metadata": {
            "needs_background": "light"
          },
          "output_type": "display_data"
        }
      ],
      "source": [
        "final_data_novo.plot(x='type', y='days_listed',kind='scatter')"
      ]
    },
    {
      "cell_type": "markdown",
      "metadata": {
        "id": "KfeLStfqAcTV"
      },
      "source": [
        "Foi percebido que os tipos de veículos que possuem os maiores preços estão são os \"bus\" e \"truck\". Já os dois que possuem a maior média de dias de propaganda são os veículos considerados \"bus\" e \"offroad\"."
      ]
    },
    {
      "cell_type": "markdown",
      "metadata": {
        "id": "B-Ka2ykmAcTV"
      },
      "source": [
        "## Fatores de preço"
      ]
    },
    {
      "cell_type": "code",
      "execution_count": null,
      "metadata": {
        "id": "2Q1xVY4sAcTV",
        "outputId": "3a7b14b8-1e17-4af6-df09-c6f8b5bc5596"
      },
      "outputs": [
        {
          "data": {
            "text/plain": [
              "<AxesSubplot:xlabel='transmission', ylabel='priceprice'>"
            ]
          },
          "execution_count": 74,
          "metadata": {},
          "output_type": "execute_result"
        },
        {
          "data": {
            "image/png": "[encoded data removed]",
            "text/plain": [
              "<Figure size 432x288 with 1 Axes>"
            ]
          },
          "metadata": {
            "needs_background": "light"
          },
          "output_type": "display_data"
        }
      ],
      "source": [
        "sns.boxplot(data =final_data_novo.query('days_listed >=50'), x='transmission', y='priceprice')"
      ]
    },
    {
      "cell_type": "markdown",
      "metadata": {
        "id": "JFDZr36tAcTV"
      },
      "source": [
        "É possível perceber que carros automáticos possuem mediana de preço acima dos carros manuais, e carros com outras transmissões, possuem valores ainda maiores."
      ]
    },
    {
      "cell_type": "code",
      "execution_count": null,
      "metadata": {
        "id": "lo07Yod9AcTV",
        "outputId": "6defe573-8b59-49bd-9a20-b06f4facec43"
      },
      "outputs": [
        {
          "data": {
            "text/plain": [
              "<AxesSubplot:xlabel='priceprice', ylabel='paint_color'>"
            ]
          },
          "execution_count": 75,
          "metadata": {},
          "output_type": "execute_result"
        },
        {
          "data": {
            "image/png": "[encoded data removed]",
            "text/plain": [
              "<Figure size 432x288 with 1 Axes>"
            ]
          },
          "metadata": {
            "needs_background": "light"
          },
          "output_type": "display_data"
        }
      ],
      "source": [
        "sns.boxplot(data =final_data_novo.query('days_listed >=50'), x='priceprice', y='paint_color', orient = \"h\")"
      ]
    },
    {
      "cell_type": "markdown",
      "metadata": {
        "id": "Sf39mXfQAcTV"
      },
      "source": [
        "Sobre a cor, podemos ver que a que possui maior mediana de preço são carros laranjas e amarelos, mas estes não possuem valores atípicos, os que apresentaram maiores valores são os carros customizados e pretos."
      ]
    },
    {
      "cell_type": "code",
      "execution_count": null,
      "metadata": {
        "id": "YeEy8XM-AcTW",
        "outputId": "8a3cf22a-17cd-4a01-ac9c-a739ad845106"
      },
      "outputs": [
        {
          "data": {
            "text/plain": [
              "<AxesSubplot:xlabel='idade', ylabel='priceprice'>"
            ]
          },
          "execution_count": 76,
          "metadata": {},
          "output_type": "execute_result"
        },
        {
          "data": {
            "image/png": "[encoded data removed]",
            "text/plain": [
              "<Figure size 432x288 with 1 Axes>"
            ]
          },
          "metadata": {
            "needs_background": "light"
          },
          "output_type": "display_data"
        }
      ],
      "source": [
        "sns.scatterplot(data =final_data_novo, x='idade', y='priceprice')"
      ]
    },
    {
      "cell_type": "markdown",
      "metadata": {
        "id": "TsnQjOHnAcTW"
      },
      "source": [
        "O preço tende a diminuir com o passar dos anos"
      ]
    },
    {
      "cell_type": "code",
      "execution_count": null,
      "metadata": {
        "id": "QJS3vptYAcTW",
        "outputId": "c304efeb-8502-4e65-eb69-76619af6cfcc"
      },
      "outputs": [
        {
          "data": {
            "text/plain": [
              "<AxesSubplot:xlabel='odometer', ylabel='priceprice'>"
            ]
          },
          "execution_count": 77,
          "metadata": {},
          "output_type": "execute_result"
        },
        {
          "data": {
            "image/png": "[encoded data removed]",
            "text/plain": [
              "<Figure size 432x288 with 1 Axes>"
            ]
          },
          "metadata": {
            "needs_background": "light"
          },
          "output_type": "display_data"
        }
      ],
      "source": [
        "sns.scatterplot(data =final_data_novo, x='odometer', y='priceprice')"
      ]
    },
    {
      "cell_type": "markdown",
      "metadata": {
        "id": "GqJuNefaAcTW"
      },
      "source": [
        "Não está muito evidente, mas é possível ver uma leve tendência que quanto maior o valor da quilometragem, menor o valor do veículo"
      ]
    },
    {
      "cell_type": "code",
      "execution_count": null,
      "metadata": {
        "id": "yg6-XIagAcTW",
        "outputId": "d2db38ea-6f62-4c44-9661-691bbbdf857f"
      },
      "outputs": [
        {
          "data": {
            "text/plain": [
              "<AxesSubplot:xlabel='condition', ylabel='priceprice'>"
            ]
          },
          "execution_count": 78,
          "metadata": {},
          "output_type": "execute_result"
        },
        {
          "data": {
            "image/png": "[encoded data removed]",
            "text/plain": [
              "<Figure size 432x288 with 1 Axes>"
            ]
          },
          "metadata": {
            "needs_background": "light"
          },
          "output_type": "display_data"
        }
      ],
      "source": [
        "sns.scatterplot(data =final_data_novo, x='condition', y='priceprice')"
      ]
    },
    {
      "cell_type": "markdown",
      "metadata": {
        "id": "noli1NiXAcTX"
      },
      "source": [
        "É possível ver que as condições 2,3 e 4 são as que apresentam maiores preços, mesmo estando bem distribuidos. Por isso não acho que possuem uma relaçaõ óbvia com o preço, pois existem outros fatores que podem ser levandos em conta."
      ]
    },
    {
      "cell_type": "code",
      "execution_count": null,
      "metadata": {
        "id": "A_384FIIAcTX",
        "outputId": "065a54e4-a4db-49e4-9e29-e89b2114c23a"
      },
      "outputs": [
        {
          "data": {
            "text/html": [
              "<div>\n",
              "<style scoped>\n",
              "    .dataframe tbody tr th:only-of-type {\n",
              "        vertical-align: middle;\n",
              "    }\n",
              "\n",
              "    .dataframe tbody tr th {\n",
              "        vertical-align: top;\n",
              "    }\n",
              "\n",
              "    .dataframe thead th {\n",
              "        text-align: right;\n",
              "    }\n",
              "</style>\n",
              "<table border=\"1\" class=\"dataframe\">\n",
              "  <thead>\n",
              "    <tr style=\"text-align: right;\">\n",
              "      <th></th>\n",
              "      <th>priceprice</th>\n",
              "      <th>model_year</th>\n",
              "      <th>condition</th>\n",
              "      <th>cylinders</th>\n",
              "      <th>odometer</th>\n",
              "      <th>is_4wd</th>\n",
              "      <th>days_listed</th>\n",
              "      <th>dia_semana_propaganda</th>\n",
              "      <th>mes_propaganda</th>\n",
              "      <th>ano_propaganda</th>\n",
              "      <th>idade</th>\n",
              "      <th>km_ano</th>\n",
              "      <th>pricepreco_mod</th>\n",
              "    </tr>\n",
              "  </thead>\n",
              "  <tbody>\n",
              "    <tr>\n",
              "      <th>priceprice</th>\n",
              "      <td>1.000000</td>\n",
              "      <td>0.529211</td>\n",
              "      <td>0.205308</td>\n",
              "      <td>0.349841</td>\n",
              "      <td>-0.461142</td>\n",
              "      <td>0.357777</td>\n",
              "      <td>-0.000341</td>\n",
              "      <td>-0.009650</td>\n",
              "      <td>-0.032378</td>\n",
              "      <td>0.034469</td>\n",
              "      <td>-0.526466</td>\n",
              "      <td>0.281087</td>\n",
              "      <td>0.226416</td>\n",
              "    </tr>\n",
              "    <tr>\n",
              "      <th>model_year</th>\n",
              "      <td>0.529211</td>\n",
              "      <td>1.000000</td>\n",
              "      <td>0.275541</td>\n",
              "      <td>-0.138856</td>\n",
              "      <td>-0.560330</td>\n",
              "      <td>-0.003589</td>\n",
              "      <td>0.000781</td>\n",
              "      <td>-0.005116</td>\n",
              "      <td>-0.052693</td>\n",
              "      <td>0.057715</td>\n",
              "      <td>-0.995515</td>\n",
              "      <td>0.619814</td>\n",
              "      <td>0.294197</td>\n",
              "    </tr>\n",
              "    <tr>\n",
              "      <th>condition</th>\n",
              "      <td>0.205308</td>\n",
              "      <td>0.275541</td>\n",
              "      <td>1.000000</td>\n",
              "      <td>-0.064064</td>\n",
              "      <td>-0.310739</td>\n",
              "      <td>0.014939</td>\n",
              "      <td>0.001096</td>\n",
              "      <td>-0.001911</td>\n",
              "      <td>-0.016342</td>\n",
              "      <td>0.020731</td>\n",
              "      <td>-0.273848</td>\n",
              "      <td>0.068998</td>\n",
              "      <td>0.906773</td>\n",
              "    </tr>\n",
              "    <tr>\n",
              "      <th>cylinders</th>\n",
              "      <td>0.349841</td>\n",
              "      <td>-0.138856</td>\n",
              "      <td>-0.064064</td>\n",
              "      <td>1.000000</td>\n",
              "      <td>0.094481</td>\n",
              "      <td>0.420485</td>\n",
              "      <td>-0.003606</td>\n",
              "      <td>-0.007399</td>\n",
              "      <td>0.003658</td>\n",
              "      <td>-0.003930</td>\n",
              "      <td>0.138620</td>\n",
              "      <td>-0.049934</td>\n",
              "      <td>-0.057223</td>\n",
              "    </tr>\n",
              "    <tr>\n",
              "      <th>odometer</th>\n",
              "      <td>-0.461142</td>\n",
              "      <td>-0.560330</td>\n",
              "      <td>-0.310739</td>\n",
              "      <td>0.094481</td>\n",
              "      <td>1.000000</td>\n",
              "      <td>0.043239</td>\n",
              "      <td>0.005737</td>\n",
              "      <td>0.007193</td>\n",
              "      <td>0.036591</td>\n",
              "      <td>-0.037114</td>\n",
              "      <td>0.557364</td>\n",
              "      <td>0.083287</td>\n",
              "      <td>-0.309374</td>\n",
              "    </tr>\n",
              "    <tr>\n",
              "      <th>is_4wd</th>\n",
              "      <td>0.357777</td>\n",
              "      <td>-0.003589</td>\n",
              "      <td>0.014939</td>\n",
              "      <td>0.420485</td>\n",
              "      <td>0.043239</td>\n",
              "      <td>1.000000</td>\n",
              "      <td>0.005043</td>\n",
              "      <td>0.002477</td>\n",
              "      <td>0.004222</td>\n",
              "      <td>-0.001321</td>\n",
              "      <td>0.003467</td>\n",
              "      <td>0.047720</td>\n",
              "      <td>0.008072</td>\n",
              "    </tr>\n",
              "    <tr>\n",
              "      <th>days_listed</th>\n",
              "      <td>-0.000341</td>\n",
              "      <td>0.000781</td>\n",
              "      <td>0.001096</td>\n",
              "      <td>-0.003606</td>\n",
              "      <td>0.005737</td>\n",
              "      <td>0.005043</td>\n",
              "      <td>1.000000</td>\n",
              "      <td>0.001662</td>\n",
              "      <td>-0.009958</td>\n",
              "      <td>0.009031</td>\n",
              "      <td>0.000074</td>\n",
              "      <td>0.003063</td>\n",
              "      <td>0.004683</td>\n",
              "    </tr>\n",
              "    <tr>\n",
              "      <th>dia_semana_propaganda</th>\n",
              "      <td>-0.009650</td>\n",
              "      <td>-0.005116</td>\n",
              "      <td>-0.001911</td>\n",
              "      <td>-0.007399</td>\n",
              "      <td>0.007193</td>\n",
              "      <td>0.002477</td>\n",
              "      <td>0.001662</td>\n",
              "      <td>1.000000</td>\n",
              "      <td>0.006031</td>\n",
              "      <td>-0.007166</td>\n",
              "      <td>0.004442</td>\n",
              "      <td>-0.002871</td>\n",
              "      <td>-0.002806</td>\n",
              "    </tr>\n",
              "    <tr>\n",
              "      <th>mes_propaganda</th>\n",
              "      <td>-0.032378</td>\n",
              "      <td>-0.052693</td>\n",
              "      <td>-0.016342</td>\n",
              "      <td>0.003658</td>\n",
              "      <td>0.036591</td>\n",
              "      <td>0.004222</td>\n",
              "      <td>-0.009958</td>\n",
              "      <td>0.006031</td>\n",
              "      <td>1.000000</td>\n",
              "      <td>-0.822897</td>\n",
              "      <td>-0.025237</td>\n",
              "      <td>0.082383</td>\n",
              "      <td>-0.019546</td>\n",
              "    </tr>\n",
              "    <tr>\n",
              "      <th>ano_propaganda</th>\n",
              "      <td>0.034469</td>\n",
              "      <td>0.057715</td>\n",
              "      <td>0.020731</td>\n",
              "      <td>-0.003930</td>\n",
              "      <td>-0.037114</td>\n",
              "      <td>-0.001321</td>\n",
              "      <td>0.009031</td>\n",
              "      <td>-0.007166</td>\n",
              "      <td>-0.822897</td>\n",
              "      <td>1.000000</td>\n",
              "      <td>0.036992</td>\n",
              "      <td>-0.101254</td>\n",
              "      <td>0.021620</td>\n",
              "    </tr>\n",
              "    <tr>\n",
              "      <th>idade</th>\n",
              "      <td>-0.526466</td>\n",
              "      <td>-0.995515</td>\n",
              "      <td>-0.273848</td>\n",
              "      <td>0.138620</td>\n",
              "      <td>0.557364</td>\n",
              "      <td>0.003467</td>\n",
              "      <td>0.000074</td>\n",
              "      <td>0.004442</td>\n",
              "      <td>-0.025237</td>\n",
              "      <td>0.036992</td>\n",
              "      <td>1.000000</td>\n",
              "      <td>-0.630019</td>\n",
              "      <td>-0.292438</td>\n",
              "    </tr>\n",
              "    <tr>\n",
              "      <th>km_ano</th>\n",
              "      <td>0.281087</td>\n",
              "      <td>0.619814</td>\n",
              "      <td>0.068998</td>\n",
              "      <td>-0.049934</td>\n",
              "      <td>0.083287</td>\n",
              "      <td>0.047720</td>\n",
              "      <td>0.003063</td>\n",
              "      <td>-0.002871</td>\n",
              "      <td>0.082383</td>\n",
              "      <td>-0.101254</td>\n",
              "      <td>-0.630019</td>\n",
              "      <td>1.000000</td>\n",
              "      <td>0.084204</td>\n",
              "    </tr>\n",
              "    <tr>\n",
              "      <th>pricepreco_mod</th>\n",
              "      <td>0.226416</td>\n",
              "      <td>0.294197</td>\n",
              "      <td>0.906773</td>\n",
              "      <td>-0.057223</td>\n",
              "      <td>-0.309374</td>\n",
              "      <td>0.008072</td>\n",
              "      <td>0.004683</td>\n",
              "      <td>-0.002806</td>\n",
              "      <td>-0.019546</td>\n",
              "      <td>0.021620</td>\n",
              "      <td>-0.292438</td>\n",
              "      <td>0.084204</td>\n",
              "      <td>1.000000</td>\n",
              "    </tr>\n",
              "  </tbody>\n",
              "</table>\n",
              "</div>"
            ],
            "text/plain": [
              "                       priceprice  model_year  condition  cylinders  odometer  \\\n",
              "priceprice               1.000000    0.529211   0.205308   0.349841 -0.461142   \n",
              "model_year               0.529211    1.000000   0.275541  -0.138856 -0.560330   \n",
              "condition                0.205308    0.275541   1.000000  -0.064064 -0.310739   \n",
              "cylinders                0.349841   -0.138856  -0.064064   1.000000  0.094481   \n",
              "odometer                -0.461142   -0.560330  -0.310739   0.094481  1.000000   \n",
              "is_4wd                   0.357777   -0.003589   0.014939   0.420485  0.043239   \n",
              "days_listed             -0.000341    0.000781   0.001096  -0.003606  0.005737   \n",
              "dia_semana_propaganda   -0.009650   -0.005116  -0.001911  -0.007399  0.007193   \n",
              "mes_propaganda          -0.032378   -0.052693  -0.016342   0.003658  0.036591   \n",
              "ano_propaganda           0.034469    0.057715   0.020731  -0.003930 -0.037114   \n",
              "idade                   -0.526466   -0.995515  -0.273848   0.138620  0.557364   \n",
              "km_ano                   0.281087    0.619814   0.068998  -0.049934  0.083287   \n",
              "pricepreco_mod           0.226416    0.294197   0.906773  -0.057223 -0.309374   \n",
              "\n",
              "                         is_4wd  days_listed  dia_semana_propaganda  \\\n",
              "priceprice             0.357777    -0.000341              -0.009650   \n",
              "model_year            -0.003589     0.000781              -0.005116   \n",
              "condition              0.014939     0.001096              -0.001911   \n",
              "cylinders              0.420485    -0.003606              -0.007399   \n",
              "odometer               0.043239     0.005737               0.007193   \n",
              "is_4wd                 1.000000     0.005043               0.002477   \n",
              "days_listed            0.005043     1.000000               0.001662   \n",
              "dia_semana_propaganda  0.002477     0.001662               1.000000   \n",
              "mes_propaganda         0.004222    -0.009958               0.006031   \n",
              "ano_propaganda        -0.001321     0.009031              -0.007166   \n",
              "idade                  0.003467     0.000074               0.004442   \n",
              "km_ano                 0.047720     0.003063              -0.002871   \n",
              "pricepreco_mod         0.008072     0.004683              -0.002806   \n",
              "\n",
              "                       mes_propaganda  ano_propaganda     idade    km_ano  \\\n",
              "priceprice                  -0.032378        0.034469 -0.526466  0.281087   \n",
              "model_year                  -0.052693        0.057715 -0.995515  0.619814   \n",
              "condition                   -0.016342        0.020731 -0.273848  0.068998   \n",
              "cylinders                    0.003658       -0.003930  0.138620 -0.049934   \n",
              "odometer                     0.036591       -0.037114  0.557364  0.083287   \n",
              "is_4wd                       0.004222       -0.001321  0.003467  0.047720   \n",
              "days_listed                 -0.009958        0.009031  0.000074  0.003063   \n",
              "dia_semana_propaganda        0.006031       -0.007166  0.004442 -0.002871   \n",
              "mes_propaganda               1.000000       -0.822897 -0.025237  0.082383   \n",
              "ano_propaganda              -0.822897        1.000000  0.036992 -0.101254   \n",
              "idade                       -0.025237        0.036992  1.000000 -0.630019   \n",
              "km_ano                       0.082383       -0.101254 -0.630019  1.000000   \n",
              "pricepreco_mod              -0.019546        0.021620 -0.292438  0.084204   \n",
              "\n",
              "                       pricepreco_mod  \n",
              "priceprice                   0.226416  \n",
              "model_year                   0.294197  \n",
              "condition                    0.906773  \n",
              "cylinders                   -0.057223  \n",
              "odometer                    -0.309374  \n",
              "is_4wd                       0.008072  \n",
              "days_listed                  0.004683  \n",
              "dia_semana_propaganda       -0.002806  \n",
              "mes_propaganda              -0.019546  \n",
              "ano_propaganda               0.021620  \n",
              "idade                       -0.292438  \n",
              "km_ano                       0.084204  \n",
              "pricepreco_mod               1.000000  "
            ]
          },
          "execution_count": 79,
          "metadata": {},
          "output_type": "execute_result"
        }
      ],
      "source": [
        "final_data_novo.corr()"
      ]
    },
    {
      "cell_type": "markdown",
      "metadata": {
        "id": "PbDEtW9sAcTX"
      },
      "source": [
        "## Conclusão geral\n"
      ]
    },
    {
      "cell_type": "markdown",
      "metadata": {
        "id": "neqDO6oiAcTX"
      },
      "source": [
        "O intuito deste projeto é analisar quais são as características dos veículos que podem influenciar no preço dos mesmos.\n",
        "\n",
        "A primeira etapa foi limpar os dados de ausentes e duplicados. Para isso verifiquei dados faltantes nas colunas e suas porcentagens:\n",
        "is_4wd          0.503697\n",
        "paint_color     0.179854\n",
        "odometer        0.153168\n",
        "cylinders       0.102086\n",
        "model_year      0.070238\n",
        "\n",
        "Na coluna is_4wd é de valores booleanos, ou seja, 0(falso) e 1 (verdadeiro), como só foram mostrados valores 1 na coluna, levei em consideração que os valores ausentes eram 0 e substitui dessa forma.\n",
        "Na coluna Odometer considerei que a condição do veículo pode interferir no resultado e por isso reajustei os valores ausentes pela média dos mesmos.\n",
        "Na coluna cylinders levei em conta o tipo de veículo e readequei de acordo com a mediana.\n",
        "Para a coluna model_year, como representam apenas 7% de dados faltantes, resolvi não mexer. O mesmo para coluna paint_color, pois não vi relação óbvia entre a cor do veículo e outros dados.\n",
        "\n",
        "No data frame não tinha dados duplicados!!"
      ]
    },
    {
      "cell_type": "markdown",
      "metadata": {
        "id": "gIz_JDaoAcTX"
      },
      "source": [
        "Após isso verifiquei algumas colunas que considerei mais importantes sobre como estavam a distribuição deles sem um funil.\n",
        "\n",
        "E começei a melhorar os dados, alterando os tipos de dados quando necessários e retirando valores atípicos que poderiam influenciar nossa análise. Criei um novo data frame para esses dados comecei a fazer novas análises, como descrito anteriormente.\n"
      ]
    },
    {
      "cell_type": "markdown",
      "metadata": {
        "id": "v5kER4F7AcTX"
      },
      "source": [
        "Começei a tirar as conclusões, priemiro foi percebido que os tipos de veículos que possuem os maiores preços estão são os \"bus\" e \"truck\". Já os dois que possuem a maior média de dias de propaganda são os veículos considerados \"bus\" e \"offroad\"."
      ]
    },
    {
      "cell_type": "markdown",
      "metadata": {
        "id": "iSKUb_nbAcTX"
      },
      "source": [
        "E sobre os fatores que mais podem impactar o preço do veículo, pela tabela de correlação, podemos citar:\n",
        "model_year - mais atual, maior o valor\n",
        "odometer - menos km rodados, maior o valor\n",
        "idade - menor idade, maior valor\n",
        "\n",
        "E sobre as análises individuais das colunas importantes, expliquei minhas conclusões embaixo de cada gráfico."
      ]
    }
  ],
  "metadata": {
    "ExecuteTimeLog": [
      {
        "duration": 828,
        "start_time": "2021-11-16T09:21:11.304Z"
      },
      {
        "duration": 893,
        "start_time": "2021-11-16T09:21:17.728Z"
      },
      {
        "duration": 1150,
        "start_time": "2021-11-16T09:21:29.568Z"
      },
      {
        "duration": 3,
        "start_time": "2021-11-16T09:24:14.495Z"
      },
      {
        "duration": 120,
        "start_time": "2021-11-16T09:24:46.630Z"
      },
      {
        "duration": 3,
        "start_time": "2021-11-16T09:28:27.882Z"
      },
      {
        "duration": 4,
        "start_time": "2021-11-16T09:29:54.281Z"
      },
      {
        "duration": 3,
        "start_time": "2021-11-16T09:30:45.936Z"
      },
      {
        "duration": 4,
        "start_time": "2021-11-16T09:31:06.300Z"
      },
      {
        "duration": 113,
        "start_time": "2021-11-16T09:31:37.208Z"
      },
      {
        "duration": 143,
        "start_time": "2021-11-16T09:31:48.656Z"
      },
      {
        "duration": 98,
        "start_time": "2021-11-16T09:31:55.678Z"
      },
      {
        "duration": 3,
        "start_time": "2021-11-16T09:32:08.535Z"
      },
      {
        "duration": 111,
        "start_time": "2021-11-16T09:32:10.120Z"
      },
      {
        "duration": 3,
        "start_time": "2021-11-16T09:32:15.732Z"
      },
      {
        "duration": 4,
        "start_time": "2021-11-16T09:32:29.423Z"
      },
      {
        "duration": 3,
        "start_time": "2021-11-16T10:03:03.074Z"
      },
      {
        "duration": 3,
        "start_time": "2021-11-16T10:10:01.288Z"
      },
      {
        "duration": 3,
        "start_time": "2021-11-16T10:10:46.923Z"
      },
      {
        "duration": 121,
        "start_time": "2021-11-16T10:37:46.494Z"
      },
      {
        "duration": 125,
        "start_time": "2021-11-16T10:38:20.632Z"
      },
      {
        "duration": 112,
        "start_time": "2021-11-16T10:46:53.001Z"
      },
      {
        "duration": 110,
        "start_time": "2021-11-16T10:48:25.775Z"
      },
      {
        "duration": 3,
        "start_time": "2021-11-16T10:50:18.720Z"
      },
      {
        "duration": 4,
        "start_time": "2021-11-16T10:50:37.649Z"
      },
      {
        "duration": 2,
        "start_time": "2021-11-16T10:50:51.884Z"
      },
      {
        "duration": 3,
        "start_time": "2021-11-16T10:51:56.237Z"
      },
      {
        "duration": 101,
        "start_time": "2021-11-16T10:53:13.791Z"
      },
      {
        "duration": 3,
        "start_time": "2021-11-16T10:55:59.186Z"
      },
      {
        "duration": 3,
        "start_time": "2021-11-16T10:56:10.751Z"
      },
      {
        "duration": 3,
        "start_time": "2021-11-16T10:56:49.038Z"
      },
      {
        "duration": 3,
        "start_time": "2021-11-16T10:56:49.174Z"
      },
      {
        "duration": 4,
        "start_time": "2021-11-16T10:56:49.414Z"
      },
      {
        "duration": 3,
        "start_time": "2021-11-16T10:56:49.680Z"
      },
      {
        "duration": 3,
        "start_time": "2021-11-16T10:56:50.370Z"
      },
      {
        "duration": 114,
        "start_time": "2021-11-16T10:59:34.518Z"
      },
      {
        "duration": 3,
        "start_time": "2021-11-16T11:01:41.201Z"
      },
      {
        "duration": 116,
        "start_time": "2021-11-16T11:01:48.754Z"
      },
      {
        "duration": 3,
        "start_time": "2021-11-16T11:02:16.685Z"
      },
      {
        "duration": 3,
        "start_time": "2021-11-16T11:02:19.479Z"
      },
      {
        "duration": 3,
        "start_time": "2021-11-16T11:02:47.067Z"
      },
      {
        "duration": 3,
        "start_time": "2021-11-16T11:02:49.353Z"
      },
      {
        "duration": 3,
        "start_time": "2021-11-16T11:03:07.835Z"
      },
      {
        "duration": 3,
        "start_time": "2021-11-16T11:03:07.953Z"
      },
      {
        "duration": 112,
        "start_time": "2021-11-16T11:07:52.072Z"
      },
      {
        "duration": 187,
        "start_time": "2021-11-16T11:09:23.468Z"
      },
      {
        "duration": 4,
        "start_time": "2021-11-16T11:10:01.455Z"
      },
      {
        "duration": 3,
        "start_time": "2021-11-16T11:10:05.069Z"
      },
      {
        "duration": 4,
        "start_time": "2021-11-16T11:10:13.376Z"
      },
      {
        "duration": 3,
        "start_time": "2021-11-16T11:10:14.434Z"
      },
      {
        "duration": 3,
        "start_time": "2021-11-16T11:10:22.853Z"
      },
      {
        "duration": 4,
        "start_time": "2021-11-16T11:27:29.279Z"
      },
      {
        "duration": 4,
        "start_time": "2021-11-16T11:29:08.919Z"
      },
      {
        "duration": 118,
        "start_time": "2021-11-16T11:29:46.703Z"
      },
      {
        "duration": 437,
        "start_time": "2021-11-16T11:36:02.181Z"
      },
      {
        "duration": 157,
        "start_time": "2021-11-16T11:36:14.388Z"
      },
      {
        "duration": 207,
        "start_time": "2021-11-16T11:47:15.898Z"
      },
      {
        "duration": 3,
        "start_time": "2021-11-16T11:53:52.092Z"
      },
      {
        "duration": 3,
        "start_time": "2021-11-16T11:53:52.236Z"
      },
      {
        "duration": 3,
        "start_time": "2021-11-16T11:59:12.005Z"
      },
      {
        "duration": 112,
        "start_time": "2021-11-16T12:00:33.446Z"
      },
      {
        "duration": 3,
        "start_time": "2021-11-16T12:02:14.453Z"
      },
      {
        "duration": 3,
        "start_time": "2021-11-16T12:02:39.512Z"
      },
      {
        "duration": 106,
        "start_time": "2021-11-16T12:03:03.460Z"
      }
    ],
    "kernelspec": {
      "display_name": "Python 3 (ipykernel)",
      "language": "python",
      "name": "python3"
    },
    "language_info": {
      "codemirror_mode": {
        "name": "ipython",
        "version": 3
      },
      "file_extension": ".py",
      "mimetype": "text/x-python",
      "name": "python",
      "nbconvert_exporter": "python",
      "pygments_lexer": "ipython3",
      "version": "3.9.5"
    },
    "toc": {
      "base_numbering": 1,
      "nav_menu": {},
      "number_sections": true,
      "sideBar": true,
      "skip_h1_title": false,
      "title_cell": "Table of Contents",
      "title_sidebar": "Contents",
      "toc_cell": false,
      "toc_position": {
        "height": "calc(100% - 180px)",
        "left": "10px",
        "top": "150px",
        "width": "255.391px"
      },
      "toc_section_display": true,
      "toc_window_display": true
    },
    "colab": {
      "provenance": []
    }
  },
  "nbformat": 4,
  "nbformat_minor": 0
}